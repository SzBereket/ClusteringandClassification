{
 "cells": [
  {
   "cell_type": "code",
   "execution_count": 1,
   "id": "68221ac4",
   "metadata": {},
   "outputs": [
    {
     "name": "stdout",
     "output_type": "stream",
     "text": [
      "Veri setinde 200  gözlem ve 5 kolon bulunmaktadır.\n",
      "Verilerde 0 eksik değer var.\n"
     ]
    },
    {
     "data": {
      "text/html": [
       "<div>\n",
       "<style scoped>\n",
       "    .dataframe tbody tr th:only-of-type {\n",
       "        vertical-align: middle;\n",
       "    }\n",
       "\n",
       "    .dataframe tbody tr th {\n",
       "        vertical-align: top;\n",
       "    }\n",
       "\n",
       "    .dataframe thead th {\n",
       "        text-align: right;\n",
       "    }\n",
       "</style>\n",
       "<table border=\"1\" class=\"dataframe\">\n",
       "  <thead>\n",
       "    <tr style=\"text-align: right;\">\n",
       "      <th></th>\n",
       "      <th>CustomerID</th>\n",
       "      <th>Gender</th>\n",
       "      <th>Age</th>\n",
       "      <th>Annual Income</th>\n",
       "      <th>Spending Score</th>\n",
       "    </tr>\n",
       "  </thead>\n",
       "  <tbody>\n",
       "    <tr>\n",
       "      <th>0</th>\n",
       "      <td>1</td>\n",
       "      <td>Male</td>\n",
       "      <td>19</td>\n",
       "      <td>15</td>\n",
       "      <td>39</td>\n",
       "    </tr>\n",
       "    <tr>\n",
       "      <th>1</th>\n",
       "      <td>2</td>\n",
       "      <td>Male</td>\n",
       "      <td>21</td>\n",
       "      <td>15</td>\n",
       "      <td>81</td>\n",
       "    </tr>\n",
       "    <tr>\n",
       "      <th>2</th>\n",
       "      <td>3</td>\n",
       "      <td>Female</td>\n",
       "      <td>20</td>\n",
       "      <td>16</td>\n",
       "      <td>6</td>\n",
       "    </tr>\n",
       "    <tr>\n",
       "      <th>3</th>\n",
       "      <td>4</td>\n",
       "      <td>Female</td>\n",
       "      <td>23</td>\n",
       "      <td>16</td>\n",
       "      <td>77</td>\n",
       "    </tr>\n",
       "    <tr>\n",
       "      <th>4</th>\n",
       "      <td>5</td>\n",
       "      <td>Female</td>\n",
       "      <td>31</td>\n",
       "      <td>17</td>\n",
       "      <td>40</td>\n",
       "    </tr>\n",
       "  </tbody>\n",
       "</table>\n",
       "</div>"
      ],
      "text/plain": [
       "   CustomerID  Gender  Age  Annual Income  Spending Score\n",
       "0           1    Male   19             15              39\n",
       "1           2    Male   21             15              81\n",
       "2           3  Female   20             16               6\n",
       "3           4  Female   23             16              77\n",
       "4           5  Female   31             17              40"
      ]
     },
     "execution_count": 1,
     "metadata": {},
     "output_type": "execute_result"
    }
   ],
   "source": [
    "import os, warnings\n",
    "warnings.filterwarnings(\"ignore\")\n",
    "import pandas as pd\n",
    "import numpy as np\n",
    "import seaborn as sns\n",
    "import matplotlib.pyplot as plt\n",
    "import plotly.express as px\n",
    "import plotly.graph_objects as go\n",
    "import plotly.figure_factory as ff\n",
    "from plotly.subplots import make_subplots\n",
    "from plotly.offline import plot, iplot, init_notebook_mode\n",
    "from sklearn.preprocessing import StandardScaler, MinMaxScaler\n",
    "from scipy.cluster import hierarchy\n",
    "from sklearn.cluster import KMeans, AgglomerativeClustering, DBSCAN\n",
    "\n",
    "\n",
    "cust = pd.read_csv('Mall_Customers.csv', sep=',')\n",
    "cust.rename(columns={\"Annual Income (k$)\": \"Annual Income\", \"Spending Score (1-100)\": \"Spending Score\"}, inplace=True)\n",
    "print(\"Veri setinde {:,}  gözlem ve {} kolon bulunmaktadır.\".format(cust.shape[0], cust.shape[1]))\n",
    "print(\"Verilerde {} eksik değer var.\".format(cust.isna().sum().sum()))\n",
    "cust.head()"
   ]
  },
  {
   "cell_type": "code",
   "execution_count": 2,
   "id": "b8665db9",
   "metadata": {},
   "outputs": [
    {
     "data": {
      "text/html": [
       "<style type=\"text/css\">\n",
       "</style>\n",
       "<table id=\"T_9176c_\">\n",
       "  <caption>Sayısal Değişkenlerin Özet İstatistikleri</caption>\n",
       "  <thead>\n",
       "    <tr>\n",
       "      <th class=\"blank level0\" >&nbsp;</th>\n",
       "      <th class=\"col_heading level0 col0\" >Age</th>\n",
       "      <th class=\"col_heading level0 col1\" >Annual Income</th>\n",
       "      <th class=\"col_heading level0 col2\" >Spending Score</th>\n",
       "    </tr>\n",
       "  </thead>\n",
       "  <tbody>\n",
       "    <tr>\n",
       "      <th id=\"T_9176c_level0_row0\" class=\"row_heading level0 row0\" >count</th>\n",
       "      <td id=\"T_9176c_row0_col0\" class=\"data row0 col0\" >200.000000</td>\n",
       "      <td id=\"T_9176c_row0_col1\" class=\"data row0 col1\" >200.000000</td>\n",
       "      <td id=\"T_9176c_row0_col2\" class=\"data row0 col2\" >200.000000</td>\n",
       "    </tr>\n",
       "    <tr>\n",
       "      <th id=\"T_9176c_level0_row1\" class=\"row_heading level0 row1\" >mean</th>\n",
       "      <td id=\"T_9176c_row1_col0\" class=\"data row1 col0\" >38.850000</td>\n",
       "      <td id=\"T_9176c_row1_col1\" class=\"data row1 col1\" >60.560000</td>\n",
       "      <td id=\"T_9176c_row1_col2\" class=\"data row1 col2\" >50.200000</td>\n",
       "    </tr>\n",
       "    <tr>\n",
       "      <th id=\"T_9176c_level0_row2\" class=\"row_heading level0 row2\" >std</th>\n",
       "      <td id=\"T_9176c_row2_col0\" class=\"data row2 col0\" >13.969007</td>\n",
       "      <td id=\"T_9176c_row2_col1\" class=\"data row2 col1\" >26.264721</td>\n",
       "      <td id=\"T_9176c_row2_col2\" class=\"data row2 col2\" >25.823522</td>\n",
       "    </tr>\n",
       "    <tr>\n",
       "      <th id=\"T_9176c_level0_row3\" class=\"row_heading level0 row3\" >min</th>\n",
       "      <td id=\"T_9176c_row3_col0\" class=\"data row3 col0\" >18.000000</td>\n",
       "      <td id=\"T_9176c_row3_col1\" class=\"data row3 col1\" >15.000000</td>\n",
       "      <td id=\"T_9176c_row3_col2\" class=\"data row3 col2\" >1.000000</td>\n",
       "    </tr>\n",
       "    <tr>\n",
       "      <th id=\"T_9176c_level0_row4\" class=\"row_heading level0 row4\" >25%</th>\n",
       "      <td id=\"T_9176c_row4_col0\" class=\"data row4 col0\" >28.750000</td>\n",
       "      <td id=\"T_9176c_row4_col1\" class=\"data row4 col1\" >41.500000</td>\n",
       "      <td id=\"T_9176c_row4_col2\" class=\"data row4 col2\" >34.750000</td>\n",
       "    </tr>\n",
       "    <tr>\n",
       "      <th id=\"T_9176c_level0_row5\" class=\"row_heading level0 row5\" >50%</th>\n",
       "      <td id=\"T_9176c_row5_col0\" class=\"data row5 col0\" >36.000000</td>\n",
       "      <td id=\"T_9176c_row5_col1\" class=\"data row5 col1\" >61.500000</td>\n",
       "      <td id=\"T_9176c_row5_col2\" class=\"data row5 col2\" >50.000000</td>\n",
       "    </tr>\n",
       "    <tr>\n",
       "      <th id=\"T_9176c_level0_row6\" class=\"row_heading level0 row6\" >75%</th>\n",
       "      <td id=\"T_9176c_row6_col0\" class=\"data row6 col0\" >49.000000</td>\n",
       "      <td id=\"T_9176c_row6_col1\" class=\"data row6 col1\" >78.000000</td>\n",
       "      <td id=\"T_9176c_row6_col2\" class=\"data row6 col2\" >73.000000</td>\n",
       "    </tr>\n",
       "    <tr>\n",
       "      <th id=\"T_9176c_level0_row7\" class=\"row_heading level0 row7\" >max</th>\n",
       "      <td id=\"T_9176c_row7_col0\" class=\"data row7 col0\" >70.000000</td>\n",
       "      <td id=\"T_9176c_row7_col1\" class=\"data row7 col1\" >137.000000</td>\n",
       "      <td id=\"T_9176c_row7_col2\" class=\"data row7 col2\" >99.000000</td>\n",
       "    </tr>\n",
       "  </tbody>\n",
       "</table>\n"
      ],
      "text/plain": [
       "<pandas.io.formats.style.Styler at 0x2120e16f190>"
      ]
     },
     "execution_count": 2,
     "metadata": {},
     "output_type": "execute_result"
    }
   ],
   "source": [
    "cust.drop('CustomerID', axis=1, inplace=True)\n",
    "pd.DataFrame(cust.describe()).style.set_caption(\"Sayısal Değişkenlerin Özet İstatistikleri\")"
   ]
  },
  {
   "cell_type": "code",
   "execution_count": 3,
   "id": "0431af47",
   "metadata": {},
   "outputs": [
    {
     "data": {
      "text/html": [
       "<style type=\"text/css\">\n",
       "</style>\n",
       "<table id=\"T_aed4b_\">\n",
       "  <caption>Summary Statistics of Categorical Variables</caption>\n",
       "  <thead>\n",
       "    <tr>\n",
       "      <th class=\"blank level0\" >&nbsp;</th>\n",
       "      <th class=\"col_heading level0 col0\" >count</th>\n",
       "      <th class=\"col_heading level0 col1\" >unique</th>\n",
       "      <th class=\"col_heading level0 col2\" >top</th>\n",
       "      <th class=\"col_heading level0 col3\" >freq</th>\n",
       "    </tr>\n",
       "  </thead>\n",
       "  <tbody>\n",
       "    <tr>\n",
       "      <th id=\"T_aed4b_level0_row0\" class=\"row_heading level0 row0\" >Gender</th>\n",
       "      <td id=\"T_aed4b_row0_col0\" class=\"data row0 col0\" >200</td>\n",
       "      <td id=\"T_aed4b_row0_col1\" class=\"data row0 col1\" >2</td>\n",
       "      <td id=\"T_aed4b_row0_col2\" class=\"data row0 col2\" >Women</td>\n",
       "      <td id=\"T_aed4b_row0_col3\" class=\"data row0 col3\" >112</td>\n",
       "    </tr>\n",
       "  </tbody>\n",
       "</table>\n"
      ],
      "text/plain": [
       "<pandas.io.formats.style.Styler at 0x2120e32a040>"
      ]
     },
     "execution_count": 3,
     "metadata": {},
     "output_type": "execute_result"
    }
   ],
   "source": [
    "cust['Gender'] = ['Women' if i == 'Female' else 'Men' for i in cust.Gender]\n",
    "pd.DataFrame(cust.select_dtypes('object').describe().T).style.set_caption(\"Summary Statistics of Categorical Variables\")"
   ]
  },
  {
   "cell_type": "code",
   "execution_count": 11,
   "id": "545a63b7",
   "metadata": {},
   "outputs": [
    {
     "data": {
      "text/html": [
       "        <script type=\"text/javascript\">\n",
       "        window.PlotlyConfig = {MathJaxConfig: 'local'};\n",
       "        if (window.MathJax && window.MathJax.Hub && window.MathJax.Hub.Config) {window.MathJax.Hub.Config({SVG: {font: \"STIX-Web\"}});}\n",
       "        if (typeof require !== 'undefined') {\n",
       "        require.undef(\"plotly\");\n",
       "        requirejs.config({\n",
       "            paths: {\n",
       "                'plotly': ['https://cdn.plot.ly/plotly-2.20.0.min']\n",
       "            }\n",
       "        });\n",
       "        require(['plotly'], function(Plotly) {\n",
       "            window._Plotly = Plotly;\n",
       "        });\n",
       "        }\n",
       "        </script>\n",
       "        "
      ]
     },
     "metadata": {},
     "output_type": "display_data"
    },
    {
     "data": {
      "application/vnd.plotly.v1+json": {
       "config": {
        "plotlyServerURL": "https://plot.ly"
       },
       "data": [
        {
         "histnorm": "probability density",
         "marker": {
          "color": "#508B8D",
          "line": {
           "color": "#000000",
           "width": 1
          },
          "opacity": 0.7
         },
         "name": "Men",
         "nbinsx": 20,
         "type": "histogram",
         "x": [
          19,
          21,
          64,
          67,
          37,
          22,
          20,
          52,
          35,
          25,
          31,
          29,
          35,
          60,
          53,
          18,
          24,
          48,
          33,
          59,
          47,
          69,
          53,
          70,
          19,
          63,
          18,
          19,
          70,
          59,
          26,
          40,
          57,
          38,
          67,
          48,
          18,
          48,
          24,
          48,
          20,
          67,
          26,
          49,
          54,
          68,
          66,
          65,
          19,
          27,
          39,
          43,
          40,
          59,
          38,
          47,
          39,
          20,
          32,
          19,
          32,
          25,
          28,
          48,
          34,
          43,
          39,
          37,
          34,
          19,
          50,
          42,
          32,
          40,
          28,
          36,
          36,
          58,
          27,
          59,
          35,
          46,
          30,
          28,
          33,
          32,
          32,
          30
         ],
         "xaxis": "x",
         "yaxis": "y"
        },
        {
         "histnorm": "probability density",
         "marker": {
          "color": "#F3D6CB",
          "line": {
           "color": "#000000",
           "width": 1
          },
          "opacity": 0.7
         },
         "name": "Women",
         "nbinsx": 20,
         "type": "histogram",
         "x": [
          20,
          23,
          31,
          22,
          35,
          23,
          30,
          35,
          58,
          24,
          35,
          35,
          46,
          54,
          45,
          40,
          23,
          21,
          49,
          21,
          42,
          30,
          36,
          20,
          65,
          31,
          49,
          24,
          50,
          27,
          29,
          31,
          49,
          31,
          50,
          51,
          27,
          67,
          54,
          43,
          68,
          32,
          47,
          60,
          60,
          45,
          23,
          49,
          46,
          21,
          55,
          22,
          34,
          50,
          68,
          40,
          32,
          47,
          27,
          23,
          49,
          21,
          66,
          19,
          38,
          18,
          19,
          63,
          49,
          51,
          50,
          38,
          40,
          23,
          31,
          25,
          31,
          29,
          44,
          35,
          57,
          28,
          32,
          32,
          34,
          44,
          38,
          47,
          27,
          30,
          30,
          56,
          29,
          31,
          36,
          33,
          36,
          52,
          30,
          37,
          32,
          29,
          41,
          54,
          41,
          36,
          34,
          32,
          38,
          47,
          35,
          45
         ],
         "xaxis": "x",
         "yaxis": "y"
        },
        {
         "hovertemplate": "Average Age Among %{x} = %{y} years<extra></extra>",
         "marker": {
          "color": [
           "#508B8D",
           "#F0CABD"
          ],
          "line": {
           "color": "#000000",
           "width": 1
          },
          "opacity": 0.8
         },
         "showlegend": false,
         "text": [
          40,
          38
         ],
         "textposition": "outside",
         "texttemplate": "%{text} years",
         "type": "bar",
         "width": 0.8,
         "x": [
          "Men",
          "Women"
         ],
         "xaxis": "x2",
         "y": [
          40,
          38
         ],
         "yaxis": "y2"
        },
        {
         "histnorm": "probability density",
         "marker": {
          "color": "#508B8D",
          "line": {
           "color": "#000000",
           "width": 1
          }
         },
         "name": "Men",
         "nbinsx": 20,
         "opacity": 0.7,
         "showlegend": false,
         "type": "histogram",
         "x": [
          15000,
          15000,
          19000,
          19000,
          20000,
          20000,
          21000,
          23000,
          24000,
          24000,
          25000,
          28000,
          28000,
          30000,
          33000,
          33000,
          38000,
          39000,
          42000,
          43000,
          43000,
          44000,
          46000,
          46000,
          46000,
          48000,
          48000,
          48000,
          49000,
          54000,
          54000,
          54000,
          54000,
          54000,
          54000,
          54000,
          59000,
          60000,
          60000,
          61000,
          61000,
          62000,
          62000,
          62000,
          63000,
          63000,
          63000,
          63000,
          64000,
          67000,
          69000,
          71000,
          71000,
          71000,
          71000,
          71000,
          71000,
          73000,
          73000,
          74000,
          75000,
          77000,
          77000,
          77000,
          78000,
          78000,
          78000,
          78000,
          78000,
          81000,
          85000,
          86000,
          87000,
          87000,
          87000,
          87000,
          87000,
          88000,
          88000,
          93000,
          93000,
          98000,
          99000,
          101000,
          113000,
          126000,
          137000,
          137000
         ],
         "xaxis": "x3",
         "yaxis": "y3"
        },
        {
         "histnorm": "probability density",
         "marker": {
          "color": "#F3D6CB",
          "line": {
           "color": "#000000",
           "width": 1
          }
         },
         "name": "Women",
         "nbinsx": 20,
         "opacity": 0.7,
         "showlegend": false,
         "type": "histogram",
         "x": [
          16000,
          16000,
          17000,
          17000,
          18000,
          18000,
          19000,
          19000,
          20000,
          20000,
          21000,
          23000,
          25000,
          28000,
          28000,
          29000,
          29000,
          30000,
          33000,
          33000,
          34000,
          34000,
          37000,
          37000,
          38000,
          39000,
          39000,
          39000,
          40000,
          40000,
          40000,
          40000,
          42000,
          43000,
          43000,
          44000,
          46000,
          47000,
          47000,
          48000,
          48000,
          48000,
          49000,
          50000,
          50000,
          54000,
          54000,
          54000,
          54000,
          54000,
          57000,
          57000,
          58000,
          58000,
          59000,
          60000,
          60000,
          60000,
          60000,
          62000,
          62000,
          62000,
          63000,
          63000,
          64000,
          65000,
          65000,
          65000,
          65000,
          67000,
          67000,
          67000,
          69000,
          70000,
          70000,
          72000,
          72000,
          73000,
          73000,
          74000,
          75000,
          76000,
          76000,
          77000,
          78000,
          78000,
          78000,
          78000,
          78000,
          78000,
          78000,
          79000,
          79000,
          81000,
          85000,
          86000,
          87000,
          88000,
          88000,
          97000,
          97000,
          98000,
          99000,
          101000,
          103000,
          103000,
          103000,
          103000,
          113000,
          120000,
          120000,
          126000
         ],
         "xaxis": "x3",
         "yaxis": "y3"
        },
        {
         "hovertemplate": "Average Income Among %{x} = $%{y}<extra></extra>",
         "marker": {
          "color": [
           "#508B8D",
           "#F0CABD"
          ],
          "line": {
           "color": "#000000",
           "width": 1
          },
          "opacity": 0.8
         },
         "showlegend": false,
         "text": [
          62227.27272727273,
          59250
         ],
         "textposition": "outside",
         "texttemplate": "$%{text:,.0f}",
         "type": "bar",
         "width": 0.8,
         "x": [
          "Men",
          "Women"
         ],
         "xaxis": "x4",
         "y": [
          62227.27272727273,
          59250
         ],
         "yaxis": "y4"
        },
        {
         "histnorm": "probability density",
         "marker": {
          "color": "#508B8D",
          "line": {
           "color": "#000000",
           "width": 1
          }
         },
         "name": "Men",
         "nbinsx": 20,
         "opacity": 0.7,
         "showlegend": false,
         "type": "histogram",
         "x": [
          39,
          81,
          3,
          14,
          13,
          79,
          66,
          29,
          35,
          73,
          73,
          82,
          61,
          4,
          4,
          92,
          92,
          36,
          60,
          60,
          41,
          46,
          46,
          56,
          55,
          51,
          59,
          59,
          55,
          47,
          54,
          48,
          51,
          55,
          41,
          46,
          41,
          49,
          52,
          42,
          49,
          59,
          55,
          56,
          46,
          43,
          48,
          52,
          46,
          56,
          91,
          35,
          95,
          11,
          75,
          9,
          75,
          5,
          73,
          10,
          93,
          12,
          97,
          36,
          90,
          17,
          88,
          1,
          1,
          5,
          26,
          20,
          63,
          13,
          75,
          10,
          92,
          15,
          69,
          14,
          90,
          15,
          97,
          68,
          8,
          74,
          18,
          83
         ],
         "xaxis": "x5",
         "yaxis": "y5"
        },
        {
         "histnorm": "probability density",
         "marker": {
          "color": "#F3D6CB",
          "line": {
           "color": "#000000",
           "width": 1
          }
         },
         "name": "Women",
         "nbinsx": 20,
         "opacity": 0.7,
         "showlegend": false,
         "type": "histogram",
         "x": [
          6,
          77,
          40,
          76,
          6,
          94,
          72,
          99,
          15,
          77,
          35,
          98,
          5,
          14,
          32,
          31,
          87,
          73,
          14,
          81,
          17,
          73,
          26,
          75,
          35,
          61,
          28,
          65,
          55,
          47,
          42,
          42,
          52,
          54,
          45,
          50,
          51,
          52,
          59,
          50,
          48,
          47,
          42,
          49,
          56,
          53,
          52,
          42,
          44,
          57,
          58,
          55,
          60,
          46,
          55,
          40,
          42,
          47,
          50,
          41,
          48,
          42,
          50,
          54,
          42,
          48,
          50,
          43,
          59,
          43,
          57,
          40,
          58,
          29,
          77,
          34,
          71,
          88,
          7,
          72,
          5,
          40,
          87,
          74,
          22,
          20,
          76,
          16,
          89,
          78,
          73,
          35,
          83,
          93,
          75,
          95,
          27,
          13,
          86,
          32,
          86,
          88,
          39,
          24,
          17,
          85,
          23,
          69,
          91,
          16,
          79,
          28
         ],
         "xaxis": "x5",
         "yaxis": "y5"
        },
        {
         "hovertemplate": "Average Spending Score Among %{x} = %{y}<extra></extra>",
         "marker": {
          "color": [
           "#508B8D",
           "#F0CABD"
          ],
          "line": {
           "color": "#000000",
           "width": 1
          },
          "opacity": 0.8
         },
         "showlegend": false,
         "text": [
          49,
          52
         ],
         "textposition": "outside",
         "texttemplate": "%{text}",
         "type": "bar",
         "width": 0.8,
         "x": [
          "Men",
          "Women"
         ],
         "xaxis": "x6",
         "y": [
          49,
          52
         ],
         "yaxis": "y6"
        }
       ],
       "layout": {
        "annotations": [
         {
          "font": {
           "size": 16
          },
          "showarrow": false,
          "text": "Yaşın Cinsiyete Göre Dağılımı",
          "x": 0.225,
          "xanchor": "center",
          "xref": "paper",
          "y": 1,
          "yanchor": "bottom",
          "yref": "paper"
         },
         {
          "font": {
           "size": 16
          },
          "showarrow": false,
          "text": "Müşterilerin Ortalama Yaşı",
          "x": 0.775,
          "xanchor": "center",
          "xref": "paper",
          "y": 1,
          "yanchor": "bottom",
          "yref": "paper"
         },
         {
          "font": {
           "size": 16
          },
          "showarrow": false,
          "text": "Cinsiyete Göre Gelir Dağılımı",
          "x": 0.225,
          "xanchor": "center",
          "xref": "paper",
          "y": 0.6111111111111112,
          "yanchor": "bottom",
          "yref": "paper"
         },
         {
          "font": {
           "size": 16
          },
          "showarrow": false,
          "text": "Müşteriler Ortalama Gelir",
          "x": 0.775,
          "xanchor": "center",
          "xref": "paper",
          "y": 0.6111111111111112,
          "yanchor": "bottom",
          "yref": "paper"
         },
         {
          "font": {
           "size": 16
          },
          "showarrow": false,
          "text": "Harcamaların Cinsiyete Göre Dağılımı",
          "x": 0.225,
          "xanchor": "center",
          "xref": "paper",
          "y": 0.22222222222222224,
          "yanchor": "bottom",
          "yref": "paper"
         },
         {
          "font": {
           "size": 16
          },
          "showarrow": false,
          "text": "Müşterilerin Ortalama Harcaması",
          "x": 0.775,
          "xanchor": "center",
          "xref": "paper",
          "y": 0.22222222222222224,
          "yanchor": "bottom",
          "yref": "paper"
         }
        ],
        "barmode": "overlay",
        "height": 1500,
        "legend": {
         "orientation": "h",
         "x": 0.97,
         "xanchor": "right",
         "y": 1.03,
         "yanchor": "bottom"
        },
        "template": {
         "data": {
          "bar": [
           {
            "error_x": {
             "color": "#2a3f5f"
            },
            "error_y": {
             "color": "#2a3f5f"
            },
            "marker": {
             "line": {
              "color": "#E5ECF6",
              "width": 0.5
             },
             "pattern": {
              "fillmode": "overlay",
              "size": 10,
              "solidity": 0.2
             }
            },
            "type": "bar"
           }
          ],
          "barpolar": [
           {
            "marker": {
             "line": {
              "color": "#E5ECF6",
              "width": 0.5
             },
             "pattern": {
              "fillmode": "overlay",
              "size": 10,
              "solidity": 0.2
             }
            },
            "type": "barpolar"
           }
          ],
          "carpet": [
           {
            "aaxis": {
             "endlinecolor": "#2a3f5f",
             "gridcolor": "white",
             "linecolor": "white",
             "minorgridcolor": "white",
             "startlinecolor": "#2a3f5f"
            },
            "baxis": {
             "endlinecolor": "#2a3f5f",
             "gridcolor": "white",
             "linecolor": "white",
             "minorgridcolor": "white",
             "startlinecolor": "#2a3f5f"
            },
            "type": "carpet"
           }
          ],
          "choropleth": [
           {
            "colorbar": {
             "outlinewidth": 0,
             "ticks": ""
            },
            "type": "choropleth"
           }
          ],
          "contour": [
           {
            "colorbar": {
             "outlinewidth": 0,
             "ticks": ""
            },
            "colorscale": [
             [
              0,
              "#0d0887"
             ],
             [
              0.1111111111111111,
              "#46039f"
             ],
             [
              0.2222222222222222,
              "#7201a8"
             ],
             [
              0.3333333333333333,
              "#9c179e"
             ],
             [
              0.4444444444444444,
              "#bd3786"
             ],
             [
              0.5555555555555556,
              "#d8576b"
             ],
             [
              0.6666666666666666,
              "#ed7953"
             ],
             [
              0.7777777777777778,
              "#fb9f3a"
             ],
             [
              0.8888888888888888,
              "#fdca26"
             ],
             [
              1,
              "#f0f921"
             ]
            ],
            "type": "contour"
           }
          ],
          "contourcarpet": [
           {
            "colorbar": {
             "outlinewidth": 0,
             "ticks": ""
            },
            "type": "contourcarpet"
           }
          ],
          "heatmap": [
           {
            "colorbar": {
             "outlinewidth": 0,
             "ticks": ""
            },
            "colorscale": [
             [
              0,
              "#0d0887"
             ],
             [
              0.1111111111111111,
              "#46039f"
             ],
             [
              0.2222222222222222,
              "#7201a8"
             ],
             [
              0.3333333333333333,
              "#9c179e"
             ],
             [
              0.4444444444444444,
              "#bd3786"
             ],
             [
              0.5555555555555556,
              "#d8576b"
             ],
             [
              0.6666666666666666,
              "#ed7953"
             ],
             [
              0.7777777777777778,
              "#fb9f3a"
             ],
             [
              0.8888888888888888,
              "#fdca26"
             ],
             [
              1,
              "#f0f921"
             ]
            ],
            "type": "heatmap"
           }
          ],
          "heatmapgl": [
           {
            "colorbar": {
             "outlinewidth": 0,
             "ticks": ""
            },
            "colorscale": [
             [
              0,
              "#0d0887"
             ],
             [
              0.1111111111111111,
              "#46039f"
             ],
             [
              0.2222222222222222,
              "#7201a8"
             ],
             [
              0.3333333333333333,
              "#9c179e"
             ],
             [
              0.4444444444444444,
              "#bd3786"
             ],
             [
              0.5555555555555556,
              "#d8576b"
             ],
             [
              0.6666666666666666,
              "#ed7953"
             ],
             [
              0.7777777777777778,
              "#fb9f3a"
             ],
             [
              0.8888888888888888,
              "#fdca26"
             ],
             [
              1,
              "#f0f921"
             ]
            ],
            "type": "heatmapgl"
           }
          ],
          "histogram": [
           {
            "marker": {
             "pattern": {
              "fillmode": "overlay",
              "size": 10,
              "solidity": 0.2
             }
            },
            "type": "histogram"
           }
          ],
          "histogram2d": [
           {
            "colorbar": {
             "outlinewidth": 0,
             "ticks": ""
            },
            "colorscale": [
             [
              0,
              "#0d0887"
             ],
             [
              0.1111111111111111,
              "#46039f"
             ],
             [
              0.2222222222222222,
              "#7201a8"
             ],
             [
              0.3333333333333333,
              "#9c179e"
             ],
             [
              0.4444444444444444,
              "#bd3786"
             ],
             [
              0.5555555555555556,
              "#d8576b"
             ],
             [
              0.6666666666666666,
              "#ed7953"
             ],
             [
              0.7777777777777778,
              "#fb9f3a"
             ],
             [
              0.8888888888888888,
              "#fdca26"
             ],
             [
              1,
              "#f0f921"
             ]
            ],
            "type": "histogram2d"
           }
          ],
          "histogram2dcontour": [
           {
            "colorbar": {
             "outlinewidth": 0,
             "ticks": ""
            },
            "colorscale": [
             [
              0,
              "#0d0887"
             ],
             [
              0.1111111111111111,
              "#46039f"
             ],
             [
              0.2222222222222222,
              "#7201a8"
             ],
             [
              0.3333333333333333,
              "#9c179e"
             ],
             [
              0.4444444444444444,
              "#bd3786"
             ],
             [
              0.5555555555555556,
              "#d8576b"
             ],
             [
              0.6666666666666666,
              "#ed7953"
             ],
             [
              0.7777777777777778,
              "#fb9f3a"
             ],
             [
              0.8888888888888888,
              "#fdca26"
             ],
             [
              1,
              "#f0f921"
             ]
            ],
            "type": "histogram2dcontour"
           }
          ],
          "mesh3d": [
           {
            "colorbar": {
             "outlinewidth": 0,
             "ticks": ""
            },
            "type": "mesh3d"
           }
          ],
          "parcoords": [
           {
            "line": {
             "colorbar": {
              "outlinewidth": 0,
              "ticks": ""
             }
            },
            "type": "parcoords"
           }
          ],
          "pie": [
           {
            "automargin": true,
            "type": "pie"
           }
          ],
          "scatter": [
           {
            "fillpattern": {
             "fillmode": "overlay",
             "size": 10,
             "solidity": 0.2
            },
            "type": "scatter"
           }
          ],
          "scatter3d": [
           {
            "line": {
             "colorbar": {
              "outlinewidth": 0,
              "ticks": ""
             }
            },
            "marker": {
             "colorbar": {
              "outlinewidth": 0,
              "ticks": ""
             }
            },
            "type": "scatter3d"
           }
          ],
          "scattercarpet": [
           {
            "marker": {
             "colorbar": {
              "outlinewidth": 0,
              "ticks": ""
             }
            },
            "type": "scattercarpet"
           }
          ],
          "scattergeo": [
           {
            "marker": {
             "colorbar": {
              "outlinewidth": 0,
              "ticks": ""
             }
            },
            "type": "scattergeo"
           }
          ],
          "scattergl": [
           {
            "marker": {
             "colorbar": {
              "outlinewidth": 0,
              "ticks": ""
             }
            },
            "type": "scattergl"
           }
          ],
          "scattermapbox": [
           {
            "marker": {
             "colorbar": {
              "outlinewidth": 0,
              "ticks": ""
             }
            },
            "type": "scattermapbox"
           }
          ],
          "scatterpolar": [
           {
            "marker": {
             "colorbar": {
              "outlinewidth": 0,
              "ticks": ""
             }
            },
            "type": "scatterpolar"
           }
          ],
          "scatterpolargl": [
           {
            "marker": {
             "colorbar": {
              "outlinewidth": 0,
              "ticks": ""
             }
            },
            "type": "scatterpolargl"
           }
          ],
          "scatterternary": [
           {
            "marker": {
             "colorbar": {
              "outlinewidth": 0,
              "ticks": ""
             }
            },
            "type": "scatterternary"
           }
          ],
          "surface": [
           {
            "colorbar": {
             "outlinewidth": 0,
             "ticks": ""
            },
            "colorscale": [
             [
              0,
              "#0d0887"
             ],
             [
              0.1111111111111111,
              "#46039f"
             ],
             [
              0.2222222222222222,
              "#7201a8"
             ],
             [
              0.3333333333333333,
              "#9c179e"
             ],
             [
              0.4444444444444444,
              "#bd3786"
             ],
             [
              0.5555555555555556,
              "#d8576b"
             ],
             [
              0.6666666666666666,
              "#ed7953"
             ],
             [
              0.7777777777777778,
              "#fb9f3a"
             ],
             [
              0.8888888888888888,
              "#fdca26"
             ],
             [
              1,
              "#f0f921"
             ]
            ],
            "type": "surface"
           }
          ],
          "table": [
           {
            "cells": {
             "fill": {
              "color": "#EBF0F8"
             },
             "line": {
              "color": "white"
             }
            },
            "header": {
             "fill": {
              "color": "#C8D4E3"
             },
             "line": {
              "color": "white"
             }
            },
            "type": "table"
           }
          ]
         },
         "layout": {
          "font": {
           "family": "Franklin Gothic",
           "size": 12
          }
         }
        },
        "width": 700,
        "xaxis": {
         "anchor": "y",
         "domain": [
          0,
          0.45
         ],
         "title": {
          "text": "Yaş"
         }
        },
        "xaxis2": {
         "anchor": "y2",
         "domain": [
          0.55,
          1
         ],
         "title": {
          "text": "Cinsiyet"
         }
        },
        "xaxis3": {
         "anchor": "y3",
         "domain": [
          0,
          0.45
         ],
         "title": {
          "text": "Yıllık Gelir, $"
         }
        },
        "xaxis4": {
         "anchor": "y4",
         "domain": [
          0.55,
          1
         ],
         "title": {
          "text": "Cinsiyet"
         }
        },
        "xaxis5": {
         "anchor": "y5",
         "domain": [
          0,
          0.45
         ],
         "title": {
          "text": "Harcama Puanı"
         }
        },
        "xaxis6": {
         "anchor": "y6",
         "domain": [
          0.55,
          1
         ],
         "title": {
          "text": "Cinsiyet"
         }
        },
        "yaxis": {
         "anchor": "x",
         "domain": [
          0.7777777777777778,
          1
         ],
         "title": {
          "text": "Olasılık Yoğunluğu"
         }
        },
        "yaxis2": {
         "anchor": "x2",
         "domain": [
          0.7777777777777778,
          1
         ],
         "range": [
          0,
          45
         ],
         "title": {
          "text": "Age"
         }
        },
        "yaxis3": {
         "anchor": "x3",
         "domain": [
          0.3888888888888889,
          0.6111111111111112
         ],
         "title": {
          "text": "Olasılık Yoğunluğu"
         }
        },
        "yaxis4": {
         "anchor": "x4",
         "domain": [
          0.3888888888888889,
          0.6111111111111112
         ],
         "range": [
          0,
          69000
         ],
         "title": {
          "text": "Yıllık Gelir, $"
         }
        },
        "yaxis5": {
         "anchor": "x5",
         "domain": [
          0,
          0.22222222222222224
         ],
         "title": {
          "text": "Olasılık Yoğunluğu"
         }
        },
        "yaxis6": {
         "anchor": "x6",
         "domain": [
          0,
          0.22222222222222224
         ],
         "range": [
          0,
          59
         ],
         "title": {
          "text": "Harcama Puanı"
         }
        }
       }
      },
      "text/html": [
       "<div>                            <div id=\"7e94edf9-e8f5-468a-b1d0-52693783bf20\" class=\"plotly-graph-div\" style=\"height:1500px; width:700px;\"></div>            <script type=\"text/javascript\">                require([\"plotly\"], function(Plotly) {                    window.PLOTLYENV=window.PLOTLYENV || {};                                    if (document.getElementById(\"7e94edf9-e8f5-468a-b1d0-52693783bf20\")) {                    Plotly.newPlot(                        \"7e94edf9-e8f5-468a-b1d0-52693783bf20\",                        [{\"histnorm\":\"probability density\",\"marker\":{\"color\":\"#508B8D\",\"line\":{\"color\":\"#000000\",\"width\":1},\"opacity\":0.7},\"name\":\"Men\",\"nbinsx\":20,\"x\":[19,21,64,67,37,22,20,52,35,25,31,29,35,60,53,18,24,48,33,59,47,69,53,70,19,63,18,19,70,59,26,40,57,38,67,48,18,48,24,48,20,67,26,49,54,68,66,65,19,27,39,43,40,59,38,47,39,20,32,19,32,25,28,48,34,43,39,37,34,19,50,42,32,40,28,36,36,58,27,59,35,46,30,28,33,32,32,30],\"type\":\"histogram\",\"xaxis\":\"x\",\"yaxis\":\"y\"},{\"histnorm\":\"probability density\",\"marker\":{\"color\":\"#F3D6CB\",\"line\":{\"color\":\"#000000\",\"width\":1},\"opacity\":0.7},\"name\":\"Women\",\"nbinsx\":20,\"x\":[20,23,31,22,35,23,30,35,58,24,35,35,46,54,45,40,23,21,49,21,42,30,36,20,65,31,49,24,50,27,29,31,49,31,50,51,27,67,54,43,68,32,47,60,60,45,23,49,46,21,55,22,34,50,68,40,32,47,27,23,49,21,66,19,38,18,19,63,49,51,50,38,40,23,31,25,31,29,44,35,57,28,32,32,34,44,38,47,27,30,30,56,29,31,36,33,36,52,30,37,32,29,41,54,41,36,34,32,38,47,35,45],\"type\":\"histogram\",\"xaxis\":\"x\",\"yaxis\":\"y\"},{\"hovertemplate\":\"Average Age Among %{x} = %{y} years<extra></extra>\",\"marker\":{\"color\":[\"#508B8D\",\"#F0CABD\"],\"opacity\":0.8,\"line\":{\"color\":\"#000000\",\"width\":1}},\"showlegend\":false,\"text\":[40.0,38.0],\"textposition\":\"outside\",\"texttemplate\":\"%{text} years\",\"width\":0.8,\"x\":[\"Men\",\"Women\"],\"y\":[40,38],\"type\":\"bar\",\"xaxis\":\"x2\",\"yaxis\":\"y2\"},{\"histnorm\":\"probability density\",\"marker\":{\"color\":\"#508B8D\",\"line\":{\"color\":\"#000000\",\"width\":1}},\"name\":\"Men\",\"nbinsx\":20,\"opacity\":0.7,\"showlegend\":false,\"x\":[15000,15000,19000,19000,20000,20000,21000,23000,24000,24000,25000,28000,28000,30000,33000,33000,38000,39000,42000,43000,43000,44000,46000,46000,46000,48000,48000,48000,49000,54000,54000,54000,54000,54000,54000,54000,59000,60000,60000,61000,61000,62000,62000,62000,63000,63000,63000,63000,64000,67000,69000,71000,71000,71000,71000,71000,71000,73000,73000,74000,75000,77000,77000,77000,78000,78000,78000,78000,78000,81000,85000,86000,87000,87000,87000,87000,87000,88000,88000,93000,93000,98000,99000,101000,113000,126000,137000,137000],\"type\":\"histogram\",\"xaxis\":\"x3\",\"yaxis\":\"y3\"},{\"histnorm\":\"probability density\",\"marker\":{\"color\":\"#F3D6CB\",\"line\":{\"color\":\"#000000\",\"width\":1}},\"name\":\"Women\",\"nbinsx\":20,\"opacity\":0.7,\"showlegend\":false,\"x\":[16000,16000,17000,17000,18000,18000,19000,19000,20000,20000,21000,23000,25000,28000,28000,29000,29000,30000,33000,33000,34000,34000,37000,37000,38000,39000,39000,39000,40000,40000,40000,40000,42000,43000,43000,44000,46000,47000,47000,48000,48000,48000,49000,50000,50000,54000,54000,54000,54000,54000,57000,57000,58000,58000,59000,60000,60000,60000,60000,62000,62000,62000,63000,63000,64000,65000,65000,65000,65000,67000,67000,67000,69000,70000,70000,72000,72000,73000,73000,74000,75000,76000,76000,77000,78000,78000,78000,78000,78000,78000,78000,79000,79000,81000,85000,86000,87000,88000,88000,97000,97000,98000,99000,101000,103000,103000,103000,103000,113000,120000,120000,126000],\"type\":\"histogram\",\"xaxis\":\"x3\",\"yaxis\":\"y3\"},{\"hovertemplate\":\"Average Income Among %{x} = $%{y}<extra></extra>\",\"marker\":{\"color\":[\"#508B8D\",\"#F0CABD\"],\"opacity\":0.8,\"line\":{\"color\":\"#000000\",\"width\":1}},\"showlegend\":false,\"text\":[62227.27272727273,59250.0],\"textposition\":\"outside\",\"texttemplate\":\"$%{text:,.0f}\",\"width\":0.8,\"x\":[\"Men\",\"Women\"],\"y\":[62227.27272727273,59250.0],\"type\":\"bar\",\"xaxis\":\"x4\",\"yaxis\":\"y4\"},{\"histnorm\":\"probability density\",\"marker\":{\"color\":\"#508B8D\",\"line\":{\"color\":\"#000000\",\"width\":1}},\"name\":\"Men\",\"nbinsx\":20,\"opacity\":0.7,\"showlegend\":false,\"x\":[39,81,3,14,13,79,66,29,35,73,73,82,61,4,4,92,92,36,60,60,41,46,46,56,55,51,59,59,55,47,54,48,51,55,41,46,41,49,52,42,49,59,55,56,46,43,48,52,46,56,91,35,95,11,75,9,75,5,73,10,93,12,97,36,90,17,88,1,1,5,26,20,63,13,75,10,92,15,69,14,90,15,97,68,8,74,18,83],\"type\":\"histogram\",\"xaxis\":\"x5\",\"yaxis\":\"y5\"},{\"histnorm\":\"probability density\",\"marker\":{\"color\":\"#F3D6CB\",\"line\":{\"color\":\"#000000\",\"width\":1}},\"name\":\"Women\",\"nbinsx\":20,\"opacity\":0.7,\"showlegend\":false,\"x\":[6,77,40,76,6,94,72,99,15,77,35,98,5,14,32,31,87,73,14,81,17,73,26,75,35,61,28,65,55,47,42,42,52,54,45,50,51,52,59,50,48,47,42,49,56,53,52,42,44,57,58,55,60,46,55,40,42,47,50,41,48,42,50,54,42,48,50,43,59,43,57,40,58,29,77,34,71,88,7,72,5,40,87,74,22,20,76,16,89,78,73,35,83,93,75,95,27,13,86,32,86,88,39,24,17,85,23,69,91,16,79,28],\"type\":\"histogram\",\"xaxis\":\"x5\",\"yaxis\":\"y5\"},{\"hovertemplate\":\"Average Spending Score Among %{x} = %{y}<extra></extra>\",\"marker\":{\"color\":[\"#508B8D\",\"#F0CABD\"],\"opacity\":0.8,\"line\":{\"color\":\"#000000\",\"width\":1}},\"showlegend\":false,\"text\":[49.0,52.0],\"textposition\":\"outside\",\"texttemplate\":\"%{text}\",\"width\":0.8,\"x\":[\"Men\",\"Women\"],\"y\":[49,52],\"type\":\"bar\",\"xaxis\":\"x6\",\"yaxis\":\"y6\"}],                        {\"template\":{\"data\":{\"histogram2dcontour\":[{\"type\":\"histogram2dcontour\",\"colorbar\":{\"outlinewidth\":0,\"ticks\":\"\"},\"colorscale\":[[0.0,\"#0d0887\"],[0.1111111111111111,\"#46039f\"],[0.2222222222222222,\"#7201a8\"],[0.3333333333333333,\"#9c179e\"],[0.4444444444444444,\"#bd3786\"],[0.5555555555555556,\"#d8576b\"],[0.6666666666666666,\"#ed7953\"],[0.7777777777777778,\"#fb9f3a\"],[0.8888888888888888,\"#fdca26\"],[1.0,\"#f0f921\"]]}],\"choropleth\":[{\"type\":\"choropleth\",\"colorbar\":{\"outlinewidth\":0,\"ticks\":\"\"}}],\"histogram2d\":[{\"type\":\"histogram2d\",\"colorbar\":{\"outlinewidth\":0,\"ticks\":\"\"},\"colorscale\":[[0.0,\"#0d0887\"],[0.1111111111111111,\"#46039f\"],[0.2222222222222222,\"#7201a8\"],[0.3333333333333333,\"#9c179e\"],[0.4444444444444444,\"#bd3786\"],[0.5555555555555556,\"#d8576b\"],[0.6666666666666666,\"#ed7953\"],[0.7777777777777778,\"#fb9f3a\"],[0.8888888888888888,\"#fdca26\"],[1.0,\"#f0f921\"]]}],\"heatmap\":[{\"type\":\"heatmap\",\"colorbar\":{\"outlinewidth\":0,\"ticks\":\"\"},\"colorscale\":[[0.0,\"#0d0887\"],[0.1111111111111111,\"#46039f\"],[0.2222222222222222,\"#7201a8\"],[0.3333333333333333,\"#9c179e\"],[0.4444444444444444,\"#bd3786\"],[0.5555555555555556,\"#d8576b\"],[0.6666666666666666,\"#ed7953\"],[0.7777777777777778,\"#fb9f3a\"],[0.8888888888888888,\"#fdca26\"],[1.0,\"#f0f921\"]]}],\"heatmapgl\":[{\"type\":\"heatmapgl\",\"colorbar\":{\"outlinewidth\":0,\"ticks\":\"\"},\"colorscale\":[[0.0,\"#0d0887\"],[0.1111111111111111,\"#46039f\"],[0.2222222222222222,\"#7201a8\"],[0.3333333333333333,\"#9c179e\"],[0.4444444444444444,\"#bd3786\"],[0.5555555555555556,\"#d8576b\"],[0.6666666666666666,\"#ed7953\"],[0.7777777777777778,\"#fb9f3a\"],[0.8888888888888888,\"#fdca26\"],[1.0,\"#f0f921\"]]}],\"contourcarpet\":[{\"type\":\"contourcarpet\",\"colorbar\":{\"outlinewidth\":0,\"ticks\":\"\"}}],\"contour\":[{\"type\":\"contour\",\"colorbar\":{\"outlinewidth\":0,\"ticks\":\"\"},\"colorscale\":[[0.0,\"#0d0887\"],[0.1111111111111111,\"#46039f\"],[0.2222222222222222,\"#7201a8\"],[0.3333333333333333,\"#9c179e\"],[0.4444444444444444,\"#bd3786\"],[0.5555555555555556,\"#d8576b\"],[0.6666666666666666,\"#ed7953\"],[0.7777777777777778,\"#fb9f3a\"],[0.8888888888888888,\"#fdca26\"],[1.0,\"#f0f921\"]]}],\"surface\":[{\"type\":\"surface\",\"colorbar\":{\"outlinewidth\":0,\"ticks\":\"\"},\"colorscale\":[[0.0,\"#0d0887\"],[0.1111111111111111,\"#46039f\"],[0.2222222222222222,\"#7201a8\"],[0.3333333333333333,\"#9c179e\"],[0.4444444444444444,\"#bd3786\"],[0.5555555555555556,\"#d8576b\"],[0.6666666666666666,\"#ed7953\"],[0.7777777777777778,\"#fb9f3a\"],[0.8888888888888888,\"#fdca26\"],[1.0,\"#f0f921\"]]}],\"mesh3d\":[{\"type\":\"mesh3d\",\"colorbar\":{\"outlinewidth\":0,\"ticks\":\"\"}}],\"scatter\":[{\"fillpattern\":{\"fillmode\":\"overlay\",\"size\":10,\"solidity\":0.2},\"type\":\"scatter\"}],\"parcoords\":[{\"type\":\"parcoords\",\"line\":{\"colorbar\":{\"outlinewidth\":0,\"ticks\":\"\"}}}],\"scatterpolargl\":[{\"type\":\"scatterpolargl\",\"marker\":{\"colorbar\":{\"outlinewidth\":0,\"ticks\":\"\"}}}],\"bar\":[{\"error_x\":{\"color\":\"#2a3f5f\"},\"error_y\":{\"color\":\"#2a3f5f\"},\"marker\":{\"line\":{\"color\":\"#E5ECF6\",\"width\":0.5},\"pattern\":{\"fillmode\":\"overlay\",\"size\":10,\"solidity\":0.2}},\"type\":\"bar\"}],\"scattergeo\":[{\"type\":\"scattergeo\",\"marker\":{\"colorbar\":{\"outlinewidth\":0,\"ticks\":\"\"}}}],\"scatterpolar\":[{\"type\":\"scatterpolar\",\"marker\":{\"colorbar\":{\"outlinewidth\":0,\"ticks\":\"\"}}}],\"histogram\":[{\"marker\":{\"pattern\":{\"fillmode\":\"overlay\",\"size\":10,\"solidity\":0.2}},\"type\":\"histogram\"}],\"scattergl\":[{\"type\":\"scattergl\",\"marker\":{\"colorbar\":{\"outlinewidth\":0,\"ticks\":\"\"}}}],\"scatter3d\":[{\"type\":\"scatter3d\",\"line\":{\"colorbar\":{\"outlinewidth\":0,\"ticks\":\"\"}},\"marker\":{\"colorbar\":{\"outlinewidth\":0,\"ticks\":\"\"}}}],\"scattermapbox\":[{\"type\":\"scattermapbox\",\"marker\":{\"colorbar\":{\"outlinewidth\":0,\"ticks\":\"\"}}}],\"scatterternary\":[{\"type\":\"scatterternary\",\"marker\":{\"colorbar\":{\"outlinewidth\":0,\"ticks\":\"\"}}}],\"scattercarpet\":[{\"type\":\"scattercarpet\",\"marker\":{\"colorbar\":{\"outlinewidth\":0,\"ticks\":\"\"}}}],\"carpet\":[{\"aaxis\":{\"endlinecolor\":\"#2a3f5f\",\"gridcolor\":\"white\",\"linecolor\":\"white\",\"minorgridcolor\":\"white\",\"startlinecolor\":\"#2a3f5f\"},\"baxis\":{\"endlinecolor\":\"#2a3f5f\",\"gridcolor\":\"white\",\"linecolor\":\"white\",\"minorgridcolor\":\"white\",\"startlinecolor\":\"#2a3f5f\"},\"type\":\"carpet\"}],\"table\":[{\"cells\":{\"fill\":{\"color\":\"#EBF0F8\"},\"line\":{\"color\":\"white\"}},\"header\":{\"fill\":{\"color\":\"#C8D4E3\"},\"line\":{\"color\":\"white\"}},\"type\":\"table\"}],\"barpolar\":[{\"marker\":{\"line\":{\"color\":\"#E5ECF6\",\"width\":0.5},\"pattern\":{\"fillmode\":\"overlay\",\"size\":10,\"solidity\":0.2}},\"type\":\"barpolar\"}],\"pie\":[{\"automargin\":true,\"type\":\"pie\"}]},\"layout\":{\"font\":{\"family\":\"Franklin Gothic\",\"size\":12}}},\"xaxis\":{\"anchor\":\"y\",\"domain\":[0.0,0.45],\"title\":{\"text\":\"Ya\\u015f\"}},\"yaxis\":{\"anchor\":\"x\",\"domain\":[0.7777777777777778,1.0],\"title\":{\"text\":\"Olas\\u0131l\\u0131k Yo\\u011funlu\\u011fu\"}},\"xaxis2\":{\"anchor\":\"y2\",\"domain\":[0.55,1.0],\"title\":{\"text\":\"Cinsiyet\"}},\"yaxis2\":{\"anchor\":\"x2\",\"domain\":[0.7777777777777778,1.0],\"title\":{\"text\":\"Age\"},\"range\":[0,45]},\"xaxis3\":{\"anchor\":\"y3\",\"domain\":[0.0,0.45],\"title\":{\"text\":\"Y\\u0131ll\\u0131k Gelir, $\"}},\"yaxis3\":{\"anchor\":\"x3\",\"domain\":[0.3888888888888889,0.6111111111111112],\"title\":{\"text\":\"Olas\\u0131l\\u0131k Yo\\u011funlu\\u011fu\"}},\"xaxis4\":{\"anchor\":\"y4\",\"domain\":[0.55,1.0],\"title\":{\"text\":\"Cinsiyet\"}},\"yaxis4\":{\"anchor\":\"x4\",\"domain\":[0.3888888888888889,0.6111111111111112],\"title\":{\"text\":\"Y\\u0131ll\\u0131k Gelir, $\"},\"range\":[0,69000.0]},\"xaxis5\":{\"anchor\":\"y5\",\"domain\":[0.0,0.45],\"title\":{\"text\":\"Harcama Puan\\u0131\"}},\"yaxis5\":{\"anchor\":\"x5\",\"domain\":[0.0,0.22222222222222224],\"title\":{\"text\":\"Olas\\u0131l\\u0131k Yo\\u011funlu\\u011fu\"}},\"xaxis6\":{\"anchor\":\"y6\",\"domain\":[0.55,1.0],\"title\":{\"text\":\"Cinsiyet\"}},\"yaxis6\":{\"anchor\":\"x6\",\"domain\":[0.0,0.22222222222222224],\"title\":{\"text\":\"Harcama Puan\\u0131\"},\"range\":[0,59]},\"annotations\":[{\"font\":{\"size\":16},\"showarrow\":false,\"text\":\"Ya\\u015f\\u0131n Cinsiyete G\\u00f6re Da\\u011f\\u0131l\\u0131m\\u0131\",\"x\":0.225,\"xanchor\":\"center\",\"xref\":\"paper\",\"y\":1.0,\"yanchor\":\"bottom\",\"yref\":\"paper\"},{\"font\":{\"size\":16},\"showarrow\":false,\"text\":\"M\\u00fc\\u015fterilerin Ortalama Ya\\u015f\\u0131\",\"x\":0.775,\"xanchor\":\"center\",\"xref\":\"paper\",\"y\":1.0,\"yanchor\":\"bottom\",\"yref\":\"paper\"},{\"font\":{\"size\":16},\"showarrow\":false,\"text\":\"Cinsiyete G\\u00f6re Gelir Da\\u011f\\u0131l\\u0131m\\u0131\",\"x\":0.225,\"xanchor\":\"center\",\"xref\":\"paper\",\"y\":0.6111111111111112,\"yanchor\":\"bottom\",\"yref\":\"paper\"},{\"font\":{\"size\":16},\"showarrow\":false,\"text\":\"M\\u00fc\\u015fteriler Ortalama Gelir\",\"x\":0.775,\"xanchor\":\"center\",\"xref\":\"paper\",\"y\":0.6111111111111112,\"yanchor\":\"bottom\",\"yref\":\"paper\"},{\"font\":{\"size\":16},\"showarrow\":false,\"text\":\"Harcamalar\\u0131n Cinsiyete G\\u00f6re Da\\u011f\\u0131l\\u0131m\\u0131\",\"x\":0.225,\"xanchor\":\"center\",\"xref\":\"paper\",\"y\":0.22222222222222224,\"yanchor\":\"bottom\",\"yref\":\"paper\"},{\"font\":{\"size\":16},\"showarrow\":false,\"text\":\"M\\u00fc\\u015fterilerin Ortalama Harcamas\\u0131\",\"x\":0.775,\"xanchor\":\"center\",\"xref\":\"paper\",\"y\":0.22222222222222224,\"yanchor\":\"bottom\",\"yref\":\"paper\"}],\"legend\":{\"orientation\":\"h\",\"yanchor\":\"bottom\",\"xanchor\":\"right\",\"y\":1.03,\"x\":0.97},\"barmode\":\"overlay\",\"height\":1500,\"width\":700},                        {\"responsive\": true}                    ).then(function(){\n",
       "                            \n",
       "var gd = document.getElementById('7e94edf9-e8f5-468a-b1d0-52693783bf20');\n",
       "var x = new MutationObserver(function (mutations, observer) {{\n",
       "        var display = window.getComputedStyle(gd).display;\n",
       "        if (!display || display === 'none') {{\n",
       "            console.log([gd, 'removed!']);\n",
       "            Plotly.purge(gd);\n",
       "            observer.disconnect();\n",
       "        }}\n",
       "}});\n",
       "\n",
       "// Listen for the removal of the full notebook cells\n",
       "var notebookContainer = gd.closest('#notebook-container');\n",
       "if (notebookContainer) {{\n",
       "    x.observe(notebookContainer, {childList: true});\n",
       "}}\n",
       "\n",
       "// Listen for the clearing of the current output cell\n",
       "var outputEl = gd.closest('.output');\n",
       "if (outputEl) {{\n",
       "    x.observe(outputEl, {childList: true});\n",
       "}}\n",
       "\n",
       "                        })                };                });            </script>        </div>"
      ]
     },
     "metadata": {},
     "output_type": "display_data"
    },
    {
     "data": {
      "application/vnd.plotly.v1+json": {
       "config": {
        "plotlyServerURL": "https://plot.ly"
       },
       "data": [
        {
         "marker": {
          "color": "rgb(80, 139, 141)",
          "line": {
           "color": "#F7F7F7",
           "width": 1
          },
          "opacity": 0.85,
          "size": 9
         },
         "showlegend": false,
         "type": "box",
         "xaxis": "x",
         "y": [
          19,
          21,
          64,
          67,
          37,
          22,
          20,
          52,
          35,
          25,
          31,
          29,
          35,
          60,
          53,
          18,
          24,
          48,
          33,
          59,
          47,
          69,
          53,
          70,
          19,
          63,
          18,
          19,
          70,
          59,
          26,
          40,
          57,
          38,
          67,
          48,
          18,
          48,
          24,
          48,
          20,
          67,
          26,
          49,
          54,
          68,
          66,
          65,
          19,
          27,
          39,
          43,
          40,
          59,
          38,
          47,
          39,
          20,
          32,
          19,
          32,
          25,
          28,
          48,
          34,
          43,
          39,
          37,
          34,
          19,
          50,
          42,
          32,
          40,
          28,
          36,
          36,
          58,
          27,
          59,
          35,
          46,
          30,
          28,
          33,
          32,
          32,
          30
         ],
         "yaxis": "y"
        },
        {
         "marker": {
          "color": "rgb(240, 202, 189)",
          "line": {
           "color": "#F7F7F7",
           "width": 1
          },
          "opacity": 0.85,
          "size": 9
         },
         "showlegend": false,
         "type": "box",
         "xaxis": "x",
         "y": [
          20,
          23,
          31,
          22,
          35,
          23,
          30,
          35,
          58,
          24,
          35,
          35,
          46,
          54,
          45,
          40,
          23,
          21,
          49,
          21,
          42,
          30,
          36,
          20,
          65,
          31,
          49,
          24,
          50,
          27,
          29,
          31,
          49,
          31,
          50,
          51,
          27,
          67,
          54,
          43,
          68,
          32,
          47,
          60,
          60,
          45,
          23,
          49,
          46,
          21,
          55,
          22,
          34,
          50,
          68,
          40,
          32,
          47,
          27,
          23,
          49,
          21,
          66,
          19,
          38,
          18,
          19,
          63,
          49,
          51,
          50,
          38,
          40,
          23,
          31,
          25,
          31,
          29,
          44,
          35,
          57,
          28,
          32,
          32,
          34,
          44,
          38,
          47,
          27,
          30,
          30,
          56,
          29,
          31,
          36,
          33,
          36,
          52,
          30,
          37,
          32,
          29,
          41,
          54,
          41,
          36,
          34,
          32,
          38,
          47,
          35,
          45
         ],
         "yaxis": "y"
        },
        {
         "marker": {
          "color": "rgb(80, 139, 141)",
          "line": {
           "color": "#F7F7F7",
           "width": 1
          },
          "opacity": 0.85,
          "size": 9
         },
         "mode": "markers",
         "name": "Men",
         "showlegend": true,
         "type": "scatter",
         "x": [
          15,
          15,
          19,
          19,
          20,
          20,
          21,
          23,
          24,
          24,
          25,
          28,
          28,
          30,
          33,
          33,
          38,
          39,
          42,
          43,
          43,
          44,
          46,
          46,
          46,
          48,
          48,
          48,
          49,
          54,
          54,
          54,
          54,
          54,
          54,
          54,
          59,
          60,
          60,
          61,
          61,
          62,
          62,
          62,
          63,
          63,
          63,
          63,
          64,
          67,
          69,
          71,
          71,
          71,
          71,
          71,
          71,
          73,
          73,
          74,
          75,
          77,
          77,
          77,
          78,
          78,
          78,
          78,
          78,
          81,
          85,
          86,
          87,
          87,
          87,
          87,
          87,
          88,
          88,
          93,
          93,
          98,
          99,
          101,
          113,
          126,
          137,
          137
         ],
         "xaxis": "x2",
         "y": [
          19,
          21,
          64,
          67,
          37,
          22,
          20,
          52,
          35,
          25,
          31,
          29,
          35,
          60,
          53,
          18,
          24,
          48,
          33,
          59,
          47,
          69,
          53,
          70,
          19,
          63,
          18,
          19,
          70,
          59,
          26,
          40,
          57,
          38,
          67,
          48,
          18,
          48,
          24,
          48,
          20,
          67,
          26,
          49,
          54,
          68,
          66,
          65,
          19,
          27,
          39,
          43,
          40,
          59,
          38,
          47,
          39,
          20,
          32,
          19,
          32,
          25,
          28,
          48,
          34,
          43,
          39,
          37,
          34,
          19,
          50,
          42,
          32,
          40,
          28,
          36,
          36,
          58,
          27,
          59,
          35,
          46,
          30,
          28,
          33,
          32,
          32,
          30
         ],
         "yaxis": "y2"
        },
        {
         "marker": {
          "color": "rgb(240, 202, 189)",
          "line": {
           "color": "#F7F7F7",
           "width": 1
          },
          "opacity": 0.85,
          "size": 9
         },
         "mode": "markers",
         "name": "Women",
         "showlegend": true,
         "type": "scatter",
         "x": [
          16,
          16,
          17,
          17,
          18,
          18,
          19,
          19,
          20,
          20,
          21,
          23,
          25,
          28,
          28,
          29,
          29,
          30,
          33,
          33,
          34,
          34,
          37,
          37,
          38,
          39,
          39,
          39,
          40,
          40,
          40,
          40,
          42,
          43,
          43,
          44,
          46,
          47,
          47,
          48,
          48,
          48,
          49,
          50,
          50,
          54,
          54,
          54,
          54,
          54,
          57,
          57,
          58,
          58,
          59,
          60,
          60,
          60,
          60,
          62,
          62,
          62,
          63,
          63,
          64,
          65,
          65,
          65,
          65,
          67,
          67,
          67,
          69,
          70,
          70,
          72,
          72,
          73,
          73,
          74,
          75,
          76,
          76,
          77,
          78,
          78,
          78,
          78,
          78,
          78,
          78,
          79,
          79,
          81,
          85,
          86,
          87,
          88,
          88,
          97,
          97,
          98,
          99,
          101,
          103,
          103,
          103,
          103,
          113,
          120,
          120,
          126
         ],
         "xaxis": "x2",
         "y": [
          20,
          23,
          31,
          22,
          35,
          23,
          30,
          35,
          58,
          24,
          35,
          35,
          46,
          54,
          45,
          40,
          23,
          21,
          49,
          21,
          42,
          30,
          36,
          20,
          65,
          31,
          49,
          24,
          50,
          27,
          29,
          31,
          49,
          31,
          50,
          51,
          27,
          67,
          54,
          43,
          68,
          32,
          47,
          60,
          60,
          45,
          23,
          49,
          46,
          21,
          55,
          22,
          34,
          50,
          68,
          40,
          32,
          47,
          27,
          23,
          49,
          21,
          66,
          19,
          38,
          18,
          19,
          63,
          49,
          51,
          50,
          38,
          40,
          23,
          31,
          25,
          31,
          29,
          44,
          35,
          57,
          28,
          32,
          32,
          34,
          44,
          38,
          47,
          27,
          30,
          30,
          56,
          29,
          31,
          36,
          33,
          36,
          52,
          30,
          37,
          32,
          29,
          41,
          54,
          41,
          36,
          34,
          32,
          38,
          47,
          35,
          45
         ],
         "yaxis": "y2"
        },
        {
         "marker": {
          "color": "rgb(80, 139, 141)",
          "line": {
           "color": "#F7F7F7",
           "width": 1
          },
          "opacity": 0.85,
          "size": 9
         },
         "mode": "markers",
         "name": "Men",
         "showlegend": false,
         "type": "scatter",
         "x": [
          39,
          81,
          3,
          14,
          13,
          79,
          66,
          29,
          35,
          73,
          73,
          82,
          61,
          4,
          4,
          92,
          92,
          36,
          60,
          60,
          41,
          46,
          46,
          56,
          55,
          51,
          59,
          59,
          55,
          47,
          54,
          48,
          51,
          55,
          41,
          46,
          41,
          49,
          52,
          42,
          49,
          59,
          55,
          56,
          46,
          43,
          48,
          52,
          46,
          56,
          91,
          35,
          95,
          11,
          75,
          9,
          75,
          5,
          73,
          10,
          93,
          12,
          97,
          36,
          90,
          17,
          88,
          1,
          1,
          5,
          26,
          20,
          63,
          13,
          75,
          10,
          92,
          15,
          69,
          14,
          90,
          15,
          97,
          68,
          8,
          74,
          18,
          83
         ],
         "xaxis": "x3",
         "y": [
          19,
          21,
          64,
          67,
          37,
          22,
          20,
          52,
          35,
          25,
          31,
          29,
          35,
          60,
          53,
          18,
          24,
          48,
          33,
          59,
          47,
          69,
          53,
          70,
          19,
          63,
          18,
          19,
          70,
          59,
          26,
          40,
          57,
          38,
          67,
          48,
          18,
          48,
          24,
          48,
          20,
          67,
          26,
          49,
          54,
          68,
          66,
          65,
          19,
          27,
          39,
          43,
          40,
          59,
          38,
          47,
          39,
          20,
          32,
          19,
          32,
          25,
          28,
          48,
          34,
          43,
          39,
          37,
          34,
          19,
          50,
          42,
          32,
          40,
          28,
          36,
          36,
          58,
          27,
          59,
          35,
          46,
          30,
          28,
          33,
          32,
          32,
          30
         ],
         "yaxis": "y3"
        },
        {
         "marker": {
          "color": "rgb(240, 202, 189)",
          "line": {
           "color": "#F7F7F7",
           "width": 1
          },
          "opacity": 0.85,
          "size": 9
         },
         "mode": "markers",
         "name": "Women",
         "showlegend": false,
         "type": "scatter",
         "x": [
          6,
          77,
          40,
          76,
          6,
          94,
          72,
          99,
          15,
          77,
          35,
          98,
          5,
          14,
          32,
          31,
          87,
          73,
          14,
          81,
          17,
          73,
          26,
          75,
          35,
          61,
          28,
          65,
          55,
          47,
          42,
          42,
          52,
          54,
          45,
          50,
          51,
          52,
          59,
          50,
          48,
          47,
          42,
          49,
          56,
          53,
          52,
          42,
          44,
          57,
          58,
          55,
          60,
          46,
          55,
          40,
          42,
          47,
          50,
          41,
          48,
          42,
          50,
          54,
          42,
          48,
          50,
          43,
          59,
          43,
          57,
          40,
          58,
          29,
          77,
          34,
          71,
          88,
          7,
          72,
          5,
          40,
          87,
          74,
          22,
          20,
          76,
          16,
          89,
          78,
          73,
          35,
          83,
          93,
          75,
          95,
          27,
          13,
          86,
          32,
          86,
          88,
          39,
          24,
          17,
          85,
          23,
          69,
          91,
          16,
          79,
          28
         ],
         "xaxis": "x3",
         "y": [
          20,
          23,
          31,
          22,
          35,
          23,
          30,
          35,
          58,
          24,
          35,
          35,
          46,
          54,
          45,
          40,
          23,
          21,
          49,
          21,
          42,
          30,
          36,
          20,
          65,
          31,
          49,
          24,
          50,
          27,
          29,
          31,
          49,
          31,
          50,
          51,
          27,
          67,
          54,
          43,
          68,
          32,
          47,
          60,
          60,
          45,
          23,
          49,
          46,
          21,
          55,
          22,
          34,
          50,
          68,
          40,
          32,
          47,
          27,
          23,
          49,
          21,
          66,
          19,
          38,
          18,
          19,
          63,
          49,
          51,
          50,
          38,
          40,
          23,
          31,
          25,
          31,
          29,
          44,
          35,
          57,
          28,
          32,
          32,
          34,
          44,
          38,
          47,
          27,
          30,
          30,
          56,
          29,
          31,
          36,
          33,
          36,
          52,
          30,
          37,
          32,
          29,
          41,
          54,
          41,
          36,
          34,
          32,
          38,
          47,
          35,
          45
         ],
         "yaxis": "y3"
        },
        {
         "marker": {
          "color": "rgb(80, 139, 141)",
          "line": {
           "color": "#F7F7F7",
           "width": 1
          },
          "opacity": 0.85,
          "size": 9
         },
         "mode": "markers",
         "name": "Men",
         "showlegend": false,
         "type": "scatter",
         "x": [
          19,
          21,
          64,
          67,
          37,
          22,
          20,
          52,
          35,
          25,
          31,
          29,
          35,
          60,
          53,
          18,
          24,
          48,
          33,
          59,
          47,
          69,
          53,
          70,
          19,
          63,
          18,
          19,
          70,
          59,
          26,
          40,
          57,
          38,
          67,
          48,
          18,
          48,
          24,
          48,
          20,
          67,
          26,
          49,
          54,
          68,
          66,
          65,
          19,
          27,
          39,
          43,
          40,
          59,
          38,
          47,
          39,
          20,
          32,
          19,
          32,
          25,
          28,
          48,
          34,
          43,
          39,
          37,
          34,
          19,
          50,
          42,
          32,
          40,
          28,
          36,
          36,
          58,
          27,
          59,
          35,
          46,
          30,
          28,
          33,
          32,
          32,
          30
         ],
         "xaxis": "x4",
         "y": [
          15,
          15,
          19,
          19,
          20,
          20,
          21,
          23,
          24,
          24,
          25,
          28,
          28,
          30,
          33,
          33,
          38,
          39,
          42,
          43,
          43,
          44,
          46,
          46,
          46,
          48,
          48,
          48,
          49,
          54,
          54,
          54,
          54,
          54,
          54,
          54,
          59,
          60,
          60,
          61,
          61,
          62,
          62,
          62,
          63,
          63,
          63,
          63,
          64,
          67,
          69,
          71,
          71,
          71,
          71,
          71,
          71,
          73,
          73,
          74,
          75,
          77,
          77,
          77,
          78,
          78,
          78,
          78,
          78,
          81,
          85,
          86,
          87,
          87,
          87,
          87,
          87,
          88,
          88,
          93,
          93,
          98,
          99,
          101,
          113,
          126,
          137,
          137
         ],
         "yaxis": "y4"
        },
        {
         "marker": {
          "color": "rgb(240, 202, 189)",
          "line": {
           "color": "#F7F7F7",
           "width": 1
          },
          "opacity": 0.85,
          "size": 9
         },
         "mode": "markers",
         "name": "Women",
         "showlegend": false,
         "type": "scatter",
         "x": [
          20,
          23,
          31,
          22,
          35,
          23,
          30,
          35,
          58,
          24,
          35,
          35,
          46,
          54,
          45,
          40,
          23,
          21,
          49,
          21,
          42,
          30,
          36,
          20,
          65,
          31,
          49,
          24,
          50,
          27,
          29,
          31,
          49,
          31,
          50,
          51,
          27,
          67,
          54,
          43,
          68,
          32,
          47,
          60,
          60,
          45,
          23,
          49,
          46,
          21,
          55,
          22,
          34,
          50,
          68,
          40,
          32,
          47,
          27,
          23,
          49,
          21,
          66,
          19,
          38,
          18,
          19,
          63,
          49,
          51,
          50,
          38,
          40,
          23,
          31,
          25,
          31,
          29,
          44,
          35,
          57,
          28,
          32,
          32,
          34,
          44,
          38,
          47,
          27,
          30,
          30,
          56,
          29,
          31,
          36,
          33,
          36,
          52,
          30,
          37,
          32,
          29,
          41,
          54,
          41,
          36,
          34,
          32,
          38,
          47,
          35,
          45
         ],
         "xaxis": "x4",
         "y": [
          16,
          16,
          17,
          17,
          18,
          18,
          19,
          19,
          20,
          20,
          21,
          23,
          25,
          28,
          28,
          29,
          29,
          30,
          33,
          33,
          34,
          34,
          37,
          37,
          38,
          39,
          39,
          39,
          40,
          40,
          40,
          40,
          42,
          43,
          43,
          44,
          46,
          47,
          47,
          48,
          48,
          48,
          49,
          50,
          50,
          54,
          54,
          54,
          54,
          54,
          57,
          57,
          58,
          58,
          59,
          60,
          60,
          60,
          60,
          62,
          62,
          62,
          63,
          63,
          64,
          65,
          65,
          65,
          65,
          67,
          67,
          67,
          69,
          70,
          70,
          72,
          72,
          73,
          73,
          74,
          75,
          76,
          76,
          77,
          78,
          78,
          78,
          78,
          78,
          78,
          78,
          79,
          79,
          81,
          85,
          86,
          87,
          88,
          88,
          97,
          97,
          98,
          99,
          101,
          103,
          103,
          103,
          103,
          113,
          120,
          120,
          126
         ],
         "yaxis": "y4"
        },
        {
         "marker": {
          "color": "rgb(80, 139, 141)",
          "line": {
           "color": "#F7F7F7",
           "width": 1
          },
          "opacity": 0.85,
          "size": 9
         },
         "showlegend": false,
         "type": "box",
         "xaxis": "x5",
         "y": [
          15,
          15,
          19,
          19,
          20,
          20,
          21,
          23,
          24,
          24,
          25,
          28,
          28,
          30,
          33,
          33,
          38,
          39,
          42,
          43,
          43,
          44,
          46,
          46,
          46,
          48,
          48,
          48,
          49,
          54,
          54,
          54,
          54,
          54,
          54,
          54,
          59,
          60,
          60,
          61,
          61,
          62,
          62,
          62,
          63,
          63,
          63,
          63,
          64,
          67,
          69,
          71,
          71,
          71,
          71,
          71,
          71,
          73,
          73,
          74,
          75,
          77,
          77,
          77,
          78,
          78,
          78,
          78,
          78,
          81,
          85,
          86,
          87,
          87,
          87,
          87,
          87,
          88,
          88,
          93,
          93,
          98,
          99,
          101,
          113,
          126,
          137,
          137
         ],
         "yaxis": "y5"
        },
        {
         "marker": {
          "color": "rgb(240, 202, 189)",
          "line": {
           "color": "#F7F7F7",
           "width": 1
          },
          "opacity": 0.85,
          "size": 9
         },
         "showlegend": false,
         "type": "box",
         "xaxis": "x5",
         "y": [
          16,
          16,
          17,
          17,
          18,
          18,
          19,
          19,
          20,
          20,
          21,
          23,
          25,
          28,
          28,
          29,
          29,
          30,
          33,
          33,
          34,
          34,
          37,
          37,
          38,
          39,
          39,
          39,
          40,
          40,
          40,
          40,
          42,
          43,
          43,
          44,
          46,
          47,
          47,
          48,
          48,
          48,
          49,
          50,
          50,
          54,
          54,
          54,
          54,
          54,
          57,
          57,
          58,
          58,
          59,
          60,
          60,
          60,
          60,
          62,
          62,
          62,
          63,
          63,
          64,
          65,
          65,
          65,
          65,
          67,
          67,
          67,
          69,
          70,
          70,
          72,
          72,
          73,
          73,
          74,
          75,
          76,
          76,
          77,
          78,
          78,
          78,
          78,
          78,
          78,
          78,
          79,
          79,
          81,
          85,
          86,
          87,
          88,
          88,
          97,
          97,
          98,
          99,
          101,
          103,
          103,
          103,
          103,
          113,
          120,
          120,
          126
         ],
         "yaxis": "y5"
        },
        {
         "marker": {
          "color": "rgb(80, 139, 141)",
          "line": {
           "color": "#F7F7F7",
           "width": 1
          },
          "opacity": 0.85,
          "size": 9
         },
         "mode": "markers",
         "name": "Men",
         "showlegend": false,
         "type": "scatter",
         "x": [
          39,
          81,
          3,
          14,
          13,
          79,
          66,
          29,
          35,
          73,
          73,
          82,
          61,
          4,
          4,
          92,
          92,
          36,
          60,
          60,
          41,
          46,
          46,
          56,
          55,
          51,
          59,
          59,
          55,
          47,
          54,
          48,
          51,
          55,
          41,
          46,
          41,
          49,
          52,
          42,
          49,
          59,
          55,
          56,
          46,
          43,
          48,
          52,
          46,
          56,
          91,
          35,
          95,
          11,
          75,
          9,
          75,
          5,
          73,
          10,
          93,
          12,
          97,
          36,
          90,
          17,
          88,
          1,
          1,
          5,
          26,
          20,
          63,
          13,
          75,
          10,
          92,
          15,
          69,
          14,
          90,
          15,
          97,
          68,
          8,
          74,
          18,
          83
         ],
         "xaxis": "x6",
         "y": [
          15,
          15,
          19,
          19,
          20,
          20,
          21,
          23,
          24,
          24,
          25,
          28,
          28,
          30,
          33,
          33,
          38,
          39,
          42,
          43,
          43,
          44,
          46,
          46,
          46,
          48,
          48,
          48,
          49,
          54,
          54,
          54,
          54,
          54,
          54,
          54,
          59,
          60,
          60,
          61,
          61,
          62,
          62,
          62,
          63,
          63,
          63,
          63,
          64,
          67,
          69,
          71,
          71,
          71,
          71,
          71,
          71,
          73,
          73,
          74,
          75,
          77,
          77,
          77,
          78,
          78,
          78,
          78,
          78,
          81,
          85,
          86,
          87,
          87,
          87,
          87,
          87,
          88,
          88,
          93,
          93,
          98,
          99,
          101,
          113,
          126,
          137,
          137
         ],
         "yaxis": "y6"
        },
        {
         "marker": {
          "color": "rgb(240, 202, 189)",
          "line": {
           "color": "#F7F7F7",
           "width": 1
          },
          "opacity": 0.85,
          "size": 9
         },
         "mode": "markers",
         "name": "Women",
         "showlegend": false,
         "type": "scatter",
         "x": [
          6,
          77,
          40,
          76,
          6,
          94,
          72,
          99,
          15,
          77,
          35,
          98,
          5,
          14,
          32,
          31,
          87,
          73,
          14,
          81,
          17,
          73,
          26,
          75,
          35,
          61,
          28,
          65,
          55,
          47,
          42,
          42,
          52,
          54,
          45,
          50,
          51,
          52,
          59,
          50,
          48,
          47,
          42,
          49,
          56,
          53,
          52,
          42,
          44,
          57,
          58,
          55,
          60,
          46,
          55,
          40,
          42,
          47,
          50,
          41,
          48,
          42,
          50,
          54,
          42,
          48,
          50,
          43,
          59,
          43,
          57,
          40,
          58,
          29,
          77,
          34,
          71,
          88,
          7,
          72,
          5,
          40,
          87,
          74,
          22,
          20,
          76,
          16,
          89,
          78,
          73,
          35,
          83,
          93,
          75,
          95,
          27,
          13,
          86,
          32,
          86,
          88,
          39,
          24,
          17,
          85,
          23,
          69,
          91,
          16,
          79,
          28
         ],
         "xaxis": "x6",
         "y": [
          16,
          16,
          17,
          17,
          18,
          18,
          19,
          19,
          20,
          20,
          21,
          23,
          25,
          28,
          28,
          29,
          29,
          30,
          33,
          33,
          34,
          34,
          37,
          37,
          38,
          39,
          39,
          39,
          40,
          40,
          40,
          40,
          42,
          43,
          43,
          44,
          46,
          47,
          47,
          48,
          48,
          48,
          49,
          50,
          50,
          54,
          54,
          54,
          54,
          54,
          57,
          57,
          58,
          58,
          59,
          60,
          60,
          60,
          60,
          62,
          62,
          62,
          63,
          63,
          64,
          65,
          65,
          65,
          65,
          67,
          67,
          67,
          69,
          70,
          70,
          72,
          72,
          73,
          73,
          74,
          75,
          76,
          76,
          77,
          78,
          78,
          78,
          78,
          78,
          78,
          78,
          79,
          79,
          81,
          85,
          86,
          87,
          88,
          88,
          97,
          97,
          98,
          99,
          101,
          103,
          103,
          103,
          103,
          113,
          120,
          120,
          126
         ],
         "yaxis": "y6"
        },
        {
         "marker": {
          "color": "rgb(80, 139, 141)",
          "line": {
           "color": "#F7F7F7",
           "width": 1
          },
          "opacity": 0.85,
          "size": 9
         },
         "mode": "markers",
         "name": "Men",
         "showlegend": false,
         "type": "scatter",
         "x": [
          19,
          21,
          64,
          67,
          37,
          22,
          20,
          52,
          35,
          25,
          31,
          29,
          35,
          60,
          53,
          18,
          24,
          48,
          33,
          59,
          47,
          69,
          53,
          70,
          19,
          63,
          18,
          19,
          70,
          59,
          26,
          40,
          57,
          38,
          67,
          48,
          18,
          48,
          24,
          48,
          20,
          67,
          26,
          49,
          54,
          68,
          66,
          65,
          19,
          27,
          39,
          43,
          40,
          59,
          38,
          47,
          39,
          20,
          32,
          19,
          32,
          25,
          28,
          48,
          34,
          43,
          39,
          37,
          34,
          19,
          50,
          42,
          32,
          40,
          28,
          36,
          36,
          58,
          27,
          59,
          35,
          46,
          30,
          28,
          33,
          32,
          32,
          30
         ],
         "xaxis": "x7",
         "y": [
          39,
          81,
          3,
          14,
          13,
          79,
          66,
          29,
          35,
          73,
          73,
          82,
          61,
          4,
          4,
          92,
          92,
          36,
          60,
          60,
          41,
          46,
          46,
          56,
          55,
          51,
          59,
          59,
          55,
          47,
          54,
          48,
          51,
          55,
          41,
          46,
          41,
          49,
          52,
          42,
          49,
          59,
          55,
          56,
          46,
          43,
          48,
          52,
          46,
          56,
          91,
          35,
          95,
          11,
          75,
          9,
          75,
          5,
          73,
          10,
          93,
          12,
          97,
          36,
          90,
          17,
          88,
          1,
          1,
          5,
          26,
          20,
          63,
          13,
          75,
          10,
          92,
          15,
          69,
          14,
          90,
          15,
          97,
          68,
          8,
          74,
          18,
          83
         ],
         "yaxis": "y7"
        },
        {
         "marker": {
          "color": "rgb(240, 202, 189)",
          "line": {
           "color": "#F7F7F7",
           "width": 1
          },
          "opacity": 0.85,
          "size": 9
         },
         "mode": "markers",
         "name": "Women",
         "showlegend": false,
         "type": "scatter",
         "x": [
          20,
          23,
          31,
          22,
          35,
          23,
          30,
          35,
          58,
          24,
          35,
          35,
          46,
          54,
          45,
          40,
          23,
          21,
          49,
          21,
          42,
          30,
          36,
          20,
          65,
          31,
          49,
          24,
          50,
          27,
          29,
          31,
          49,
          31,
          50,
          51,
          27,
          67,
          54,
          43,
          68,
          32,
          47,
          60,
          60,
          45,
          23,
          49,
          46,
          21,
          55,
          22,
          34,
          50,
          68,
          40,
          32,
          47,
          27,
          23,
          49,
          21,
          66,
          19,
          38,
          18,
          19,
          63,
          49,
          51,
          50,
          38,
          40,
          23,
          31,
          25,
          31,
          29,
          44,
          35,
          57,
          28,
          32,
          32,
          34,
          44,
          38,
          47,
          27,
          30,
          30,
          56,
          29,
          31,
          36,
          33,
          36,
          52,
          30,
          37,
          32,
          29,
          41,
          54,
          41,
          36,
          34,
          32,
          38,
          47,
          35,
          45
         ],
         "xaxis": "x7",
         "y": [
          6,
          77,
          40,
          76,
          6,
          94,
          72,
          99,
          15,
          77,
          35,
          98,
          5,
          14,
          32,
          31,
          87,
          73,
          14,
          81,
          17,
          73,
          26,
          75,
          35,
          61,
          28,
          65,
          55,
          47,
          42,
          42,
          52,
          54,
          45,
          50,
          51,
          52,
          59,
          50,
          48,
          47,
          42,
          49,
          56,
          53,
          52,
          42,
          44,
          57,
          58,
          55,
          60,
          46,
          55,
          40,
          42,
          47,
          50,
          41,
          48,
          42,
          50,
          54,
          42,
          48,
          50,
          43,
          59,
          43,
          57,
          40,
          58,
          29,
          77,
          34,
          71,
          88,
          7,
          72,
          5,
          40,
          87,
          74,
          22,
          20,
          76,
          16,
          89,
          78,
          73,
          35,
          83,
          93,
          75,
          95,
          27,
          13,
          86,
          32,
          86,
          88,
          39,
          24,
          17,
          85,
          23,
          69,
          91,
          16,
          79,
          28
         ],
         "yaxis": "y7"
        },
        {
         "marker": {
          "color": "rgb(80, 139, 141)",
          "line": {
           "color": "#F7F7F7",
           "width": 1
          },
          "opacity": 0.85,
          "size": 9
         },
         "mode": "markers",
         "name": "Men",
         "showlegend": false,
         "type": "scatter",
         "x": [
          15,
          15,
          19,
          19,
          20,
          20,
          21,
          23,
          24,
          24,
          25,
          28,
          28,
          30,
          33,
          33,
          38,
          39,
          42,
          43,
          43,
          44,
          46,
          46,
          46,
          48,
          48,
          48,
          49,
          54,
          54,
          54,
          54,
          54,
          54,
          54,
          59,
          60,
          60,
          61,
          61,
          62,
          62,
          62,
          63,
          63,
          63,
          63,
          64,
          67,
          69,
          71,
          71,
          71,
          71,
          71,
          71,
          73,
          73,
          74,
          75,
          77,
          77,
          77,
          78,
          78,
          78,
          78,
          78,
          81,
          85,
          86,
          87,
          87,
          87,
          87,
          87,
          88,
          88,
          93,
          93,
          98,
          99,
          101,
          113,
          126,
          137,
          137
         ],
         "xaxis": "x8",
         "y": [
          39,
          81,
          3,
          14,
          13,
          79,
          66,
          29,
          35,
          73,
          73,
          82,
          61,
          4,
          4,
          92,
          92,
          36,
          60,
          60,
          41,
          46,
          46,
          56,
          55,
          51,
          59,
          59,
          55,
          47,
          54,
          48,
          51,
          55,
          41,
          46,
          41,
          49,
          52,
          42,
          49,
          59,
          55,
          56,
          46,
          43,
          48,
          52,
          46,
          56,
          91,
          35,
          95,
          11,
          75,
          9,
          75,
          5,
          73,
          10,
          93,
          12,
          97,
          36,
          90,
          17,
          88,
          1,
          1,
          5,
          26,
          20,
          63,
          13,
          75,
          10,
          92,
          15,
          69,
          14,
          90,
          15,
          97,
          68,
          8,
          74,
          18,
          83
         ],
         "yaxis": "y8"
        },
        {
         "marker": {
          "color": "rgb(240, 202, 189)",
          "line": {
           "color": "#F7F7F7",
           "width": 1
          },
          "opacity": 0.85,
          "size": 9
         },
         "mode": "markers",
         "name": "Women",
         "showlegend": false,
         "type": "scatter",
         "x": [
          16,
          16,
          17,
          17,
          18,
          18,
          19,
          19,
          20,
          20,
          21,
          23,
          25,
          28,
          28,
          29,
          29,
          30,
          33,
          33,
          34,
          34,
          37,
          37,
          38,
          39,
          39,
          39,
          40,
          40,
          40,
          40,
          42,
          43,
          43,
          44,
          46,
          47,
          47,
          48,
          48,
          48,
          49,
          50,
          50,
          54,
          54,
          54,
          54,
          54,
          57,
          57,
          58,
          58,
          59,
          60,
          60,
          60,
          60,
          62,
          62,
          62,
          63,
          63,
          64,
          65,
          65,
          65,
          65,
          67,
          67,
          67,
          69,
          70,
          70,
          72,
          72,
          73,
          73,
          74,
          75,
          76,
          76,
          77,
          78,
          78,
          78,
          78,
          78,
          78,
          78,
          79,
          79,
          81,
          85,
          86,
          87,
          88,
          88,
          97,
          97,
          98,
          99,
          101,
          103,
          103,
          103,
          103,
          113,
          120,
          120,
          126
         ],
         "xaxis": "x8",
         "y": [
          6,
          77,
          40,
          76,
          6,
          94,
          72,
          99,
          15,
          77,
          35,
          98,
          5,
          14,
          32,
          31,
          87,
          73,
          14,
          81,
          17,
          73,
          26,
          75,
          35,
          61,
          28,
          65,
          55,
          47,
          42,
          42,
          52,
          54,
          45,
          50,
          51,
          52,
          59,
          50,
          48,
          47,
          42,
          49,
          56,
          53,
          52,
          42,
          44,
          57,
          58,
          55,
          60,
          46,
          55,
          40,
          42,
          47,
          50,
          41,
          48,
          42,
          50,
          54,
          42,
          48,
          50,
          43,
          59,
          43,
          57,
          40,
          58,
          29,
          77,
          34,
          71,
          88,
          7,
          72,
          5,
          40,
          87,
          74,
          22,
          20,
          76,
          16,
          89,
          78,
          73,
          35,
          83,
          93,
          75,
          95,
          27,
          13,
          86,
          32,
          86,
          88,
          39,
          24,
          17,
          85,
          23,
          69,
          91,
          16,
          79,
          28
         ],
         "yaxis": "y8"
        },
        {
         "marker": {
          "color": "rgb(80, 139, 141)",
          "line": {
           "color": "#F7F7F7",
           "width": 1
          },
          "opacity": 0.85,
          "size": 9
         },
         "showlegend": false,
         "type": "box",
         "xaxis": "x9",
         "y": [
          39,
          81,
          3,
          14,
          13,
          79,
          66,
          29,
          35,
          73,
          73,
          82,
          61,
          4,
          4,
          92,
          92,
          36,
          60,
          60,
          41,
          46,
          46,
          56,
          55,
          51,
          59,
          59,
          55,
          47,
          54,
          48,
          51,
          55,
          41,
          46,
          41,
          49,
          52,
          42,
          49,
          59,
          55,
          56,
          46,
          43,
          48,
          52,
          46,
          56,
          91,
          35,
          95,
          11,
          75,
          9,
          75,
          5,
          73,
          10,
          93,
          12,
          97,
          36,
          90,
          17,
          88,
          1,
          1,
          5,
          26,
          20,
          63,
          13,
          75,
          10,
          92,
          15,
          69,
          14,
          90,
          15,
          97,
          68,
          8,
          74,
          18,
          83
         ],
         "yaxis": "y9"
        },
        {
         "marker": {
          "color": "rgb(240, 202, 189)",
          "line": {
           "color": "#F7F7F7",
           "width": 1
          },
          "opacity": 0.85,
          "size": 9
         },
         "showlegend": false,
         "type": "box",
         "xaxis": "x9",
         "y": [
          6,
          77,
          40,
          76,
          6,
          94,
          72,
          99,
          15,
          77,
          35,
          98,
          5,
          14,
          32,
          31,
          87,
          73,
          14,
          81,
          17,
          73,
          26,
          75,
          35,
          61,
          28,
          65,
          55,
          47,
          42,
          42,
          52,
          54,
          45,
          50,
          51,
          52,
          59,
          50,
          48,
          47,
          42,
          49,
          56,
          53,
          52,
          42,
          44,
          57,
          58,
          55,
          60,
          46,
          55,
          40,
          42,
          47,
          50,
          41,
          48,
          42,
          50,
          54,
          42,
          48,
          50,
          43,
          59,
          43,
          57,
          40,
          58,
          29,
          77,
          34,
          71,
          88,
          7,
          72,
          5,
          40,
          87,
          74,
          22,
          20,
          76,
          16,
          89,
          78,
          73,
          35,
          83,
          93,
          75,
          95,
          27,
          13,
          86,
          32,
          86,
          88,
          39,
          24,
          17,
          85,
          23,
          69,
          91,
          16,
          79,
          28
         ],
         "yaxis": "y9"
        }
       ],
       "layout": {
        "height": 900,
        "legend": {
         "orientation": "h",
         "x": 0.35,
         "y": 1.02,
         "yanchor": "bottom"
        },
        "showlegend": true,
        "template": {
         "data": {
          "bar": [
           {
            "error_x": {
             "color": "#2a3f5f"
            },
            "error_y": {
             "color": "#2a3f5f"
            },
            "marker": {
             "line": {
              "color": "#E5ECF6",
              "width": 0.5
             },
             "pattern": {
              "fillmode": "overlay",
              "size": 10,
              "solidity": 0.2
             }
            },
            "type": "bar"
           }
          ],
          "barpolar": [
           {
            "marker": {
             "line": {
              "color": "#E5ECF6",
              "width": 0.5
             },
             "pattern": {
              "fillmode": "overlay",
              "size": 10,
              "solidity": 0.2
             }
            },
            "type": "barpolar"
           }
          ],
          "carpet": [
           {
            "aaxis": {
             "endlinecolor": "#2a3f5f",
             "gridcolor": "white",
             "linecolor": "white",
             "minorgridcolor": "white",
             "startlinecolor": "#2a3f5f"
            },
            "baxis": {
             "endlinecolor": "#2a3f5f",
             "gridcolor": "white",
             "linecolor": "white",
             "minorgridcolor": "white",
             "startlinecolor": "#2a3f5f"
            },
            "type": "carpet"
           }
          ],
          "choropleth": [
           {
            "colorbar": {
             "outlinewidth": 0,
             "ticks": ""
            },
            "type": "choropleth"
           }
          ],
          "contour": [
           {
            "colorbar": {
             "outlinewidth": 0,
             "ticks": ""
            },
            "colorscale": [
             [
              0,
              "#0d0887"
             ],
             [
              0.1111111111111111,
              "#46039f"
             ],
             [
              0.2222222222222222,
              "#7201a8"
             ],
             [
              0.3333333333333333,
              "#9c179e"
             ],
             [
              0.4444444444444444,
              "#bd3786"
             ],
             [
              0.5555555555555556,
              "#d8576b"
             ],
             [
              0.6666666666666666,
              "#ed7953"
             ],
             [
              0.7777777777777778,
              "#fb9f3a"
             ],
             [
              0.8888888888888888,
              "#fdca26"
             ],
             [
              1,
              "#f0f921"
             ]
            ],
            "type": "contour"
           }
          ],
          "contourcarpet": [
           {
            "colorbar": {
             "outlinewidth": 0,
             "ticks": ""
            },
            "type": "contourcarpet"
           }
          ],
          "heatmap": [
           {
            "colorbar": {
             "outlinewidth": 0,
             "ticks": ""
            },
            "colorscale": [
             [
              0,
              "#0d0887"
             ],
             [
              0.1111111111111111,
              "#46039f"
             ],
             [
              0.2222222222222222,
              "#7201a8"
             ],
             [
              0.3333333333333333,
              "#9c179e"
             ],
             [
              0.4444444444444444,
              "#bd3786"
             ],
             [
              0.5555555555555556,
              "#d8576b"
             ],
             [
              0.6666666666666666,
              "#ed7953"
             ],
             [
              0.7777777777777778,
              "#fb9f3a"
             ],
             [
              0.8888888888888888,
              "#fdca26"
             ],
             [
              1,
              "#f0f921"
             ]
            ],
            "type": "heatmap"
           }
          ],
          "heatmapgl": [
           {
            "colorbar": {
             "outlinewidth": 0,
             "ticks": ""
            },
            "colorscale": [
             [
              0,
              "#0d0887"
             ],
             [
              0.1111111111111111,
              "#46039f"
             ],
             [
              0.2222222222222222,
              "#7201a8"
             ],
             [
              0.3333333333333333,
              "#9c179e"
             ],
             [
              0.4444444444444444,
              "#bd3786"
             ],
             [
              0.5555555555555556,
              "#d8576b"
             ],
             [
              0.6666666666666666,
              "#ed7953"
             ],
             [
              0.7777777777777778,
              "#fb9f3a"
             ],
             [
              0.8888888888888888,
              "#fdca26"
             ],
             [
              1,
              "#f0f921"
             ]
            ],
            "type": "heatmapgl"
           }
          ],
          "histogram": [
           {
            "marker": {
             "pattern": {
              "fillmode": "overlay",
              "size": 10,
              "solidity": 0.2
             }
            },
            "type": "histogram"
           }
          ],
          "histogram2d": [
           {
            "colorbar": {
             "outlinewidth": 0,
             "ticks": ""
            },
            "colorscale": [
             [
              0,
              "#0d0887"
             ],
             [
              0.1111111111111111,
              "#46039f"
             ],
             [
              0.2222222222222222,
              "#7201a8"
             ],
             [
              0.3333333333333333,
              "#9c179e"
             ],
             [
              0.4444444444444444,
              "#bd3786"
             ],
             [
              0.5555555555555556,
              "#d8576b"
             ],
             [
              0.6666666666666666,
              "#ed7953"
             ],
             [
              0.7777777777777778,
              "#fb9f3a"
             ],
             [
              0.8888888888888888,
              "#fdca26"
             ],
             [
              1,
              "#f0f921"
             ]
            ],
            "type": "histogram2d"
           }
          ],
          "histogram2dcontour": [
           {
            "colorbar": {
             "outlinewidth": 0,
             "ticks": ""
            },
            "colorscale": [
             [
              0,
              "#0d0887"
             ],
             [
              0.1111111111111111,
              "#46039f"
             ],
             [
              0.2222222222222222,
              "#7201a8"
             ],
             [
              0.3333333333333333,
              "#9c179e"
             ],
             [
              0.4444444444444444,
              "#bd3786"
             ],
             [
              0.5555555555555556,
              "#d8576b"
             ],
             [
              0.6666666666666666,
              "#ed7953"
             ],
             [
              0.7777777777777778,
              "#fb9f3a"
             ],
             [
              0.8888888888888888,
              "#fdca26"
             ],
             [
              1,
              "#f0f921"
             ]
            ],
            "type": "histogram2dcontour"
           }
          ],
          "mesh3d": [
           {
            "colorbar": {
             "outlinewidth": 0,
             "ticks": ""
            },
            "type": "mesh3d"
           }
          ],
          "parcoords": [
           {
            "line": {
             "colorbar": {
              "outlinewidth": 0,
              "ticks": ""
             }
            },
            "type": "parcoords"
           }
          ],
          "pie": [
           {
            "automargin": true,
            "type": "pie"
           }
          ],
          "scatter": [
           {
            "fillpattern": {
             "fillmode": "overlay",
             "size": 10,
             "solidity": 0.2
            },
            "type": "scatter"
           }
          ],
          "scatter3d": [
           {
            "line": {
             "colorbar": {
              "outlinewidth": 0,
              "ticks": ""
             }
            },
            "marker": {
             "colorbar": {
              "outlinewidth": 0,
              "ticks": ""
             }
            },
            "type": "scatter3d"
           }
          ],
          "scattercarpet": [
           {
            "marker": {
             "colorbar": {
              "outlinewidth": 0,
              "ticks": ""
             }
            },
            "type": "scattercarpet"
           }
          ],
          "scattergeo": [
           {
            "marker": {
             "colorbar": {
              "outlinewidth": 0,
              "ticks": ""
             }
            },
            "type": "scattergeo"
           }
          ],
          "scattergl": [
           {
            "marker": {
             "colorbar": {
              "outlinewidth": 0,
              "ticks": ""
             }
            },
            "type": "scattergl"
           }
          ],
          "scattermapbox": [
           {
            "marker": {
             "colorbar": {
              "outlinewidth": 0,
              "ticks": ""
             }
            },
            "type": "scattermapbox"
           }
          ],
          "scatterpolar": [
           {
            "marker": {
             "colorbar": {
              "outlinewidth": 0,
              "ticks": ""
             }
            },
            "type": "scatterpolar"
           }
          ],
          "scatterpolargl": [
           {
            "marker": {
             "colorbar": {
              "outlinewidth": 0,
              "ticks": ""
             }
            },
            "type": "scatterpolargl"
           }
          ],
          "scatterternary": [
           {
            "marker": {
             "colorbar": {
              "outlinewidth": 0,
              "ticks": ""
             }
            },
            "type": "scatterternary"
           }
          ],
          "surface": [
           {
            "colorbar": {
             "outlinewidth": 0,
             "ticks": ""
            },
            "colorscale": [
             [
              0,
              "#0d0887"
             ],
             [
              0.1111111111111111,
              "#46039f"
             ],
             [
              0.2222222222222222,
              "#7201a8"
             ],
             [
              0.3333333333333333,
              "#9c179e"
             ],
             [
              0.4444444444444444,
              "#bd3786"
             ],
             [
              0.5555555555555556,
              "#d8576b"
             ],
             [
              0.6666666666666666,
              "#ed7953"
             ],
             [
              0.7777777777777778,
              "#fb9f3a"
             ],
             [
              0.8888888888888888,
              "#fdca26"
             ],
             [
              1,
              "#f0f921"
             ]
            ],
            "type": "surface"
           }
          ],
          "table": [
           {
            "cells": {
             "fill": {
              "color": "#EBF0F8"
             },
             "line": {
              "color": "white"
             }
            },
            "header": {
             "fill": {
              "color": "#C8D4E3"
             },
             "line": {
              "color": "white"
             }
            },
            "type": "table"
           }
          ]
         },
         "layout": {
          "font": {
           "family": "Franklin Gothic",
           "size": 12
          }
         }
        },
        "title": {
         "text": "Alışveriş Merkezi Müşteri Çifti Grafikleri"
        },
        "width": 700,
        "xaxis": {
         "anchor": "y",
         "domain": [
          0,
          0.2888888888888889
         ],
         "showticklabels": false
        },
        "xaxis2": {
         "anchor": "y2",
         "domain": [
          0.35555555555555557,
          0.6444444444444445
         ]
        },
        "xaxis3": {
         "anchor": "y3",
         "domain": [
          0.7111111111111111,
          1
         ]
        },
        "xaxis4": {
         "anchor": "y4",
         "domain": [
          0,
          0.2888888888888889
         ]
        },
        "xaxis5": {
         "anchor": "y5",
         "domain": [
          0.35555555555555557,
          0.6444444444444445
         ],
         "showticklabels": false
        },
        "xaxis6": {
         "anchor": "y6",
         "domain": [
          0.7111111111111111,
          1
         ]
        },
        "xaxis7": {
         "anchor": "y7",
         "domain": [
          0,
          0.2888888888888889
         ],
         "title": {
          "text": "Age"
         }
        },
        "xaxis8": {
         "anchor": "y8",
         "domain": [
          0.35555555555555557,
          0.6444444444444445
         ],
         "title": {
          "text": "Annual Income"
         }
        },
        "xaxis9": {
         "anchor": "y9",
         "domain": [
          0.7111111111111111,
          1
         ],
         "showticklabels": false,
         "title": {
          "text": "Spending Score"
         }
        },
        "yaxis": {
         "anchor": "x",
         "domain": [
          0.7333333333333333,
          1
         ],
         "title": {
          "text": "Age"
         }
        },
        "yaxis2": {
         "anchor": "x2",
         "domain": [
          0.7333333333333333,
          1
         ]
        },
        "yaxis3": {
         "anchor": "x3",
         "domain": [
          0.7333333333333333,
          1
         ]
        },
        "yaxis4": {
         "anchor": "x4",
         "domain": [
          0.36666666666666664,
          0.6333333333333333
         ],
         "title": {
          "text": "Annual Income"
         }
        },
        "yaxis5": {
         "anchor": "x5",
         "domain": [
          0.36666666666666664,
          0.6333333333333333
         ]
        },
        "yaxis6": {
         "anchor": "x6",
         "domain": [
          0.36666666666666664,
          0.6333333333333333
         ]
        },
        "yaxis7": {
         "anchor": "x7",
         "domain": [
          0,
          0.26666666666666666
         ],
         "title": {
          "text": "Spending Score"
         }
        },
        "yaxis8": {
         "anchor": "x8",
         "domain": [
          0,
          0.26666666666666666
         ]
        },
        "yaxis9": {
         "anchor": "x9",
         "domain": [
          0,
          0.26666666666666666
         ]
        }
       }
      },
      "text/html": [
       "<div>                            <div id=\"70fd5de8-6f00-4c40-9f6e-588ff3faf8de\" class=\"plotly-graph-div\" style=\"height:900px; width:700px;\"></div>            <script type=\"text/javascript\">                require([\"plotly\"], function(Plotly) {                    window.PLOTLYENV=window.PLOTLYENV || {};                                    if (document.getElementById(\"70fd5de8-6f00-4c40-9f6e-588ff3faf8de\")) {                    Plotly.newPlot(                        \"70fd5de8-6f00-4c40-9f6e-588ff3faf8de\",                        [{\"marker\":{\"color\":\"rgb(80, 139, 141)\",\"line\":{\"color\":\"#F7F7F7\",\"width\":1},\"opacity\":0.85,\"size\":9},\"showlegend\":false,\"y\":[19,21,64,67,37,22,20,52,35,25,31,29,35,60,53,18,24,48,33,59,47,69,53,70,19,63,18,19,70,59,26,40,57,38,67,48,18,48,24,48,20,67,26,49,54,68,66,65,19,27,39,43,40,59,38,47,39,20,32,19,32,25,28,48,34,43,39,37,34,19,50,42,32,40,28,36,36,58,27,59,35,46,30,28,33,32,32,30],\"type\":\"box\",\"xaxis\":\"x\",\"yaxis\":\"y\"},{\"marker\":{\"color\":\"rgb(240, 202, 189)\",\"line\":{\"color\":\"#F7F7F7\",\"width\":1},\"opacity\":0.85,\"size\":9},\"showlegend\":false,\"y\":[20,23,31,22,35,23,30,35,58,24,35,35,46,54,45,40,23,21,49,21,42,30,36,20,65,31,49,24,50,27,29,31,49,31,50,51,27,67,54,43,68,32,47,60,60,45,23,49,46,21,55,22,34,50,68,40,32,47,27,23,49,21,66,19,38,18,19,63,49,51,50,38,40,23,31,25,31,29,44,35,57,28,32,32,34,44,38,47,27,30,30,56,29,31,36,33,36,52,30,37,32,29,41,54,41,36,34,32,38,47,35,45],\"type\":\"box\",\"xaxis\":\"x\",\"yaxis\":\"y\"},{\"marker\":{\"color\":\"rgb(80, 139, 141)\",\"size\":9,\"line\":{\"color\":\"#F7F7F7\",\"width\":1},\"opacity\":0.85},\"mode\":\"markers\",\"name\":\"Men\",\"showlegend\":true,\"x\":[15,15,19,19,20,20,21,23,24,24,25,28,28,30,33,33,38,39,42,43,43,44,46,46,46,48,48,48,49,54,54,54,54,54,54,54,59,60,60,61,61,62,62,62,63,63,63,63,64,67,69,71,71,71,71,71,71,73,73,74,75,77,77,77,78,78,78,78,78,81,85,86,87,87,87,87,87,88,88,93,93,98,99,101,113,126,137,137],\"y\":[19,21,64,67,37,22,20,52,35,25,31,29,35,60,53,18,24,48,33,59,47,69,53,70,19,63,18,19,70,59,26,40,57,38,67,48,18,48,24,48,20,67,26,49,54,68,66,65,19,27,39,43,40,59,38,47,39,20,32,19,32,25,28,48,34,43,39,37,34,19,50,42,32,40,28,36,36,58,27,59,35,46,30,28,33,32,32,30],\"type\":\"scatter\",\"xaxis\":\"x2\",\"yaxis\":\"y2\"},{\"marker\":{\"color\":\"rgb(240, 202, 189)\",\"size\":9,\"line\":{\"color\":\"#F7F7F7\",\"width\":1},\"opacity\":0.85},\"mode\":\"markers\",\"name\":\"Women\",\"showlegend\":true,\"x\":[16,16,17,17,18,18,19,19,20,20,21,23,25,28,28,29,29,30,33,33,34,34,37,37,38,39,39,39,40,40,40,40,42,43,43,44,46,47,47,48,48,48,49,50,50,54,54,54,54,54,57,57,58,58,59,60,60,60,60,62,62,62,63,63,64,65,65,65,65,67,67,67,69,70,70,72,72,73,73,74,75,76,76,77,78,78,78,78,78,78,78,79,79,81,85,86,87,88,88,97,97,98,99,101,103,103,103,103,113,120,120,126],\"y\":[20,23,31,22,35,23,30,35,58,24,35,35,46,54,45,40,23,21,49,21,42,30,36,20,65,31,49,24,50,27,29,31,49,31,50,51,27,67,54,43,68,32,47,60,60,45,23,49,46,21,55,22,34,50,68,40,32,47,27,23,49,21,66,19,38,18,19,63,49,51,50,38,40,23,31,25,31,29,44,35,57,28,32,32,34,44,38,47,27,30,30,56,29,31,36,33,36,52,30,37,32,29,41,54,41,36,34,32,38,47,35,45],\"type\":\"scatter\",\"xaxis\":\"x2\",\"yaxis\":\"y2\"},{\"marker\":{\"color\":\"rgb(80, 139, 141)\",\"size\":9,\"line\":{\"color\":\"#F7F7F7\",\"width\":1},\"opacity\":0.85},\"mode\":\"markers\",\"name\":\"Men\",\"showlegend\":false,\"x\":[39,81,3,14,13,79,66,29,35,73,73,82,61,4,4,92,92,36,60,60,41,46,46,56,55,51,59,59,55,47,54,48,51,55,41,46,41,49,52,42,49,59,55,56,46,43,48,52,46,56,91,35,95,11,75,9,75,5,73,10,93,12,97,36,90,17,88,1,1,5,26,20,63,13,75,10,92,15,69,14,90,15,97,68,8,74,18,83],\"y\":[19,21,64,67,37,22,20,52,35,25,31,29,35,60,53,18,24,48,33,59,47,69,53,70,19,63,18,19,70,59,26,40,57,38,67,48,18,48,24,48,20,67,26,49,54,68,66,65,19,27,39,43,40,59,38,47,39,20,32,19,32,25,28,48,34,43,39,37,34,19,50,42,32,40,28,36,36,58,27,59,35,46,30,28,33,32,32,30],\"type\":\"scatter\",\"xaxis\":\"x3\",\"yaxis\":\"y3\"},{\"marker\":{\"color\":\"rgb(240, 202, 189)\",\"size\":9,\"line\":{\"color\":\"#F7F7F7\",\"width\":1},\"opacity\":0.85},\"mode\":\"markers\",\"name\":\"Women\",\"showlegend\":false,\"x\":[6,77,40,76,6,94,72,99,15,77,35,98,5,14,32,31,87,73,14,81,17,73,26,75,35,61,28,65,55,47,42,42,52,54,45,50,51,52,59,50,48,47,42,49,56,53,52,42,44,57,58,55,60,46,55,40,42,47,50,41,48,42,50,54,42,48,50,43,59,43,57,40,58,29,77,34,71,88,7,72,5,40,87,74,22,20,76,16,89,78,73,35,83,93,75,95,27,13,86,32,86,88,39,24,17,85,23,69,91,16,79,28],\"y\":[20,23,31,22,35,23,30,35,58,24,35,35,46,54,45,40,23,21,49,21,42,30,36,20,65,31,49,24,50,27,29,31,49,31,50,51,27,67,54,43,68,32,47,60,60,45,23,49,46,21,55,22,34,50,68,40,32,47,27,23,49,21,66,19,38,18,19,63,49,51,50,38,40,23,31,25,31,29,44,35,57,28,32,32,34,44,38,47,27,30,30,56,29,31,36,33,36,52,30,37,32,29,41,54,41,36,34,32,38,47,35,45],\"type\":\"scatter\",\"xaxis\":\"x3\",\"yaxis\":\"y3\"},{\"marker\":{\"color\":\"rgb(80, 139, 141)\",\"size\":9,\"line\":{\"color\":\"#F7F7F7\",\"width\":1},\"opacity\":0.85},\"mode\":\"markers\",\"name\":\"Men\",\"showlegend\":false,\"x\":[19,21,64,67,37,22,20,52,35,25,31,29,35,60,53,18,24,48,33,59,47,69,53,70,19,63,18,19,70,59,26,40,57,38,67,48,18,48,24,48,20,67,26,49,54,68,66,65,19,27,39,43,40,59,38,47,39,20,32,19,32,25,28,48,34,43,39,37,34,19,50,42,32,40,28,36,36,58,27,59,35,46,30,28,33,32,32,30],\"y\":[15,15,19,19,20,20,21,23,24,24,25,28,28,30,33,33,38,39,42,43,43,44,46,46,46,48,48,48,49,54,54,54,54,54,54,54,59,60,60,61,61,62,62,62,63,63,63,63,64,67,69,71,71,71,71,71,71,73,73,74,75,77,77,77,78,78,78,78,78,81,85,86,87,87,87,87,87,88,88,93,93,98,99,101,113,126,137,137],\"type\":\"scatter\",\"xaxis\":\"x4\",\"yaxis\":\"y4\"},{\"marker\":{\"color\":\"rgb(240, 202, 189)\",\"size\":9,\"line\":{\"color\":\"#F7F7F7\",\"width\":1},\"opacity\":0.85},\"mode\":\"markers\",\"name\":\"Women\",\"showlegend\":false,\"x\":[20,23,31,22,35,23,30,35,58,24,35,35,46,54,45,40,23,21,49,21,42,30,36,20,65,31,49,24,50,27,29,31,49,31,50,51,27,67,54,43,68,32,47,60,60,45,23,49,46,21,55,22,34,50,68,40,32,47,27,23,49,21,66,19,38,18,19,63,49,51,50,38,40,23,31,25,31,29,44,35,57,28,32,32,34,44,38,47,27,30,30,56,29,31,36,33,36,52,30,37,32,29,41,54,41,36,34,32,38,47,35,45],\"y\":[16,16,17,17,18,18,19,19,20,20,21,23,25,28,28,29,29,30,33,33,34,34,37,37,38,39,39,39,40,40,40,40,42,43,43,44,46,47,47,48,48,48,49,50,50,54,54,54,54,54,57,57,58,58,59,60,60,60,60,62,62,62,63,63,64,65,65,65,65,67,67,67,69,70,70,72,72,73,73,74,75,76,76,77,78,78,78,78,78,78,78,79,79,81,85,86,87,88,88,97,97,98,99,101,103,103,103,103,113,120,120,126],\"type\":\"scatter\",\"xaxis\":\"x4\",\"yaxis\":\"y4\"},{\"marker\":{\"color\":\"rgb(80, 139, 141)\",\"line\":{\"color\":\"#F7F7F7\",\"width\":1},\"opacity\":0.85,\"size\":9},\"showlegend\":false,\"y\":[15,15,19,19,20,20,21,23,24,24,25,28,28,30,33,33,38,39,42,43,43,44,46,46,46,48,48,48,49,54,54,54,54,54,54,54,59,60,60,61,61,62,62,62,63,63,63,63,64,67,69,71,71,71,71,71,71,73,73,74,75,77,77,77,78,78,78,78,78,81,85,86,87,87,87,87,87,88,88,93,93,98,99,101,113,126,137,137],\"type\":\"box\",\"xaxis\":\"x5\",\"yaxis\":\"y5\"},{\"marker\":{\"color\":\"rgb(240, 202, 189)\",\"line\":{\"color\":\"#F7F7F7\",\"width\":1},\"opacity\":0.85,\"size\":9},\"showlegend\":false,\"y\":[16,16,17,17,18,18,19,19,20,20,21,23,25,28,28,29,29,30,33,33,34,34,37,37,38,39,39,39,40,40,40,40,42,43,43,44,46,47,47,48,48,48,49,50,50,54,54,54,54,54,57,57,58,58,59,60,60,60,60,62,62,62,63,63,64,65,65,65,65,67,67,67,69,70,70,72,72,73,73,74,75,76,76,77,78,78,78,78,78,78,78,79,79,81,85,86,87,88,88,97,97,98,99,101,103,103,103,103,113,120,120,126],\"type\":\"box\",\"xaxis\":\"x5\",\"yaxis\":\"y5\"},{\"marker\":{\"color\":\"rgb(80, 139, 141)\",\"size\":9,\"line\":{\"color\":\"#F7F7F7\",\"width\":1},\"opacity\":0.85},\"mode\":\"markers\",\"name\":\"Men\",\"showlegend\":false,\"x\":[39,81,3,14,13,79,66,29,35,73,73,82,61,4,4,92,92,36,60,60,41,46,46,56,55,51,59,59,55,47,54,48,51,55,41,46,41,49,52,42,49,59,55,56,46,43,48,52,46,56,91,35,95,11,75,9,75,5,73,10,93,12,97,36,90,17,88,1,1,5,26,20,63,13,75,10,92,15,69,14,90,15,97,68,8,74,18,83],\"y\":[15,15,19,19,20,20,21,23,24,24,25,28,28,30,33,33,38,39,42,43,43,44,46,46,46,48,48,48,49,54,54,54,54,54,54,54,59,60,60,61,61,62,62,62,63,63,63,63,64,67,69,71,71,71,71,71,71,73,73,74,75,77,77,77,78,78,78,78,78,81,85,86,87,87,87,87,87,88,88,93,93,98,99,101,113,126,137,137],\"type\":\"scatter\",\"xaxis\":\"x6\",\"yaxis\":\"y6\"},{\"marker\":{\"color\":\"rgb(240, 202, 189)\",\"size\":9,\"line\":{\"color\":\"#F7F7F7\",\"width\":1},\"opacity\":0.85},\"mode\":\"markers\",\"name\":\"Women\",\"showlegend\":false,\"x\":[6,77,40,76,6,94,72,99,15,77,35,98,5,14,32,31,87,73,14,81,17,73,26,75,35,61,28,65,55,47,42,42,52,54,45,50,51,52,59,50,48,47,42,49,56,53,52,42,44,57,58,55,60,46,55,40,42,47,50,41,48,42,50,54,42,48,50,43,59,43,57,40,58,29,77,34,71,88,7,72,5,40,87,74,22,20,76,16,89,78,73,35,83,93,75,95,27,13,86,32,86,88,39,24,17,85,23,69,91,16,79,28],\"y\":[16,16,17,17,18,18,19,19,20,20,21,23,25,28,28,29,29,30,33,33,34,34,37,37,38,39,39,39,40,40,40,40,42,43,43,44,46,47,47,48,48,48,49,50,50,54,54,54,54,54,57,57,58,58,59,60,60,60,60,62,62,62,63,63,64,65,65,65,65,67,67,67,69,70,70,72,72,73,73,74,75,76,76,77,78,78,78,78,78,78,78,79,79,81,85,86,87,88,88,97,97,98,99,101,103,103,103,103,113,120,120,126],\"type\":\"scatter\",\"xaxis\":\"x6\",\"yaxis\":\"y6\"},{\"marker\":{\"color\":\"rgb(80, 139, 141)\",\"size\":9,\"line\":{\"color\":\"#F7F7F7\",\"width\":1},\"opacity\":0.85},\"mode\":\"markers\",\"name\":\"Men\",\"showlegend\":false,\"x\":[19,21,64,67,37,22,20,52,35,25,31,29,35,60,53,18,24,48,33,59,47,69,53,70,19,63,18,19,70,59,26,40,57,38,67,48,18,48,24,48,20,67,26,49,54,68,66,65,19,27,39,43,40,59,38,47,39,20,32,19,32,25,28,48,34,43,39,37,34,19,50,42,32,40,28,36,36,58,27,59,35,46,30,28,33,32,32,30],\"y\":[39,81,3,14,13,79,66,29,35,73,73,82,61,4,4,92,92,36,60,60,41,46,46,56,55,51,59,59,55,47,54,48,51,55,41,46,41,49,52,42,49,59,55,56,46,43,48,52,46,56,91,35,95,11,75,9,75,5,73,10,93,12,97,36,90,17,88,1,1,5,26,20,63,13,75,10,92,15,69,14,90,15,97,68,8,74,18,83],\"type\":\"scatter\",\"xaxis\":\"x7\",\"yaxis\":\"y7\"},{\"marker\":{\"color\":\"rgb(240, 202, 189)\",\"size\":9,\"line\":{\"color\":\"#F7F7F7\",\"width\":1},\"opacity\":0.85},\"mode\":\"markers\",\"name\":\"Women\",\"showlegend\":false,\"x\":[20,23,31,22,35,23,30,35,58,24,35,35,46,54,45,40,23,21,49,21,42,30,36,20,65,31,49,24,50,27,29,31,49,31,50,51,27,67,54,43,68,32,47,60,60,45,23,49,46,21,55,22,34,50,68,40,32,47,27,23,49,21,66,19,38,18,19,63,49,51,50,38,40,23,31,25,31,29,44,35,57,28,32,32,34,44,38,47,27,30,30,56,29,31,36,33,36,52,30,37,32,29,41,54,41,36,34,32,38,47,35,45],\"y\":[6,77,40,76,6,94,72,99,15,77,35,98,5,14,32,31,87,73,14,81,17,73,26,75,35,61,28,65,55,47,42,42,52,54,45,50,51,52,59,50,48,47,42,49,56,53,52,42,44,57,58,55,60,46,55,40,42,47,50,41,48,42,50,54,42,48,50,43,59,43,57,40,58,29,77,34,71,88,7,72,5,40,87,74,22,20,76,16,89,78,73,35,83,93,75,95,27,13,86,32,86,88,39,24,17,85,23,69,91,16,79,28],\"type\":\"scatter\",\"xaxis\":\"x7\",\"yaxis\":\"y7\"},{\"marker\":{\"color\":\"rgb(80, 139, 141)\",\"size\":9,\"line\":{\"color\":\"#F7F7F7\",\"width\":1},\"opacity\":0.85},\"mode\":\"markers\",\"name\":\"Men\",\"showlegend\":false,\"x\":[15,15,19,19,20,20,21,23,24,24,25,28,28,30,33,33,38,39,42,43,43,44,46,46,46,48,48,48,49,54,54,54,54,54,54,54,59,60,60,61,61,62,62,62,63,63,63,63,64,67,69,71,71,71,71,71,71,73,73,74,75,77,77,77,78,78,78,78,78,81,85,86,87,87,87,87,87,88,88,93,93,98,99,101,113,126,137,137],\"y\":[39,81,3,14,13,79,66,29,35,73,73,82,61,4,4,92,92,36,60,60,41,46,46,56,55,51,59,59,55,47,54,48,51,55,41,46,41,49,52,42,49,59,55,56,46,43,48,52,46,56,91,35,95,11,75,9,75,5,73,10,93,12,97,36,90,17,88,1,1,5,26,20,63,13,75,10,92,15,69,14,90,15,97,68,8,74,18,83],\"type\":\"scatter\",\"xaxis\":\"x8\",\"yaxis\":\"y8\"},{\"marker\":{\"color\":\"rgb(240, 202, 189)\",\"size\":9,\"line\":{\"color\":\"#F7F7F7\",\"width\":1},\"opacity\":0.85},\"mode\":\"markers\",\"name\":\"Women\",\"showlegend\":false,\"x\":[16,16,17,17,18,18,19,19,20,20,21,23,25,28,28,29,29,30,33,33,34,34,37,37,38,39,39,39,40,40,40,40,42,43,43,44,46,47,47,48,48,48,49,50,50,54,54,54,54,54,57,57,58,58,59,60,60,60,60,62,62,62,63,63,64,65,65,65,65,67,67,67,69,70,70,72,72,73,73,74,75,76,76,77,78,78,78,78,78,78,78,79,79,81,85,86,87,88,88,97,97,98,99,101,103,103,103,103,113,120,120,126],\"y\":[6,77,40,76,6,94,72,99,15,77,35,98,5,14,32,31,87,73,14,81,17,73,26,75,35,61,28,65,55,47,42,42,52,54,45,50,51,52,59,50,48,47,42,49,56,53,52,42,44,57,58,55,60,46,55,40,42,47,50,41,48,42,50,54,42,48,50,43,59,43,57,40,58,29,77,34,71,88,7,72,5,40,87,74,22,20,76,16,89,78,73,35,83,93,75,95,27,13,86,32,86,88,39,24,17,85,23,69,91,16,79,28],\"type\":\"scatter\",\"xaxis\":\"x8\",\"yaxis\":\"y8\"},{\"marker\":{\"color\":\"rgb(80, 139, 141)\",\"line\":{\"color\":\"#F7F7F7\",\"width\":1},\"opacity\":0.85,\"size\":9},\"showlegend\":false,\"y\":[39,81,3,14,13,79,66,29,35,73,73,82,61,4,4,92,92,36,60,60,41,46,46,56,55,51,59,59,55,47,54,48,51,55,41,46,41,49,52,42,49,59,55,56,46,43,48,52,46,56,91,35,95,11,75,9,75,5,73,10,93,12,97,36,90,17,88,1,1,5,26,20,63,13,75,10,92,15,69,14,90,15,97,68,8,74,18,83],\"type\":\"box\",\"xaxis\":\"x9\",\"yaxis\":\"y9\"},{\"marker\":{\"color\":\"rgb(240, 202, 189)\",\"line\":{\"color\":\"#F7F7F7\",\"width\":1},\"opacity\":0.85,\"size\":9},\"showlegend\":false,\"y\":[6,77,40,76,6,94,72,99,15,77,35,98,5,14,32,31,87,73,14,81,17,73,26,75,35,61,28,65,55,47,42,42,52,54,45,50,51,52,59,50,48,47,42,49,56,53,52,42,44,57,58,55,60,46,55,40,42,47,50,41,48,42,50,54,42,48,50,43,59,43,57,40,58,29,77,34,71,88,7,72,5,40,87,74,22,20,76,16,89,78,73,35,83,93,75,95,27,13,86,32,86,88,39,24,17,85,23,69,91,16,79,28],\"type\":\"box\",\"xaxis\":\"x9\",\"yaxis\":\"y9\"}],                        {\"template\":{\"data\":{\"histogram2dcontour\":[{\"type\":\"histogram2dcontour\",\"colorbar\":{\"outlinewidth\":0,\"ticks\":\"\"},\"colorscale\":[[0.0,\"#0d0887\"],[0.1111111111111111,\"#46039f\"],[0.2222222222222222,\"#7201a8\"],[0.3333333333333333,\"#9c179e\"],[0.4444444444444444,\"#bd3786\"],[0.5555555555555556,\"#d8576b\"],[0.6666666666666666,\"#ed7953\"],[0.7777777777777778,\"#fb9f3a\"],[0.8888888888888888,\"#fdca26\"],[1.0,\"#f0f921\"]]}],\"choropleth\":[{\"type\":\"choropleth\",\"colorbar\":{\"outlinewidth\":0,\"ticks\":\"\"}}],\"histogram2d\":[{\"type\":\"histogram2d\",\"colorbar\":{\"outlinewidth\":0,\"ticks\":\"\"},\"colorscale\":[[0.0,\"#0d0887\"],[0.1111111111111111,\"#46039f\"],[0.2222222222222222,\"#7201a8\"],[0.3333333333333333,\"#9c179e\"],[0.4444444444444444,\"#bd3786\"],[0.5555555555555556,\"#d8576b\"],[0.6666666666666666,\"#ed7953\"],[0.7777777777777778,\"#fb9f3a\"],[0.8888888888888888,\"#fdca26\"],[1.0,\"#f0f921\"]]}],\"heatmap\":[{\"type\":\"heatmap\",\"colorbar\":{\"outlinewidth\":0,\"ticks\":\"\"},\"colorscale\":[[0.0,\"#0d0887\"],[0.1111111111111111,\"#46039f\"],[0.2222222222222222,\"#7201a8\"],[0.3333333333333333,\"#9c179e\"],[0.4444444444444444,\"#bd3786\"],[0.5555555555555556,\"#d8576b\"],[0.6666666666666666,\"#ed7953\"],[0.7777777777777778,\"#fb9f3a\"],[0.8888888888888888,\"#fdca26\"],[1.0,\"#f0f921\"]]}],\"heatmapgl\":[{\"type\":\"heatmapgl\",\"colorbar\":{\"outlinewidth\":0,\"ticks\":\"\"},\"colorscale\":[[0.0,\"#0d0887\"],[0.1111111111111111,\"#46039f\"],[0.2222222222222222,\"#7201a8\"],[0.3333333333333333,\"#9c179e\"],[0.4444444444444444,\"#bd3786\"],[0.5555555555555556,\"#d8576b\"],[0.6666666666666666,\"#ed7953\"],[0.7777777777777778,\"#fb9f3a\"],[0.8888888888888888,\"#fdca26\"],[1.0,\"#f0f921\"]]}],\"contourcarpet\":[{\"type\":\"contourcarpet\",\"colorbar\":{\"outlinewidth\":0,\"ticks\":\"\"}}],\"contour\":[{\"type\":\"contour\",\"colorbar\":{\"outlinewidth\":0,\"ticks\":\"\"},\"colorscale\":[[0.0,\"#0d0887\"],[0.1111111111111111,\"#46039f\"],[0.2222222222222222,\"#7201a8\"],[0.3333333333333333,\"#9c179e\"],[0.4444444444444444,\"#bd3786\"],[0.5555555555555556,\"#d8576b\"],[0.6666666666666666,\"#ed7953\"],[0.7777777777777778,\"#fb9f3a\"],[0.8888888888888888,\"#fdca26\"],[1.0,\"#f0f921\"]]}],\"surface\":[{\"type\":\"surface\",\"colorbar\":{\"outlinewidth\":0,\"ticks\":\"\"},\"colorscale\":[[0.0,\"#0d0887\"],[0.1111111111111111,\"#46039f\"],[0.2222222222222222,\"#7201a8\"],[0.3333333333333333,\"#9c179e\"],[0.4444444444444444,\"#bd3786\"],[0.5555555555555556,\"#d8576b\"],[0.6666666666666666,\"#ed7953\"],[0.7777777777777778,\"#fb9f3a\"],[0.8888888888888888,\"#fdca26\"],[1.0,\"#f0f921\"]]}],\"mesh3d\":[{\"type\":\"mesh3d\",\"colorbar\":{\"outlinewidth\":0,\"ticks\":\"\"}}],\"scatter\":[{\"fillpattern\":{\"fillmode\":\"overlay\",\"size\":10,\"solidity\":0.2},\"type\":\"scatter\"}],\"parcoords\":[{\"type\":\"parcoords\",\"line\":{\"colorbar\":{\"outlinewidth\":0,\"ticks\":\"\"}}}],\"scatterpolargl\":[{\"type\":\"scatterpolargl\",\"marker\":{\"colorbar\":{\"outlinewidth\":0,\"ticks\":\"\"}}}],\"bar\":[{\"error_x\":{\"color\":\"#2a3f5f\"},\"error_y\":{\"color\":\"#2a3f5f\"},\"marker\":{\"line\":{\"color\":\"#E5ECF6\",\"width\":0.5},\"pattern\":{\"fillmode\":\"overlay\",\"size\":10,\"solidity\":0.2}},\"type\":\"bar\"}],\"scattergeo\":[{\"type\":\"scattergeo\",\"marker\":{\"colorbar\":{\"outlinewidth\":0,\"ticks\":\"\"}}}],\"scatterpolar\":[{\"type\":\"scatterpolar\",\"marker\":{\"colorbar\":{\"outlinewidth\":0,\"ticks\":\"\"}}}],\"histogram\":[{\"marker\":{\"pattern\":{\"fillmode\":\"overlay\",\"size\":10,\"solidity\":0.2}},\"type\":\"histogram\"}],\"scattergl\":[{\"type\":\"scattergl\",\"marker\":{\"colorbar\":{\"outlinewidth\":0,\"ticks\":\"\"}}}],\"scatter3d\":[{\"type\":\"scatter3d\",\"line\":{\"colorbar\":{\"outlinewidth\":0,\"ticks\":\"\"}},\"marker\":{\"colorbar\":{\"outlinewidth\":0,\"ticks\":\"\"}}}],\"scattermapbox\":[{\"type\":\"scattermapbox\",\"marker\":{\"colorbar\":{\"outlinewidth\":0,\"ticks\":\"\"}}}],\"scatterternary\":[{\"type\":\"scatterternary\",\"marker\":{\"colorbar\":{\"outlinewidth\":0,\"ticks\":\"\"}}}],\"scattercarpet\":[{\"type\":\"scattercarpet\",\"marker\":{\"colorbar\":{\"outlinewidth\":0,\"ticks\":\"\"}}}],\"carpet\":[{\"aaxis\":{\"endlinecolor\":\"#2a3f5f\",\"gridcolor\":\"white\",\"linecolor\":\"white\",\"minorgridcolor\":\"white\",\"startlinecolor\":\"#2a3f5f\"},\"baxis\":{\"endlinecolor\":\"#2a3f5f\",\"gridcolor\":\"white\",\"linecolor\":\"white\",\"minorgridcolor\":\"white\",\"startlinecolor\":\"#2a3f5f\"},\"type\":\"carpet\"}],\"table\":[{\"cells\":{\"fill\":{\"color\":\"#EBF0F8\"},\"line\":{\"color\":\"white\"}},\"header\":{\"fill\":{\"color\":\"#C8D4E3\"},\"line\":{\"color\":\"white\"}},\"type\":\"table\"}],\"barpolar\":[{\"marker\":{\"line\":{\"color\":\"#E5ECF6\",\"width\":0.5},\"pattern\":{\"fillmode\":\"overlay\",\"size\":10,\"solidity\":0.2}},\"type\":\"barpolar\"}],\"pie\":[{\"automargin\":true,\"type\":\"pie\"}]},\"layout\":{\"font\":{\"family\":\"Franklin Gothic\",\"size\":12}}},\"xaxis\":{\"anchor\":\"y\",\"domain\":[0.0,0.2888888888888889],\"showticklabels\":false},\"yaxis\":{\"anchor\":\"x\",\"domain\":[0.7333333333333333,1.0],\"title\":{\"text\":\"Age\"}},\"xaxis2\":{\"anchor\":\"y2\",\"domain\":[0.35555555555555557,0.6444444444444445]},\"yaxis2\":{\"anchor\":\"x2\",\"domain\":[0.7333333333333333,1.0]},\"xaxis3\":{\"anchor\":\"y3\",\"domain\":[0.7111111111111111,1.0]},\"yaxis3\":{\"anchor\":\"x3\",\"domain\":[0.7333333333333333,1.0]},\"xaxis4\":{\"anchor\":\"y4\",\"domain\":[0.0,0.2888888888888889]},\"yaxis4\":{\"anchor\":\"x4\",\"domain\":[0.36666666666666664,0.6333333333333333],\"title\":{\"text\":\"Annual Income\"}},\"xaxis5\":{\"anchor\":\"y5\",\"domain\":[0.35555555555555557,0.6444444444444445],\"showticklabels\":false},\"yaxis5\":{\"anchor\":\"x5\",\"domain\":[0.36666666666666664,0.6333333333333333]},\"xaxis6\":{\"anchor\":\"y6\",\"domain\":[0.7111111111111111,1.0]},\"yaxis6\":{\"anchor\":\"x6\",\"domain\":[0.36666666666666664,0.6333333333333333]},\"xaxis7\":{\"anchor\":\"y7\",\"domain\":[0.0,0.2888888888888889],\"title\":{\"text\":\"Age\"}},\"yaxis7\":{\"anchor\":\"x7\",\"domain\":[0.0,0.26666666666666666],\"title\":{\"text\":\"Spending Score\"}},\"xaxis8\":{\"anchor\":\"y8\",\"domain\":[0.35555555555555557,0.6444444444444445],\"title\":{\"text\":\"Annual Income\"}},\"yaxis8\":{\"anchor\":\"x8\",\"domain\":[0.0,0.26666666666666666]},\"xaxis9\":{\"anchor\":\"y9\",\"domain\":[0.7111111111111111,1.0],\"title\":{\"text\":\"Spending Score\"},\"showticklabels\":false},\"yaxis9\":{\"anchor\":\"x9\",\"domain\":[0.0,0.26666666666666666]},\"height\":900,\"width\":700,\"title\":{\"text\":\"Al\\u0131\\u015fveri\\u015f Merkezi M\\u00fc\\u015fteri \\u00c7ifti Grafikleri\"},\"showlegend\":true,\"legend\":{\"orientation\":\"h\",\"yanchor\":\"bottom\",\"y\":1.02,\"x\":0.35}},                        {\"responsive\": true}                    ).then(function(){\n",
       "                            \n",
       "var gd = document.getElementById('70fd5de8-6f00-4c40-9f6e-588ff3faf8de');\n",
       "var x = new MutationObserver(function (mutations, observer) {{\n",
       "        var display = window.getComputedStyle(gd).display;\n",
       "        if (!display || display === 'none') {{\n",
       "            console.log([gd, 'removed!']);\n",
       "            Plotly.purge(gd);\n",
       "            observer.disconnect();\n",
       "        }}\n",
       "}});\n",
       "\n",
       "// Listen for the removal of the full notebook cells\n",
       "var notebookContainer = gd.closest('#notebook-container');\n",
       "if (notebookContainer) {{\n",
       "    x.observe(notebookContainer, {childList: true});\n",
       "}}\n",
       "\n",
       "// Listen for the clearing of the current output cell\n",
       "var outputEl = gd.closest('.output');\n",
       "if (outputEl) {{\n",
       "    x.observe(outputEl, {childList: true});\n",
       "}}\n",
       "\n",
       "                        })                };                });            </script>        </div>"
      ]
     },
     "metadata": {},
     "output_type": "display_data"
    },
    {
     "data": {
      "application/vnd.plotly.v1+json": {
       "config": {
        "plotlyServerURL": "https://plot.ly"
       },
       "data": [
        {
         "colorscale": [
          [
           0,
           "rgb(228, 241, 225)"
          ],
          [
           0.16666666666666666,
           "rgb(180, 217, 204)"
          ],
          [
           0.3333333333333333,
           "rgb(137, 192, 182)"
          ],
          [
           0.5,
           "rgb(99, 166, 160)"
          ],
          [
           0.6666666666666666,
           "rgb(68, 140, 138)"
          ],
          [
           0.8333333333333334,
           "rgb(40, 114, 116)"
          ],
          [
           1,
           "rgb(13, 88, 95)"
          ]
         ],
         "hovertemplate": "Correlation of %{x} and %{y}= %{z:.3f}",
         "reversescale": true,
         "showscale": true,
         "type": "heatmap",
         "x": [
          "Age",
          "Annual Income",
          "Spending Score"
         ],
         "y": [
          "Age",
          "Annual Income",
          "Spending Score"
         ],
         "z": [
          [
           1,
           -0.01239804273606026,
           -0.32722684603909025
          ],
          [
           -0.01239804273606026,
           1,
           0.009902848094037497
          ],
          [
           -0.32722684603909025,
           0.009902848094037497,
           1
          ]
         ]
        }
       ],
       "layout": {
        "annotations": [
         {
          "font": {
           "color": "#000000"
          },
          "showarrow": false,
          "text": "1.0",
          "x": "Age",
          "xref": "x",
          "y": "Age",
          "yref": "y"
         },
         {
          "font": {
           "color": "#FFFFFF"
          },
          "showarrow": false,
          "text": "-0.01",
          "x": "Annual Income",
          "xref": "x",
          "y": "Age",
          "yref": "y"
         },
         {
          "font": {
           "color": "#FFFFFF"
          },
          "showarrow": false,
          "text": "-0.33",
          "x": "Spending Score",
          "xref": "x",
          "y": "Age",
          "yref": "y"
         },
         {
          "font": {
           "color": "#FFFFFF"
          },
          "showarrow": false,
          "text": "-0.01",
          "x": "Age",
          "xref": "x",
          "y": "Annual Income",
          "yref": "y"
         },
         {
          "font": {
           "color": "#000000"
          },
          "showarrow": false,
          "text": "1.0",
          "x": "Annual Income",
          "xref": "x",
          "y": "Annual Income",
          "yref": "y"
         },
         {
          "font": {
           "color": "#FFFFFF"
          },
          "showarrow": false,
          "text": "0.01",
          "x": "Spending Score",
          "xref": "x",
          "y": "Annual Income",
          "yref": "y"
         },
         {
          "font": {
           "color": "#FFFFFF"
          },
          "showarrow": false,
          "text": "-0.33",
          "x": "Age",
          "xref": "x",
          "y": "Spending Score",
          "yref": "y"
         },
         {
          "font": {
           "color": "#FFFFFF"
          },
          "showarrow": false,
          "text": "0.01",
          "x": "Annual Income",
          "xref": "x",
          "y": "Spending Score",
          "yref": "y"
         },
         {
          "font": {
           "color": "#000000"
          },
          "showarrow": false,
          "text": "1.0",
          "x": "Spending Score",
          "xref": "x",
          "y": "Spending Score",
          "yref": "y"
         }
        ],
        "template": {
         "data": {
          "bar": [
           {
            "error_x": {
             "color": "#2a3f5f"
            },
            "error_y": {
             "color": "#2a3f5f"
            },
            "marker": {
             "line": {
              "color": "#E5ECF6",
              "width": 0.5
             },
             "pattern": {
              "fillmode": "overlay",
              "size": 10,
              "solidity": 0.2
             }
            },
            "type": "bar"
           }
          ],
          "barpolar": [
           {
            "marker": {
             "line": {
              "color": "#E5ECF6",
              "width": 0.5
             },
             "pattern": {
              "fillmode": "overlay",
              "size": 10,
              "solidity": 0.2
             }
            },
            "type": "barpolar"
           }
          ],
          "carpet": [
           {
            "aaxis": {
             "endlinecolor": "#2a3f5f",
             "gridcolor": "white",
             "linecolor": "white",
             "minorgridcolor": "white",
             "startlinecolor": "#2a3f5f"
            },
            "baxis": {
             "endlinecolor": "#2a3f5f",
             "gridcolor": "white",
             "linecolor": "white",
             "minorgridcolor": "white",
             "startlinecolor": "#2a3f5f"
            },
            "type": "carpet"
           }
          ],
          "choropleth": [
           {
            "colorbar": {
             "outlinewidth": 0,
             "ticks": ""
            },
            "type": "choropleth"
           }
          ],
          "contour": [
           {
            "colorbar": {
             "outlinewidth": 0,
             "ticks": ""
            },
            "colorscale": [
             [
              0,
              "#0d0887"
             ],
             [
              0.1111111111111111,
              "#46039f"
             ],
             [
              0.2222222222222222,
              "#7201a8"
             ],
             [
              0.3333333333333333,
              "#9c179e"
             ],
             [
              0.4444444444444444,
              "#bd3786"
             ],
             [
              0.5555555555555556,
              "#d8576b"
             ],
             [
              0.6666666666666666,
              "#ed7953"
             ],
             [
              0.7777777777777778,
              "#fb9f3a"
             ],
             [
              0.8888888888888888,
              "#fdca26"
             ],
             [
              1,
              "#f0f921"
             ]
            ],
            "type": "contour"
           }
          ],
          "contourcarpet": [
           {
            "colorbar": {
             "outlinewidth": 0,
             "ticks": ""
            },
            "type": "contourcarpet"
           }
          ],
          "heatmap": [
           {
            "colorbar": {
             "outlinewidth": 0,
             "ticks": ""
            },
            "colorscale": [
             [
              0,
              "#0d0887"
             ],
             [
              0.1111111111111111,
              "#46039f"
             ],
             [
              0.2222222222222222,
              "#7201a8"
             ],
             [
              0.3333333333333333,
              "#9c179e"
             ],
             [
              0.4444444444444444,
              "#bd3786"
             ],
             [
              0.5555555555555556,
              "#d8576b"
             ],
             [
              0.6666666666666666,
              "#ed7953"
             ],
             [
              0.7777777777777778,
              "#fb9f3a"
             ],
             [
              0.8888888888888888,
              "#fdca26"
             ],
             [
              1,
              "#f0f921"
             ]
            ],
            "type": "heatmap"
           }
          ],
          "heatmapgl": [
           {
            "colorbar": {
             "outlinewidth": 0,
             "ticks": ""
            },
            "colorscale": [
             [
              0,
              "#0d0887"
             ],
             [
              0.1111111111111111,
              "#46039f"
             ],
             [
              0.2222222222222222,
              "#7201a8"
             ],
             [
              0.3333333333333333,
              "#9c179e"
             ],
             [
              0.4444444444444444,
              "#bd3786"
             ],
             [
              0.5555555555555556,
              "#d8576b"
             ],
             [
              0.6666666666666666,
              "#ed7953"
             ],
             [
              0.7777777777777778,
              "#fb9f3a"
             ],
             [
              0.8888888888888888,
              "#fdca26"
             ],
             [
              1,
              "#f0f921"
             ]
            ],
            "type": "heatmapgl"
           }
          ],
          "histogram": [
           {
            "marker": {
             "pattern": {
              "fillmode": "overlay",
              "size": 10,
              "solidity": 0.2
             }
            },
            "type": "histogram"
           }
          ],
          "histogram2d": [
           {
            "colorbar": {
             "outlinewidth": 0,
             "ticks": ""
            },
            "colorscale": [
             [
              0,
              "#0d0887"
             ],
             [
              0.1111111111111111,
              "#46039f"
             ],
             [
              0.2222222222222222,
              "#7201a8"
             ],
             [
              0.3333333333333333,
              "#9c179e"
             ],
             [
              0.4444444444444444,
              "#bd3786"
             ],
             [
              0.5555555555555556,
              "#d8576b"
             ],
             [
              0.6666666666666666,
              "#ed7953"
             ],
             [
              0.7777777777777778,
              "#fb9f3a"
             ],
             [
              0.8888888888888888,
              "#fdca26"
             ],
             [
              1,
              "#f0f921"
             ]
            ],
            "type": "histogram2d"
           }
          ],
          "histogram2dcontour": [
           {
            "colorbar": {
             "outlinewidth": 0,
             "ticks": ""
            },
            "colorscale": [
             [
              0,
              "#0d0887"
             ],
             [
              0.1111111111111111,
              "#46039f"
             ],
             [
              0.2222222222222222,
              "#7201a8"
             ],
             [
              0.3333333333333333,
              "#9c179e"
             ],
             [
              0.4444444444444444,
              "#bd3786"
             ],
             [
              0.5555555555555556,
              "#d8576b"
             ],
             [
              0.6666666666666666,
              "#ed7953"
             ],
             [
              0.7777777777777778,
              "#fb9f3a"
             ],
             [
              0.8888888888888888,
              "#fdca26"
             ],
             [
              1,
              "#f0f921"
             ]
            ],
            "type": "histogram2dcontour"
           }
          ],
          "mesh3d": [
           {
            "colorbar": {
             "outlinewidth": 0,
             "ticks": ""
            },
            "type": "mesh3d"
           }
          ],
          "parcoords": [
           {
            "line": {
             "colorbar": {
              "outlinewidth": 0,
              "ticks": ""
             }
            },
            "type": "parcoords"
           }
          ],
          "pie": [
           {
            "automargin": true,
            "type": "pie"
           }
          ],
          "scatter": [
           {
            "fillpattern": {
             "fillmode": "overlay",
             "size": 10,
             "solidity": 0.2
            },
            "type": "scatter"
           }
          ],
          "scatter3d": [
           {
            "line": {
             "colorbar": {
              "outlinewidth": 0,
              "ticks": ""
             }
            },
            "marker": {
             "colorbar": {
              "outlinewidth": 0,
              "ticks": ""
             }
            },
            "type": "scatter3d"
           }
          ],
          "scattercarpet": [
           {
            "marker": {
             "colorbar": {
              "outlinewidth": 0,
              "ticks": ""
             }
            },
            "type": "scattercarpet"
           }
          ],
          "scattergeo": [
           {
            "marker": {
             "colorbar": {
              "outlinewidth": 0,
              "ticks": ""
             }
            },
            "type": "scattergeo"
           }
          ],
          "scattergl": [
           {
            "marker": {
             "colorbar": {
              "outlinewidth": 0,
              "ticks": ""
             }
            },
            "type": "scattergl"
           }
          ],
          "scattermapbox": [
           {
            "marker": {
             "colorbar": {
              "outlinewidth": 0,
              "ticks": ""
             }
            },
            "type": "scattermapbox"
           }
          ],
          "scatterpolar": [
           {
            "marker": {
             "colorbar": {
              "outlinewidth": 0,
              "ticks": ""
             }
            },
            "type": "scatterpolar"
           }
          ],
          "scatterpolargl": [
           {
            "marker": {
             "colorbar": {
              "outlinewidth": 0,
              "ticks": ""
             }
            },
            "type": "scatterpolargl"
           }
          ],
          "scatterternary": [
           {
            "marker": {
             "colorbar": {
              "outlinewidth": 0,
              "ticks": ""
             }
            },
            "type": "scatterternary"
           }
          ],
          "surface": [
           {
            "colorbar": {
             "outlinewidth": 0,
             "ticks": ""
            },
            "colorscale": [
             [
              0,
              "#0d0887"
             ],
             [
              0.1111111111111111,
              "#46039f"
             ],
             [
              0.2222222222222222,
              "#7201a8"
             ],
             [
              0.3333333333333333,
              "#9c179e"
             ],
             [
              0.4444444444444444,
              "#bd3786"
             ],
             [
              0.5555555555555556,
              "#d8576b"
             ],
             [
              0.6666666666666666,
              "#ed7953"
             ],
             [
              0.7777777777777778,
              "#fb9f3a"
             ],
             [
              0.8888888888888888,
              "#fdca26"
             ],
             [
              1,
              "#f0f921"
             ]
            ],
            "type": "surface"
           }
          ],
          "table": [
           {
            "cells": {
             "fill": {
              "color": "#EBF0F8"
             },
             "line": {
              "color": "white"
             }
            },
            "header": {
             "fill": {
              "color": "#C8D4E3"
             },
             "line": {
              "color": "white"
             }
            },
            "type": "table"
           }
          ]
         },
         "layout": {
          "font": {
           "family": "Franklin Gothic",
           "size": 12
          }
         }
        },
        "title": {
         "text": "AVM Müşteri İlişkileri"
        },
        "xaxis": {
         "dtick": 1,
         "gridcolor": "rgb(0, 0, 0)",
         "side": "top",
         "ticks": ""
        },
        "yaxis": {
         "dtick": 1,
         "tickangle": -30,
         "ticks": "",
         "ticksuffix": "  "
        }
       }
      },
      "text/html": [
       "<div>                            <div id=\"33ce42d1-b97d-4ebc-814c-6026f727e305\" class=\"plotly-graph-div\" style=\"height:525px; width:100%;\"></div>            <script type=\"text/javascript\">                require([\"plotly\"], function(Plotly) {                    window.PLOTLYENV=window.PLOTLYENV || {};                                    if (document.getElementById(\"33ce42d1-b97d-4ebc-814c-6026f727e305\")) {                    Plotly.newPlot(                        \"33ce42d1-b97d-4ebc-814c-6026f727e305\",                        [{\"colorscale\":[[0.0,\"rgb(228, 241, 225)\"],[0.16666666666666666,\"rgb(180, 217, 204)\"],[0.3333333333333333,\"rgb(137, 192, 182)\"],[0.5,\"rgb(99, 166, 160)\"],[0.6666666666666666,\"rgb(68, 140, 138)\"],[0.8333333333333334,\"rgb(40, 114, 116)\"],[1.0,\"rgb(13, 88, 95)\"]],\"hovertemplate\":\"Correlation of %{x} and %{y}= %{z:.3f}\",\"reversescale\":true,\"showscale\":true,\"x\":[\"Age\",\"Annual Income\",\"Spending Score\"],\"y\":[\"Age\",\"Annual Income\",\"Spending Score\"],\"z\":[[1.0,-0.01239804273606026,-0.32722684603909025],[-0.01239804273606026,1.0,0.009902848094037497],[-0.32722684603909025,0.009902848094037497,1.0]],\"type\":\"heatmap\"}],                        {\"annotations\":[{\"font\":{\"color\":\"#000000\"},\"showarrow\":false,\"text\":\"1.0\",\"x\":\"Age\",\"xref\":\"x\",\"y\":\"Age\",\"yref\":\"y\"},{\"font\":{\"color\":\"#FFFFFF\"},\"showarrow\":false,\"text\":\"-0.01\",\"x\":\"Annual Income\",\"xref\":\"x\",\"y\":\"Age\",\"yref\":\"y\"},{\"font\":{\"color\":\"#FFFFFF\"},\"showarrow\":false,\"text\":\"-0.33\",\"x\":\"Spending Score\",\"xref\":\"x\",\"y\":\"Age\",\"yref\":\"y\"},{\"font\":{\"color\":\"#FFFFFF\"},\"showarrow\":false,\"text\":\"-0.01\",\"x\":\"Age\",\"xref\":\"x\",\"y\":\"Annual Income\",\"yref\":\"y\"},{\"font\":{\"color\":\"#000000\"},\"showarrow\":false,\"text\":\"1.0\",\"x\":\"Annual Income\",\"xref\":\"x\",\"y\":\"Annual Income\",\"yref\":\"y\"},{\"font\":{\"color\":\"#FFFFFF\"},\"showarrow\":false,\"text\":\"0.01\",\"x\":\"Spending Score\",\"xref\":\"x\",\"y\":\"Annual Income\",\"yref\":\"y\"},{\"font\":{\"color\":\"#FFFFFF\"},\"showarrow\":false,\"text\":\"-0.33\",\"x\":\"Age\",\"xref\":\"x\",\"y\":\"Spending Score\",\"yref\":\"y\"},{\"font\":{\"color\":\"#FFFFFF\"},\"showarrow\":false,\"text\":\"0.01\",\"x\":\"Annual Income\",\"xref\":\"x\",\"y\":\"Spending Score\",\"yref\":\"y\"},{\"font\":{\"color\":\"#000000\"},\"showarrow\":false,\"text\":\"1.0\",\"x\":\"Spending Score\",\"xref\":\"x\",\"y\":\"Spending Score\",\"yref\":\"y\"}],\"xaxis\":{\"dtick\":1,\"gridcolor\":\"rgb(0, 0, 0)\",\"side\":\"top\",\"ticks\":\"\"},\"yaxis\":{\"dtick\":1,\"ticks\":\"\",\"ticksuffix\":\"  \",\"tickangle\":-30},\"template\":{\"data\":{\"histogram2dcontour\":[{\"type\":\"histogram2dcontour\",\"colorbar\":{\"outlinewidth\":0,\"ticks\":\"\"},\"colorscale\":[[0.0,\"#0d0887\"],[0.1111111111111111,\"#46039f\"],[0.2222222222222222,\"#7201a8\"],[0.3333333333333333,\"#9c179e\"],[0.4444444444444444,\"#bd3786\"],[0.5555555555555556,\"#d8576b\"],[0.6666666666666666,\"#ed7953\"],[0.7777777777777778,\"#fb9f3a\"],[0.8888888888888888,\"#fdca26\"],[1.0,\"#f0f921\"]]}],\"choropleth\":[{\"type\":\"choropleth\",\"colorbar\":{\"outlinewidth\":0,\"ticks\":\"\"}}],\"histogram2d\":[{\"type\":\"histogram2d\",\"colorbar\":{\"outlinewidth\":0,\"ticks\":\"\"},\"colorscale\":[[0.0,\"#0d0887\"],[0.1111111111111111,\"#46039f\"],[0.2222222222222222,\"#7201a8\"],[0.3333333333333333,\"#9c179e\"],[0.4444444444444444,\"#bd3786\"],[0.5555555555555556,\"#d8576b\"],[0.6666666666666666,\"#ed7953\"],[0.7777777777777778,\"#fb9f3a\"],[0.8888888888888888,\"#fdca26\"],[1.0,\"#f0f921\"]]}],\"heatmap\":[{\"type\":\"heatmap\",\"colorbar\":{\"outlinewidth\":0,\"ticks\":\"\"},\"colorscale\":[[0.0,\"#0d0887\"],[0.1111111111111111,\"#46039f\"],[0.2222222222222222,\"#7201a8\"],[0.3333333333333333,\"#9c179e\"],[0.4444444444444444,\"#bd3786\"],[0.5555555555555556,\"#d8576b\"],[0.6666666666666666,\"#ed7953\"],[0.7777777777777778,\"#fb9f3a\"],[0.8888888888888888,\"#fdca26\"],[1.0,\"#f0f921\"]]}],\"heatmapgl\":[{\"type\":\"heatmapgl\",\"colorbar\":{\"outlinewidth\":0,\"ticks\":\"\"},\"colorscale\":[[0.0,\"#0d0887\"],[0.1111111111111111,\"#46039f\"],[0.2222222222222222,\"#7201a8\"],[0.3333333333333333,\"#9c179e\"],[0.4444444444444444,\"#bd3786\"],[0.5555555555555556,\"#d8576b\"],[0.6666666666666666,\"#ed7953\"],[0.7777777777777778,\"#fb9f3a\"],[0.8888888888888888,\"#fdca26\"],[1.0,\"#f0f921\"]]}],\"contourcarpet\":[{\"type\":\"contourcarpet\",\"colorbar\":{\"outlinewidth\":0,\"ticks\":\"\"}}],\"contour\":[{\"type\":\"contour\",\"colorbar\":{\"outlinewidth\":0,\"ticks\":\"\"},\"colorscale\":[[0.0,\"#0d0887\"],[0.1111111111111111,\"#46039f\"],[0.2222222222222222,\"#7201a8\"],[0.3333333333333333,\"#9c179e\"],[0.4444444444444444,\"#bd3786\"],[0.5555555555555556,\"#d8576b\"],[0.6666666666666666,\"#ed7953\"],[0.7777777777777778,\"#fb9f3a\"],[0.8888888888888888,\"#fdca26\"],[1.0,\"#f0f921\"]]}],\"surface\":[{\"type\":\"surface\",\"colorbar\":{\"outlinewidth\":0,\"ticks\":\"\"},\"colorscale\":[[0.0,\"#0d0887\"],[0.1111111111111111,\"#46039f\"],[0.2222222222222222,\"#7201a8\"],[0.3333333333333333,\"#9c179e\"],[0.4444444444444444,\"#bd3786\"],[0.5555555555555556,\"#d8576b\"],[0.6666666666666666,\"#ed7953\"],[0.7777777777777778,\"#fb9f3a\"],[0.8888888888888888,\"#fdca26\"],[1.0,\"#f0f921\"]]}],\"mesh3d\":[{\"type\":\"mesh3d\",\"colorbar\":{\"outlinewidth\":0,\"ticks\":\"\"}}],\"scatter\":[{\"fillpattern\":{\"fillmode\":\"overlay\",\"size\":10,\"solidity\":0.2},\"type\":\"scatter\"}],\"parcoords\":[{\"type\":\"parcoords\",\"line\":{\"colorbar\":{\"outlinewidth\":0,\"ticks\":\"\"}}}],\"scatterpolargl\":[{\"type\":\"scatterpolargl\",\"marker\":{\"colorbar\":{\"outlinewidth\":0,\"ticks\":\"\"}}}],\"bar\":[{\"error_x\":{\"color\":\"#2a3f5f\"},\"error_y\":{\"color\":\"#2a3f5f\"},\"marker\":{\"line\":{\"color\":\"#E5ECF6\",\"width\":0.5},\"pattern\":{\"fillmode\":\"overlay\",\"size\":10,\"solidity\":0.2}},\"type\":\"bar\"}],\"scattergeo\":[{\"type\":\"scattergeo\",\"marker\":{\"colorbar\":{\"outlinewidth\":0,\"ticks\":\"\"}}}],\"scatterpolar\":[{\"type\":\"scatterpolar\",\"marker\":{\"colorbar\":{\"outlinewidth\":0,\"ticks\":\"\"}}}],\"histogram\":[{\"marker\":{\"pattern\":{\"fillmode\":\"overlay\",\"size\":10,\"solidity\":0.2}},\"type\":\"histogram\"}],\"scattergl\":[{\"type\":\"scattergl\",\"marker\":{\"colorbar\":{\"outlinewidth\":0,\"ticks\":\"\"}}}],\"scatter3d\":[{\"type\":\"scatter3d\",\"line\":{\"colorbar\":{\"outlinewidth\":0,\"ticks\":\"\"}},\"marker\":{\"colorbar\":{\"outlinewidth\":0,\"ticks\":\"\"}}}],\"scattermapbox\":[{\"type\":\"scattermapbox\",\"marker\":{\"colorbar\":{\"outlinewidth\":0,\"ticks\":\"\"}}}],\"scatterternary\":[{\"type\":\"scatterternary\",\"marker\":{\"colorbar\":{\"outlinewidth\":0,\"ticks\":\"\"}}}],\"scattercarpet\":[{\"type\":\"scattercarpet\",\"marker\":{\"colorbar\":{\"outlinewidth\":0,\"ticks\":\"\"}}}],\"carpet\":[{\"aaxis\":{\"endlinecolor\":\"#2a3f5f\",\"gridcolor\":\"white\",\"linecolor\":\"white\",\"minorgridcolor\":\"white\",\"startlinecolor\":\"#2a3f5f\"},\"baxis\":{\"endlinecolor\":\"#2a3f5f\",\"gridcolor\":\"white\",\"linecolor\":\"white\",\"minorgridcolor\":\"white\",\"startlinecolor\":\"#2a3f5f\"},\"type\":\"carpet\"}],\"table\":[{\"cells\":{\"fill\":{\"color\":\"#EBF0F8\"},\"line\":{\"color\":\"white\"}},\"header\":{\"fill\":{\"color\":\"#C8D4E3\"},\"line\":{\"color\":\"white\"}},\"type\":\"table\"}],\"barpolar\":[{\"marker\":{\"line\":{\"color\":\"#E5ECF6\",\"width\":0.5},\"pattern\":{\"fillmode\":\"overlay\",\"size\":10,\"solidity\":0.2}},\"type\":\"barpolar\"}],\"pie\":[{\"automargin\":true,\"type\":\"pie\"}]},\"layout\":{\"font\":{\"family\":\"Franklin Gothic\",\"size\":12}}},\"title\":{\"text\":\"AVM M\\u00fc\\u015fteri \\u0130li\\u015fkileri\"}},                        {\"responsive\": true}                    ).then(function(){\n",
       "                            \n",
       "var gd = document.getElementById('33ce42d1-b97d-4ebc-814c-6026f727e305');\n",
       "var x = new MutationObserver(function (mutations, observer) {{\n",
       "        var display = window.getComputedStyle(gd).display;\n",
       "        if (!display || display === 'none') {{\n",
       "            console.log([gd, 'removed!']);\n",
       "            Plotly.purge(gd);\n",
       "            observer.disconnect();\n",
       "        }}\n",
       "}});\n",
       "\n",
       "// Listen for the removal of the full notebook cells\n",
       "var notebookContainer = gd.closest('#notebook-container');\n",
       "if (notebookContainer) {{\n",
       "    x.observe(notebookContainer, {childList: true});\n",
       "}}\n",
       "\n",
       "// Listen for the clearing of the current output cell\n",
       "var outputEl = gd.closest('.output');\n",
       "if (outputEl) {{\n",
       "    x.observe(outputEl, {childList: true});\n",
       "}}\n",
       "\n",
       "                        })                };                });            </script>        </div>"
      ]
     },
     "metadata": {},
     "output_type": "display_data"
    }
   ],
   "source": [
    "init_notebook_mode(connected=True)\n",
    "plot_df=cust.copy()\n",
    "plot_df['Annual Income']=plot_df['Annual Income'].mul(1000)\n",
    "p1=plot_df.groupby('Gender')['Age'].mean().round(0).astype(int).reset_index()\n",
    "p2=plot_df.groupby('Gender')['Annual Income'].mean().reset_index()\n",
    "p3=plot_df.groupby('Gender')['Spending Score'].mean().round(0).astype(int).reset_index()\n",
    "\n",
    "temp = dict(layout=go.Layout(font=dict(family=\"Franklin Gothic\", size=12)))\n",
    "fig = make_subplots(rows=3, cols=2,\n",
    "                    subplot_titles=(\"Yaşın Cinsiyete Göre Dağılımı\", \n",
    "                                    \"Müşterilerin Ortalama Yaşı\",\n",
    "                                    \"Cinsiyete Göre Gelir Dağılımı\", \n",
    "                                    \"Müşteriler Ortalama Gelir\",\n",
    "                                    \"Harcamaların Cinsiyete Göre Dağılımı\", \n",
    "                                    \"Müşterilerin Ortalama Harcaması\")\n",
    "                   )\n",
    "\n",
    "fig.add_trace(go.Histogram(x=plot_df[plot_df.Gender=='Men']['Age'], histnorm='probability density', \n",
    "                           marker=dict(color='#508B8D',opacity=0.7, line=dict(width=1, color='#000000')), \n",
    "                           nbinsx=20, name=\"Men\"),\n",
    "              row=1, col=1)\n",
    "fig.add_trace(go.Histogram(x=plot_df[plot_df.Gender=='Women']['Age'], histnorm='probability density', \n",
    "                           marker=dict(color='#F3D6CB',opacity=0.7, line=dict(width=1, color='#000000')),\n",
    "                           nbinsx=20, name=\"Women\"),\n",
    "              row=1, col=1)\n",
    "\n",
    "fig.add_trace(go.Bar(x=p1['Gender'], y=p1['Age'], text=p1['Age'], texttemplate='%{text} years', textposition='outside',\n",
    "                     marker=dict(color=['#508B8D', '#F0CABD'], opacity=0.8),width=.8,\n",
    "                     hovertemplate='Average Age Among %{x} = %{y} years<extra></extra>', showlegend=False),\n",
    "              row=1, col=2)\n",
    "\n",
    "fig.add_trace(go.Histogram(x=plot_df[plot_df.Gender=='Men']['Annual Income'], histnorm='probability density', \n",
    "                           marker=dict(color='#508B8D', line=dict(width=1, color='#000000')), \n",
    "                           opacity=0.7, name=\"Men\", nbinsx=20, showlegend=False),\n",
    "              row=2, col=1)\n",
    "fig.add_trace(go.Histogram(x=plot_df[plot_df.Gender=='Women']['Annual Income'], histnorm='probability density', \n",
    "                           marker=dict(color='#F3D6CB', line=dict(width=1, color='#000000')),\n",
    "                           opacity=0.7, name=\"Women\", nbinsx=20, showlegend=False),\n",
    "              row=2, col=1)\n",
    "fig.add_trace(go.Bar(x=p2['Gender'], y=p2['Annual Income'], text=p2['Annual Income'], \n",
    "                     texttemplate='$%{text:,.0f}', textposition='outside',\n",
    "                     marker=dict(color=['#508B8D', '#F0CABD'], opacity=0.8),width=.8,\n",
    "                     hovertemplate='Average Income Among %{x} = $%{y}<extra></extra>', showlegend=False),\n",
    "              row=2, col=2)\n",
    "fig.add_trace(go.Histogram(x=plot_df[plot_df.Gender=='Men']['Spending Score'], histnorm='probability density', \n",
    "                           marker=dict(color='#508B8D', line=dict(width=1, color='#000000')), \n",
    "                           opacity=0.7, name=\"Men\", nbinsx=20, showlegend=False),\n",
    "              row=3, col=1)\n",
    "fig.add_trace(go.Histogram(x=plot_df[plot_df.Gender=='Women']['Spending Score'], histnorm='probability density', \n",
    "                           marker=dict(color='#F3D6CB', line=dict(width=1, color='#000000')),\n",
    "                           opacity=0.7, name=\"Women\", nbinsx=20, showlegend=False),\n",
    "              row=3, col=1)\n",
    "fig.add_trace(go.Bar(x=p3['Gender'], y=p3['Spending Score'], text=p3['Spending Score'], \n",
    "                     texttemplate='%{text}', textposition='outside',\n",
    "                     marker=dict(color=['#508B8D', '#F0CABD'], opacity=0.8),width=.8,\n",
    "                     hovertemplate='Average Spending Score Among %{x} = %{y}<extra></extra>', showlegend=False),\n",
    "              row=3, col=2)\n",
    "fig.update_traces(marker=dict(line=dict(width=1, color='#000000')))\n",
    "fig.update_layout(template=temp,barmode='overlay', height=1500, width=700,\n",
    "                  legend=dict(orientation=\"h\", yanchor=\"bottom\", xanchor=\"right\", y=1.03, x=.97),\n",
    "                  xaxis1_title=\"Yaş\", yaxis1_title='Olasılık Yoğunluğu', \n",
    "                  xaxis2_title=\"Cinsiyet\", yaxis2_title=\"Age\", yaxis2_range=[0,45],\n",
    "                  xaxis3_title=\"Yıllık Gelir, $\", yaxis3_title='Olasılık Yoğunluğu', \n",
    "                  xaxis4_title=\"Cinsiyet\", yaxis4_title=\"Yıllık Gelir, $\", yaxis4_range=[0,69e3],\n",
    "                  xaxis5_title=\"Harcama Puanı\", yaxis5_title='Olasılık Yoğunluğu', \n",
    "                  xaxis6_title=\"Cinsiyet\", yaxis6_title=\"Harcama Puanı\", yaxis6_range=[0,59]\n",
    "                 )\n",
    "fig.show()\n",
    "\n",
    "# Pairplots\n",
    "fig = ff.create_scatterplotmatrix(cust, diag='box', index='Gender', colormap=['#508B8D', '#F0CABD']) \n",
    "fig.update_traces(marker=dict(size=9, opacity=0.85, line=dict(width=1, color='#F7F7F7')))\n",
    "fig.update_layout(title=\"Alışveriş Merkezi Müşteri Çifti Grafikleri\", template=temp, \n",
    "                  legend=dict(orientation=\"h\", yanchor=\"bottom\", y=1.02, x=.35),\n",
    "                  height=900, width=700)\n",
    "fig.show()\n",
    "\n",
    "# Correlations\n",
    "corr=cust.corr()\n",
    "x = corr.columns.tolist() \n",
    "y = corr.index.tolist()\n",
    "z = corr.values\n",
    "text = corr.values.round(2)\n",
    "\n",
    "fig = ff.create_annotated_heatmap(z=z, x=x, y=y, annotation_text=text, colorscale='mint', \n",
    "                                  reversescale=True, showscale=True,\n",
    "                                  hovertemplate=\"Correlation of %{x} and %{y}= %{z:.3f}\")\n",
    "fig.update_layout(template=temp, title=\"AVM Müşteri İlişkileri\", yaxis_tickangle=-30)\n",
    "fig.show()"
   ]
  },
  {
   "cell_type": "markdown",
   "id": "de64da90",
   "metadata": {},
   "source": [
    "# K-Means Clustering"
   ]
  },
  {
   "cell_type": "code",
   "execution_count": 5,
   "id": "bbff55fb",
   "metadata": {},
   "outputs": [
    {
     "data": {
      "application/vnd.plotly.v1+json": {
       "config": {
        "plotlyServerURL": "https://plot.ly"
       },
       "data": [
        {
         "hovertemplate": "Clusters=%{x}<br>Inertia=%{y}<extra></extra>",
         "legendgroup": "",
         "line": {
          "color": "#518C89",
          "dash": "solid"
         },
         "marker": {
          "symbol": "circle"
         },
         "mode": "markers+lines",
         "name": "",
         "orientation": "h",
         "showlegend": false,
         "type": "scatter",
         "x": [
          1,
          2,
          3,
          4,
          5,
          6,
          7,
          8,
          9,
          10,
          11,
          12,
          13,
          14,
          15
         ],
         "xaxis": "x",
         "y": [
          308862.06,
          212889.44245524297,
          143391.5923603568,
          104414.67534220166,
          75427.71182424155,
          58348.64136331505,
          51165.18423710793,
          44389.807673557676,
          40674.1545505049,
          37095.934798164795,
          34747.95406260406,
          32011.805697100746,
          29933.523054777463,
          28459.45026321932,
          26384.209220354805
         ],
         "yaxis": "y"
        }
       ],
       "layout": {
        "annotations": [
         {
          "arrowhead": 2,
          "ax": 0.43,
          "axref": "x domain",
          "ay": 120000,
          "ayref": "y",
          "bgcolor": "white",
          "bordercolor": "#585858",
          "borderpad": 4,
          "font": {
           "size": 14
          },
          "text": "Optimal Küme Sayısı",
          "x": 0.31,
          "xref": "x domain",
          "y": 75000,
          "yref": "y"
         }
        ],
        "legend": {
         "tracegroupgap": 0
        },
        "margin": {
         "t": 60
        },
        "shapes": [
         {
          "line": {
           "color": "darkgrey",
           "dash": "dash",
           "width": 3
          },
          "type": "line",
          "x0": 5,
          "x1": 5,
          "xref": "x",
          "y0": 0,
          "y1": 1,
          "yref": "y domain"
         }
        ],
        "template": {
         "data": {
          "bar": [
           {
            "error_x": {
             "color": "#2a3f5f"
            },
            "error_y": {
             "color": "#2a3f5f"
            },
            "marker": {
             "line": {
              "color": "#E5ECF6",
              "width": 0.5
             },
             "pattern": {
              "fillmode": "overlay",
              "size": 10,
              "solidity": 0.2
             }
            },
            "type": "bar"
           }
          ],
          "barpolar": [
           {
            "marker": {
             "line": {
              "color": "#E5ECF6",
              "width": 0.5
             },
             "pattern": {
              "fillmode": "overlay",
              "size": 10,
              "solidity": 0.2
             }
            },
            "type": "barpolar"
           }
          ],
          "carpet": [
           {
            "aaxis": {
             "endlinecolor": "#2a3f5f",
             "gridcolor": "white",
             "linecolor": "white",
             "minorgridcolor": "white",
             "startlinecolor": "#2a3f5f"
            },
            "baxis": {
             "endlinecolor": "#2a3f5f",
             "gridcolor": "white",
             "linecolor": "white",
             "minorgridcolor": "white",
             "startlinecolor": "#2a3f5f"
            },
            "type": "carpet"
           }
          ],
          "choropleth": [
           {
            "colorbar": {
             "outlinewidth": 0,
             "ticks": ""
            },
            "type": "choropleth"
           }
          ],
          "contour": [
           {
            "colorbar": {
             "outlinewidth": 0,
             "ticks": ""
            },
            "colorscale": [
             [
              0,
              "#0d0887"
             ],
             [
              0.1111111111111111,
              "#46039f"
             ],
             [
              0.2222222222222222,
              "#7201a8"
             ],
             [
              0.3333333333333333,
              "#9c179e"
             ],
             [
              0.4444444444444444,
              "#bd3786"
             ],
             [
              0.5555555555555556,
              "#d8576b"
             ],
             [
              0.6666666666666666,
              "#ed7953"
             ],
             [
              0.7777777777777778,
              "#fb9f3a"
             ],
             [
              0.8888888888888888,
              "#fdca26"
             ],
             [
              1,
              "#f0f921"
             ]
            ],
            "type": "contour"
           }
          ],
          "contourcarpet": [
           {
            "colorbar": {
             "outlinewidth": 0,
             "ticks": ""
            },
            "type": "contourcarpet"
           }
          ],
          "heatmap": [
           {
            "colorbar": {
             "outlinewidth": 0,
             "ticks": ""
            },
            "colorscale": [
             [
              0,
              "#0d0887"
             ],
             [
              0.1111111111111111,
              "#46039f"
             ],
             [
              0.2222222222222222,
              "#7201a8"
             ],
             [
              0.3333333333333333,
              "#9c179e"
             ],
             [
              0.4444444444444444,
              "#bd3786"
             ],
             [
              0.5555555555555556,
              "#d8576b"
             ],
             [
              0.6666666666666666,
              "#ed7953"
             ],
             [
              0.7777777777777778,
              "#fb9f3a"
             ],
             [
              0.8888888888888888,
              "#fdca26"
             ],
             [
              1,
              "#f0f921"
             ]
            ],
            "type": "heatmap"
           }
          ],
          "heatmapgl": [
           {
            "colorbar": {
             "outlinewidth": 0,
             "ticks": ""
            },
            "colorscale": [
             [
              0,
              "#0d0887"
             ],
             [
              0.1111111111111111,
              "#46039f"
             ],
             [
              0.2222222222222222,
              "#7201a8"
             ],
             [
              0.3333333333333333,
              "#9c179e"
             ],
             [
              0.4444444444444444,
              "#bd3786"
             ],
             [
              0.5555555555555556,
              "#d8576b"
             ],
             [
              0.6666666666666666,
              "#ed7953"
             ],
             [
              0.7777777777777778,
              "#fb9f3a"
             ],
             [
              0.8888888888888888,
              "#fdca26"
             ],
             [
              1,
              "#f0f921"
             ]
            ],
            "type": "heatmapgl"
           }
          ],
          "histogram": [
           {
            "marker": {
             "pattern": {
              "fillmode": "overlay",
              "size": 10,
              "solidity": 0.2
             }
            },
            "type": "histogram"
           }
          ],
          "histogram2d": [
           {
            "colorbar": {
             "outlinewidth": 0,
             "ticks": ""
            },
            "colorscale": [
             [
              0,
              "#0d0887"
             ],
             [
              0.1111111111111111,
              "#46039f"
             ],
             [
              0.2222222222222222,
              "#7201a8"
             ],
             [
              0.3333333333333333,
              "#9c179e"
             ],
             [
              0.4444444444444444,
              "#bd3786"
             ],
             [
              0.5555555555555556,
              "#d8576b"
             ],
             [
              0.6666666666666666,
              "#ed7953"
             ],
             [
              0.7777777777777778,
              "#fb9f3a"
             ],
             [
              0.8888888888888888,
              "#fdca26"
             ],
             [
              1,
              "#f0f921"
             ]
            ],
            "type": "histogram2d"
           }
          ],
          "histogram2dcontour": [
           {
            "colorbar": {
             "outlinewidth": 0,
             "ticks": ""
            },
            "colorscale": [
             [
              0,
              "#0d0887"
             ],
             [
              0.1111111111111111,
              "#46039f"
             ],
             [
              0.2222222222222222,
              "#7201a8"
             ],
             [
              0.3333333333333333,
              "#9c179e"
             ],
             [
              0.4444444444444444,
              "#bd3786"
             ],
             [
              0.5555555555555556,
              "#d8576b"
             ],
             [
              0.6666666666666666,
              "#ed7953"
             ],
             [
              0.7777777777777778,
              "#fb9f3a"
             ],
             [
              0.8888888888888888,
              "#fdca26"
             ],
             [
              1,
              "#f0f921"
             ]
            ],
            "type": "histogram2dcontour"
           }
          ],
          "mesh3d": [
           {
            "colorbar": {
             "outlinewidth": 0,
             "ticks": ""
            },
            "type": "mesh3d"
           }
          ],
          "parcoords": [
           {
            "line": {
             "colorbar": {
              "outlinewidth": 0,
              "ticks": ""
             }
            },
            "type": "parcoords"
           }
          ],
          "pie": [
           {
            "automargin": true,
            "type": "pie"
           }
          ],
          "scatter": [
           {
            "fillpattern": {
             "fillmode": "overlay",
             "size": 10,
             "solidity": 0.2
            },
            "type": "scatter"
           }
          ],
          "scatter3d": [
           {
            "line": {
             "colorbar": {
              "outlinewidth": 0,
              "ticks": ""
             }
            },
            "marker": {
             "colorbar": {
              "outlinewidth": 0,
              "ticks": ""
             }
            },
            "type": "scatter3d"
           }
          ],
          "scattercarpet": [
           {
            "marker": {
             "colorbar": {
              "outlinewidth": 0,
              "ticks": ""
             }
            },
            "type": "scattercarpet"
           }
          ],
          "scattergeo": [
           {
            "marker": {
             "colorbar": {
              "outlinewidth": 0,
              "ticks": ""
             }
            },
            "type": "scattergeo"
           }
          ],
          "scattergl": [
           {
            "marker": {
             "colorbar": {
              "outlinewidth": 0,
              "ticks": ""
             }
            },
            "type": "scattergl"
           }
          ],
          "scattermapbox": [
           {
            "marker": {
             "colorbar": {
              "outlinewidth": 0,
              "ticks": ""
             }
            },
            "type": "scattermapbox"
           }
          ],
          "scatterpolar": [
           {
            "marker": {
             "colorbar": {
              "outlinewidth": 0,
              "ticks": ""
             }
            },
            "type": "scatterpolar"
           }
          ],
          "scatterpolargl": [
           {
            "marker": {
             "colorbar": {
              "outlinewidth": 0,
              "ticks": ""
             }
            },
            "type": "scatterpolargl"
           }
          ],
          "scatterternary": [
           {
            "marker": {
             "colorbar": {
              "outlinewidth": 0,
              "ticks": ""
             }
            },
            "type": "scatterternary"
           }
          ],
          "surface": [
           {
            "colorbar": {
             "outlinewidth": 0,
             "ticks": ""
            },
            "colorscale": [
             [
              0,
              "#0d0887"
             ],
             [
              0.1111111111111111,
              "#46039f"
             ],
             [
              0.2222222222222222,
              "#7201a8"
             ],
             [
              0.3333333333333333,
              "#9c179e"
             ],
             [
              0.4444444444444444,
              "#bd3786"
             ],
             [
              0.5555555555555556,
              "#d8576b"
             ],
             [
              0.6666666666666666,
              "#ed7953"
             ],
             [
              0.7777777777777778,
              "#fb9f3a"
             ],
             [
              0.8888888888888888,
              "#fdca26"
             ],
             [
              1,
              "#f0f921"
             ]
            ],
            "type": "surface"
           }
          ],
          "table": [
           {
            "cells": {
             "fill": {
              "color": "#EBF0F8"
             },
             "line": {
              "color": "white"
             }
            },
            "header": {
             "fill": {
              "color": "#C8D4E3"
             },
             "line": {
              "color": "white"
             }
            },
            "type": "table"
           }
          ]
         },
         "layout": {
          "font": {
           "family": "Franklin Gothic",
           "size": 12
          }
         }
        },
        "title": {
         "text": "K-Means Kümeleme Dirsek Eğrisi"
        },
        "width": 700,
        "xaxis": {
         "anchor": "y",
         "domain": [
          0,
          1
         ],
         "showline": true,
         "tickmode": "linear",
         "title": {
          "text": "Clusters"
         }
        },
        "yaxis": {
         "anchor": "x",
         "domain": [
          0,
          1
         ],
         "showline": true,
         "title": {
          "text": "Inertia"
         }
        }
       }
      },
      "text/html": [
       "<div>                            <div id=\"32e051b1-36c6-477c-8ed7-e4aea3bcd84a\" class=\"plotly-graph-div\" style=\"height:525px; width:700px;\"></div>            <script type=\"text/javascript\">                require([\"plotly\"], function(Plotly) {                    window.PLOTLYENV=window.PLOTLYENV || {};                                    if (document.getElementById(\"32e051b1-36c6-477c-8ed7-e4aea3bcd84a\")) {                    Plotly.newPlot(                        \"32e051b1-36c6-477c-8ed7-e4aea3bcd84a\",                        [{\"hovertemplate\":\"Clusters=%{x}<br>Inertia=%{y}<extra></extra>\",\"legendgroup\":\"\",\"line\":{\"color\":\"#518C89\",\"dash\":\"solid\"},\"marker\":{\"symbol\":\"circle\"},\"mode\":\"markers+lines\",\"name\":\"\",\"orientation\":\"h\",\"showlegend\":false,\"x\":[1,2,3,4,5,6,7,8,9,10,11,12,13,14,15],\"xaxis\":\"x\",\"y\":[308862.06,212889.44245524297,143391.5923603568,104414.67534220166,75427.71182424155,58348.64136331505,51165.18423710793,44389.807673557676,40674.1545505049,37095.934798164795,34747.95406260406,32011.805697100746,29933.523054777463,28459.45026321932,26384.209220354805],\"yaxis\":\"y\",\"type\":\"scatter\"}],                        {\"template\":{\"data\":{\"histogram2dcontour\":[{\"type\":\"histogram2dcontour\",\"colorbar\":{\"outlinewidth\":0,\"ticks\":\"\"},\"colorscale\":[[0.0,\"#0d0887\"],[0.1111111111111111,\"#46039f\"],[0.2222222222222222,\"#7201a8\"],[0.3333333333333333,\"#9c179e\"],[0.4444444444444444,\"#bd3786\"],[0.5555555555555556,\"#d8576b\"],[0.6666666666666666,\"#ed7953\"],[0.7777777777777778,\"#fb9f3a\"],[0.8888888888888888,\"#fdca26\"],[1.0,\"#f0f921\"]]}],\"choropleth\":[{\"type\":\"choropleth\",\"colorbar\":{\"outlinewidth\":0,\"ticks\":\"\"}}],\"histogram2d\":[{\"type\":\"histogram2d\",\"colorbar\":{\"outlinewidth\":0,\"ticks\":\"\"},\"colorscale\":[[0.0,\"#0d0887\"],[0.1111111111111111,\"#46039f\"],[0.2222222222222222,\"#7201a8\"],[0.3333333333333333,\"#9c179e\"],[0.4444444444444444,\"#bd3786\"],[0.5555555555555556,\"#d8576b\"],[0.6666666666666666,\"#ed7953\"],[0.7777777777777778,\"#fb9f3a\"],[0.8888888888888888,\"#fdca26\"],[1.0,\"#f0f921\"]]}],\"heatmap\":[{\"type\":\"heatmap\",\"colorbar\":{\"outlinewidth\":0,\"ticks\":\"\"},\"colorscale\":[[0.0,\"#0d0887\"],[0.1111111111111111,\"#46039f\"],[0.2222222222222222,\"#7201a8\"],[0.3333333333333333,\"#9c179e\"],[0.4444444444444444,\"#bd3786\"],[0.5555555555555556,\"#d8576b\"],[0.6666666666666666,\"#ed7953\"],[0.7777777777777778,\"#fb9f3a\"],[0.8888888888888888,\"#fdca26\"],[1.0,\"#f0f921\"]]}],\"heatmapgl\":[{\"type\":\"heatmapgl\",\"colorbar\":{\"outlinewidth\":0,\"ticks\":\"\"},\"colorscale\":[[0.0,\"#0d0887\"],[0.1111111111111111,\"#46039f\"],[0.2222222222222222,\"#7201a8\"],[0.3333333333333333,\"#9c179e\"],[0.4444444444444444,\"#bd3786\"],[0.5555555555555556,\"#d8576b\"],[0.6666666666666666,\"#ed7953\"],[0.7777777777777778,\"#fb9f3a\"],[0.8888888888888888,\"#fdca26\"],[1.0,\"#f0f921\"]]}],\"contourcarpet\":[{\"type\":\"contourcarpet\",\"colorbar\":{\"outlinewidth\":0,\"ticks\":\"\"}}],\"contour\":[{\"type\":\"contour\",\"colorbar\":{\"outlinewidth\":0,\"ticks\":\"\"},\"colorscale\":[[0.0,\"#0d0887\"],[0.1111111111111111,\"#46039f\"],[0.2222222222222222,\"#7201a8\"],[0.3333333333333333,\"#9c179e\"],[0.4444444444444444,\"#bd3786\"],[0.5555555555555556,\"#d8576b\"],[0.6666666666666666,\"#ed7953\"],[0.7777777777777778,\"#fb9f3a\"],[0.8888888888888888,\"#fdca26\"],[1.0,\"#f0f921\"]]}],\"surface\":[{\"type\":\"surface\",\"colorbar\":{\"outlinewidth\":0,\"ticks\":\"\"},\"colorscale\":[[0.0,\"#0d0887\"],[0.1111111111111111,\"#46039f\"],[0.2222222222222222,\"#7201a8\"],[0.3333333333333333,\"#9c179e\"],[0.4444444444444444,\"#bd3786\"],[0.5555555555555556,\"#d8576b\"],[0.6666666666666666,\"#ed7953\"],[0.7777777777777778,\"#fb9f3a\"],[0.8888888888888888,\"#fdca26\"],[1.0,\"#f0f921\"]]}],\"mesh3d\":[{\"type\":\"mesh3d\",\"colorbar\":{\"outlinewidth\":0,\"ticks\":\"\"}}],\"scatter\":[{\"fillpattern\":{\"fillmode\":\"overlay\",\"size\":10,\"solidity\":0.2},\"type\":\"scatter\"}],\"parcoords\":[{\"type\":\"parcoords\",\"line\":{\"colorbar\":{\"outlinewidth\":0,\"ticks\":\"\"}}}],\"scatterpolargl\":[{\"type\":\"scatterpolargl\",\"marker\":{\"colorbar\":{\"outlinewidth\":0,\"ticks\":\"\"}}}],\"bar\":[{\"error_x\":{\"color\":\"#2a3f5f\"},\"error_y\":{\"color\":\"#2a3f5f\"},\"marker\":{\"line\":{\"color\":\"#E5ECF6\",\"width\":0.5},\"pattern\":{\"fillmode\":\"overlay\",\"size\":10,\"solidity\":0.2}},\"type\":\"bar\"}],\"scattergeo\":[{\"type\":\"scattergeo\",\"marker\":{\"colorbar\":{\"outlinewidth\":0,\"ticks\":\"\"}}}],\"scatterpolar\":[{\"type\":\"scatterpolar\",\"marker\":{\"colorbar\":{\"outlinewidth\":0,\"ticks\":\"\"}}}],\"histogram\":[{\"marker\":{\"pattern\":{\"fillmode\":\"overlay\",\"size\":10,\"solidity\":0.2}},\"type\":\"histogram\"}],\"scattergl\":[{\"type\":\"scattergl\",\"marker\":{\"colorbar\":{\"outlinewidth\":0,\"ticks\":\"\"}}}],\"scatter3d\":[{\"type\":\"scatter3d\",\"line\":{\"colorbar\":{\"outlinewidth\":0,\"ticks\":\"\"}},\"marker\":{\"colorbar\":{\"outlinewidth\":0,\"ticks\":\"\"}}}],\"scattermapbox\":[{\"type\":\"scattermapbox\",\"marker\":{\"colorbar\":{\"outlinewidth\":0,\"ticks\":\"\"}}}],\"scatterternary\":[{\"type\":\"scatterternary\",\"marker\":{\"colorbar\":{\"outlinewidth\":0,\"ticks\":\"\"}}}],\"scattercarpet\":[{\"type\":\"scattercarpet\",\"marker\":{\"colorbar\":{\"outlinewidth\":0,\"ticks\":\"\"}}}],\"carpet\":[{\"aaxis\":{\"endlinecolor\":\"#2a3f5f\",\"gridcolor\":\"white\",\"linecolor\":\"white\",\"minorgridcolor\":\"white\",\"startlinecolor\":\"#2a3f5f\"},\"baxis\":{\"endlinecolor\":\"#2a3f5f\",\"gridcolor\":\"white\",\"linecolor\":\"white\",\"minorgridcolor\":\"white\",\"startlinecolor\":\"#2a3f5f\"},\"type\":\"carpet\"}],\"table\":[{\"cells\":{\"fill\":{\"color\":\"#EBF0F8\"},\"line\":{\"color\":\"white\"}},\"header\":{\"fill\":{\"color\":\"#C8D4E3\"},\"line\":{\"color\":\"white\"}},\"type\":\"table\"}],\"barpolar\":[{\"marker\":{\"line\":{\"color\":\"#E5ECF6\",\"width\":0.5},\"pattern\":{\"fillmode\":\"overlay\",\"size\":10,\"solidity\":0.2}},\"type\":\"barpolar\"}],\"pie\":[{\"automargin\":true,\"type\":\"pie\"}]},\"layout\":{\"font\":{\"family\":\"Franklin Gothic\",\"size\":12}}},\"xaxis\":{\"anchor\":\"y\",\"domain\":[0.0,1.0],\"title\":{\"text\":\"Clusters\"},\"tickmode\":\"linear\",\"showline\":true},\"yaxis\":{\"anchor\":\"x\",\"domain\":[0.0,1.0],\"title\":{\"text\":\"Inertia\"},\"showline\":true},\"legend\":{\"tracegroupgap\":0},\"margin\":{\"t\":60},\"shapes\":[{\"line\":{\"color\":\"darkgrey\",\"dash\":\"dash\",\"width\":3},\"type\":\"line\",\"x0\":5,\"x1\":5,\"xref\":\"x\",\"y0\":0,\"y1\":1,\"yref\":\"y domain\"}],\"annotations\":[{\"arrowhead\":2,\"ax\":0.43,\"axref\":\"x domain\",\"ay\":120000.0,\"ayref\":\"y\",\"bgcolor\":\"white\",\"bordercolor\":\"#585858\",\"borderpad\":4,\"font\":{\"size\":14},\"text\":\"Optimal K\\u00fcme Say\\u0131s\\u0131\",\"x\":0.31,\"xref\":\"x domain\",\"y\":75000.0,\"yref\":\"y\"}],\"title\":{\"text\":\"K-Means K\\u00fcmeleme Dirsek E\\u011frisi\"},\"width\":700},                        {\"responsive\": true}                    ).then(function(){\n",
       "                            \n",
       "var gd = document.getElementById('32e051b1-36c6-477c-8ed7-e4aea3bcd84a');\n",
       "var x = new MutationObserver(function (mutations, observer) {{\n",
       "        var display = window.getComputedStyle(gd).display;\n",
       "        if (!display || display === 'none') {{\n",
       "            console.log([gd, 'removed!']);\n",
       "            Plotly.purge(gd);\n",
       "            observer.disconnect();\n",
       "        }}\n",
       "}});\n",
       "\n",
       "// Listen for the removal of the full notebook cells\n",
       "var notebookContainer = gd.closest('#notebook-container');\n",
       "if (notebookContainer) {{\n",
       "    x.observe(notebookContainer, {childList: true});\n",
       "}}\n",
       "\n",
       "// Listen for the clearing of the current output cell\n",
       "var outputEl = gd.closest('.output');\n",
       "if (outputEl) {{\n",
       "    x.observe(outputEl, {childList: true});\n",
       "}}\n",
       "\n",
       "                        })                };                });            </script>        </div>"
      ]
     },
     "metadata": {},
     "output_type": "display_data"
    }
   ],
   "source": [
    "# K-Means Clustering\n",
    "clust_df = cust.copy()\n",
    "clust_df['Gender'] = [1 if i == \"Women\" else 0 for i in clust_df.Gender]\n",
    "\n",
    "k_means = list()\n",
    "for clust in range(1,16):\n",
    "    km = KMeans(n_clusters=clust, init='k-means++', random_state=21).fit(clust_df)\n",
    "    k_means.append(pd.Series({'Clusters': clust, \n",
    "                              'Inertia': km.inertia_,\n",
    "                              'model': km}))\n",
    "\n",
    "# Plot results\n",
    "plot_km = (pd.concat(k_means, axis=1).T\n",
    "           [['Clusters','Inertia']]\n",
    "           .set_index('Clusters'))\n",
    "\n",
    "fig = px.line(plot_km, x=plot_km.index, y='Inertia', markers=True)\n",
    "fig.add_vline(x=5, line_width=3, line_dash=\"dash\", line_color=\"darkgrey\")\n",
    "fig.add_annotation(\n",
    "    xref=\"x domain\",\n",
    "    yref=\"y\",\n",
    "    x=.31,\n",
    "    y=75e3,\n",
    "    text=\"Optimal Küme Sayısı\",\n",
    "    axref=\"x domain\",\n",
    "    ayref=\"y\",\n",
    "    ax=.43,\n",
    "    ay=12e4,\n",
    "    arrowhead=2, \n",
    "    bordercolor=\"#585858\",\n",
    "    borderpad=4, \n",
    "    bgcolor='white',\n",
    "    font=dict(size=14)\n",
    ")\n",
    "fig.update_traces(line_color='#518C89')\n",
    "fig.update_layout(template=temp, title=\"K-Means Kümeleme Dirsek Eğrisi\", \n",
    "                  xaxis=dict(tickmode = 'linear', showline=True), yaxis=dict(showline=True), width=700)\n",
    "fig.show()"
   ]
  },
  {
   "cell_type": "code",
   "execution_count": 6,
   "id": "8199df45",
   "metadata": {},
   "outputs": [
    {
     "data": {
      "application/vnd.plotly.v1+json": {
       "config": {
        "plotlyServerURL": "https://plot.ly"
       },
       "data": [
        {
         "hovertemplate": "K-Means Cluster=0<br>Spending Score=%{x}<br>Annual Income=%{y}<extra></extra>",
         "legendgroup": "0",
         "marker": {
          "color": "rgb(95, 70, 144)",
          "line": {
           "color": "#F7F7F7",
           "width": 1
          },
          "opacity": 0.75,
          "size": 11,
          "symbol": "circle"
         },
         "mode": "markers",
         "name": "0",
         "orientation": "v",
         "showlegend": true,
         "type": "scatter",
         "x": [
          49,
          41,
          55,
          46,
          60,
          55,
          58,
          46,
          57,
          44,
          41,
          55,
          51,
          42,
          52,
          48,
          53,
          54,
          47,
          56,
          49,
          55,
          47,
          59,
          48,
          50,
          59,
          51,
          49,
          59,
          40,
          52,
          35,
          58,
          40,
          56,
          57,
          43,
          59,
          43,
          50,
          48,
          46,
          42,
          54,
          52,
          48,
          43,
          46,
          50,
          42,
          56,
          55,
          59,
          48,
          41,
          42,
          50,
          47,
          42,
          52,
          42,
          56,
          61,
          55,
          47,
          42,
          42,
          52,
          60,
          55,
          60,
          45,
          41,
          50,
          46,
          51,
          54,
          46
         ],
         "xaxis": "x",
         "y": [
          61,
          59,
          59,
          58,
          58,
          57,
          57,
          54,
          54,
          54,
          54,
          54,
          54,
          54,
          54,
          54,
          54,
          54,
          54,
          50,
          50,
          49,
          48,
          48,
          48,
          48,
          48,
          48,
          60,
          47,
          60,
          60,
          71,
          69,
          67,
          67,
          67,
          67,
          65,
          65,
          65,
          65,
          64,
          64,
          63,
          63,
          63,
          63,
          63,
          63,
          62,
          62,
          62,
          62,
          62,
          62,
          61,
          60,
          60,
          60,
          47,
          49,
          46,
          39,
          40,
          40,
          40,
          40,
          42,
          42,
          46,
          43,
          43,
          43,
          44,
          44,
          46,
          43,
          46
         ],
         "yaxis": "y"
        },
        {
         "hovertemplate": "K-Means Cluster=1<br>Spending Score=%{x}<br>Annual Income=%{y}<extra></extra>",
         "legendgroup": "1",
         "marker": {
          "color": "rgb(29, 105, 150)",
          "line": {
           "color": "#F7F7F7",
           "width": 1
          },
          "opacity": 0.75,
          "size": 11,
          "symbol": "circle"
         },
         "mode": "markers",
         "name": "1",
         "orientation": "v",
         "showlegend": true,
         "type": "scatter",
         "x": [
          5,
          8,
          23,
          17,
          15,
          39,
          16,
          32,
          24,
          28,
          9,
          20,
          11,
          17,
          34,
          22,
          5,
          14,
          36,
          10,
          29,
          7,
          15,
          13,
          12,
          16,
          1,
          1,
          35,
          5,
          26,
          20,
          27,
          40,
          18,
          10,
          13
         ],
         "xaxis": "x",
         "y": [
          75,
          113,
          103,
          103,
          98,
          99,
          120,
          97,
          101,
          126,
          71,
          78,
          71,
          78,
          72,
          78,
          73,
          93,
          77,
          74,
          70,
          73,
          88,
          88,
          77,
          78,
          78,
          78,
          79,
          81,
          85,
          86,
          87,
          76,
          137,
          87,
          87
         ],
         "yaxis": "y"
        },
        {
         "hovertemplate": "K-Means Cluster=2<br>Spending Score=%{x}<br>Annual Income=%{y}<extra></extra>",
         "legendgroup": "2",
         "marker": {
          "color": "rgb(56, 166, 165)",
          "line": {
           "color": "#F7F7F7",
           "width": 1
          },
          "opacity": 0.75,
          "size": 11,
          "symbol": "circle"
         },
         "mode": "markers",
         "name": "2",
         "orientation": "v",
         "showlegend": true,
         "type": "scatter",
         "x": [
          68,
          69,
          97,
          89,
          90,
          74,
          78,
          92,
          73,
          90,
          86,
          83,
          88,
          93,
          88,
          76,
          86,
          79,
          75,
          91,
          95,
          69,
          97,
          85,
          63,
          74,
          75,
          83,
          93,
          87,
          91,
          95,
          75,
          77,
          71,
          88,
          73,
          72,
          75
         ],
         "xaxis": "x",
         "y": [
          101,
          88,
          77,
          78,
          93,
          77,
          78,
          87,
          78,
          78,
          97,
          79,
          78,
          81,
          98,
          78,
          88,
          120,
          87,
          113,
          86,
          103,
          99,
          103,
          87,
          126,
          85,
          137,
          75,
          76,
          69,
          71,
          71,
          70,
          72,
          73,
          73,
          74,
          71
         ],
         "yaxis": "y"
        },
        {
         "hovertemplate": "K-Means Cluster=3<br>Spending Score=%{x}<br>Annual Income=%{y}<extra></extra>",
         "legendgroup": "3",
         "marker": {
          "color": "rgb(15, 133, 84)",
          "line": {
           "color": "#F7F7F7",
           "width": 1
          },
          "opacity": 0.75,
          "size": 11,
          "symbol": "circle"
         },
         "mode": "markers",
         "name": "3",
         "orientation": "v",
         "showlegend": true,
         "type": "scatter",
         "x": [
          29,
          32,
          14,
          5,
          35,
          35,
          6,
          15,
          14,
          3,
          40,
          6,
          13,
          31,
          39,
          4,
          28,
          36,
          35,
          17,
          14,
          26,
          4
         ],
         "xaxis": "x",
         "y": [
          23,
          28,
          28,
          25,
          24,
          21,
          18,
          20,
          19,
          19,
          17,
          16,
          20,
          29,
          15,
          30,
          39,
          39,
          38,
          34,
          33,
          37,
          33
         ],
         "yaxis": "y"
        },
        {
         "hovertemplate": "K-Means Cluster=4<br>Spending Score=%{x}<br>Annual Income=%{y}<extra></extra>",
         "legendgroup": "4",
         "marker": {
          "color": "rgb(115, 175, 72)",
          "line": {
           "color": "#F7F7F7",
           "width": 1
          },
          "opacity": 0.75,
          "size": 11,
          "symbol": "circle"
         },
         "mode": "markers",
         "name": "4",
         "orientation": "v",
         "showlegend": true,
         "type": "scatter",
         "x": [
          73,
          81,
          65,
          77,
          73,
          76,
          94,
          92,
          72,
          73,
          82,
          75,
          77,
          87,
          79,
          73,
          66,
          92,
          98,
          81,
          99,
          61
         ],
         "xaxis": "x",
         "y": [
          24,
          15,
          39,
          16,
          30,
          17,
          18,
          38,
          19,
          25,
          28,
          37,
          20,
          29,
          20,
          34,
          21,
          33,
          23,
          33,
          19,
          28
         ],
         "yaxis": "y"
        }
       ],
       "layout": {
        "legend": {
         "title": {
          "text": "Cluster"
         },
         "tracegroupgap": 0
        },
        "margin": {
         "t": 60
        },
        "template": {
         "data": {
          "bar": [
           {
            "error_x": {
             "color": "#2a3f5f"
            },
            "error_y": {
             "color": "#2a3f5f"
            },
            "marker": {
             "line": {
              "color": "#E5ECF6",
              "width": 0.5
             },
             "pattern": {
              "fillmode": "overlay",
              "size": 10,
              "solidity": 0.2
             }
            },
            "type": "bar"
           }
          ],
          "barpolar": [
           {
            "marker": {
             "line": {
              "color": "#E5ECF6",
              "width": 0.5
             },
             "pattern": {
              "fillmode": "overlay",
              "size": 10,
              "solidity": 0.2
             }
            },
            "type": "barpolar"
           }
          ],
          "carpet": [
           {
            "aaxis": {
             "endlinecolor": "#2a3f5f",
             "gridcolor": "white",
             "linecolor": "white",
             "minorgridcolor": "white",
             "startlinecolor": "#2a3f5f"
            },
            "baxis": {
             "endlinecolor": "#2a3f5f",
             "gridcolor": "white",
             "linecolor": "white",
             "minorgridcolor": "white",
             "startlinecolor": "#2a3f5f"
            },
            "type": "carpet"
           }
          ],
          "choropleth": [
           {
            "colorbar": {
             "outlinewidth": 0,
             "ticks": ""
            },
            "type": "choropleth"
           }
          ],
          "contour": [
           {
            "colorbar": {
             "outlinewidth": 0,
             "ticks": ""
            },
            "colorscale": [
             [
              0,
              "#0d0887"
             ],
             [
              0.1111111111111111,
              "#46039f"
             ],
             [
              0.2222222222222222,
              "#7201a8"
             ],
             [
              0.3333333333333333,
              "#9c179e"
             ],
             [
              0.4444444444444444,
              "#bd3786"
             ],
             [
              0.5555555555555556,
              "#d8576b"
             ],
             [
              0.6666666666666666,
              "#ed7953"
             ],
             [
              0.7777777777777778,
              "#fb9f3a"
             ],
             [
              0.8888888888888888,
              "#fdca26"
             ],
             [
              1,
              "#f0f921"
             ]
            ],
            "type": "contour"
           }
          ],
          "contourcarpet": [
           {
            "colorbar": {
             "outlinewidth": 0,
             "ticks": ""
            },
            "type": "contourcarpet"
           }
          ],
          "heatmap": [
           {
            "colorbar": {
             "outlinewidth": 0,
             "ticks": ""
            },
            "colorscale": [
             [
              0,
              "#0d0887"
             ],
             [
              0.1111111111111111,
              "#46039f"
             ],
             [
              0.2222222222222222,
              "#7201a8"
             ],
             [
              0.3333333333333333,
              "#9c179e"
             ],
             [
              0.4444444444444444,
              "#bd3786"
             ],
             [
              0.5555555555555556,
              "#d8576b"
             ],
             [
              0.6666666666666666,
              "#ed7953"
             ],
             [
              0.7777777777777778,
              "#fb9f3a"
             ],
             [
              0.8888888888888888,
              "#fdca26"
             ],
             [
              1,
              "#f0f921"
             ]
            ],
            "type": "heatmap"
           }
          ],
          "heatmapgl": [
           {
            "colorbar": {
             "outlinewidth": 0,
             "ticks": ""
            },
            "colorscale": [
             [
              0,
              "#0d0887"
             ],
             [
              0.1111111111111111,
              "#46039f"
             ],
             [
              0.2222222222222222,
              "#7201a8"
             ],
             [
              0.3333333333333333,
              "#9c179e"
             ],
             [
              0.4444444444444444,
              "#bd3786"
             ],
             [
              0.5555555555555556,
              "#d8576b"
             ],
             [
              0.6666666666666666,
              "#ed7953"
             ],
             [
              0.7777777777777778,
              "#fb9f3a"
             ],
             [
              0.8888888888888888,
              "#fdca26"
             ],
             [
              1,
              "#f0f921"
             ]
            ],
            "type": "heatmapgl"
           }
          ],
          "histogram": [
           {
            "marker": {
             "pattern": {
              "fillmode": "overlay",
              "size": 10,
              "solidity": 0.2
             }
            },
            "type": "histogram"
           }
          ],
          "histogram2d": [
           {
            "colorbar": {
             "outlinewidth": 0,
             "ticks": ""
            },
            "colorscale": [
             [
              0,
              "#0d0887"
             ],
             [
              0.1111111111111111,
              "#46039f"
             ],
             [
              0.2222222222222222,
              "#7201a8"
             ],
             [
              0.3333333333333333,
              "#9c179e"
             ],
             [
              0.4444444444444444,
              "#bd3786"
             ],
             [
              0.5555555555555556,
              "#d8576b"
             ],
             [
              0.6666666666666666,
              "#ed7953"
             ],
             [
              0.7777777777777778,
              "#fb9f3a"
             ],
             [
              0.8888888888888888,
              "#fdca26"
             ],
             [
              1,
              "#f0f921"
             ]
            ],
            "type": "histogram2d"
           }
          ],
          "histogram2dcontour": [
           {
            "colorbar": {
             "outlinewidth": 0,
             "ticks": ""
            },
            "colorscale": [
             [
              0,
              "#0d0887"
             ],
             [
              0.1111111111111111,
              "#46039f"
             ],
             [
              0.2222222222222222,
              "#7201a8"
             ],
             [
              0.3333333333333333,
              "#9c179e"
             ],
             [
              0.4444444444444444,
              "#bd3786"
             ],
             [
              0.5555555555555556,
              "#d8576b"
             ],
             [
              0.6666666666666666,
              "#ed7953"
             ],
             [
              0.7777777777777778,
              "#fb9f3a"
             ],
             [
              0.8888888888888888,
              "#fdca26"
             ],
             [
              1,
              "#f0f921"
             ]
            ],
            "type": "histogram2dcontour"
           }
          ],
          "mesh3d": [
           {
            "colorbar": {
             "outlinewidth": 0,
             "ticks": ""
            },
            "type": "mesh3d"
           }
          ],
          "parcoords": [
           {
            "line": {
             "colorbar": {
              "outlinewidth": 0,
              "ticks": ""
             }
            },
            "type": "parcoords"
           }
          ],
          "pie": [
           {
            "automargin": true,
            "type": "pie"
           }
          ],
          "scatter": [
           {
            "fillpattern": {
             "fillmode": "overlay",
             "size": 10,
             "solidity": 0.2
            },
            "type": "scatter"
           }
          ],
          "scatter3d": [
           {
            "line": {
             "colorbar": {
              "outlinewidth": 0,
              "ticks": ""
             }
            },
            "marker": {
             "colorbar": {
              "outlinewidth": 0,
              "ticks": ""
             }
            },
            "type": "scatter3d"
           }
          ],
          "scattercarpet": [
           {
            "marker": {
             "colorbar": {
              "outlinewidth": 0,
              "ticks": ""
             }
            },
            "type": "scattercarpet"
           }
          ],
          "scattergeo": [
           {
            "marker": {
             "colorbar": {
              "outlinewidth": 0,
              "ticks": ""
             }
            },
            "type": "scattergeo"
           }
          ],
          "scattergl": [
           {
            "marker": {
             "colorbar": {
              "outlinewidth": 0,
              "ticks": ""
             }
            },
            "type": "scattergl"
           }
          ],
          "scattermapbox": [
           {
            "marker": {
             "colorbar": {
              "outlinewidth": 0,
              "ticks": ""
             }
            },
            "type": "scattermapbox"
           }
          ],
          "scatterpolar": [
           {
            "marker": {
             "colorbar": {
              "outlinewidth": 0,
              "ticks": ""
             }
            },
            "type": "scatterpolar"
           }
          ],
          "scatterpolargl": [
           {
            "marker": {
             "colorbar": {
              "outlinewidth": 0,
              "ticks": ""
             }
            },
            "type": "scatterpolargl"
           }
          ],
          "scatterternary": [
           {
            "marker": {
             "colorbar": {
              "outlinewidth": 0,
              "ticks": ""
             }
            },
            "type": "scatterternary"
           }
          ],
          "surface": [
           {
            "colorbar": {
             "outlinewidth": 0,
             "ticks": ""
            },
            "colorscale": [
             [
              0,
              "#0d0887"
             ],
             [
              0.1111111111111111,
              "#46039f"
             ],
             [
              0.2222222222222222,
              "#7201a8"
             ],
             [
              0.3333333333333333,
              "#9c179e"
             ],
             [
              0.4444444444444444,
              "#bd3786"
             ],
             [
              0.5555555555555556,
              "#d8576b"
             ],
             [
              0.6666666666666666,
              "#ed7953"
             ],
             [
              0.7777777777777778,
              "#fb9f3a"
             ],
             [
              0.8888888888888888,
              "#fdca26"
             ],
             [
              1,
              "#f0f921"
             ]
            ],
            "type": "surface"
           }
          ],
          "table": [
           {
            "cells": {
             "fill": {
              "color": "#EBF0F8"
             },
             "line": {
              "color": "white"
             }
            },
            "header": {
             "fill": {
              "color": "#C8D4E3"
             },
             "line": {
              "color": "white"
             }
            },
            "type": "table"
           }
          ]
         },
         "layout": {
          "font": {
           "family": "Franklin Gothic",
           "size": 12
          }
         }
        },
        "title": {
         "text": "K-Means Küme Profilleri,<br>Müşteri Harcamaları ve Gelir"
        },
        "width": 700,
        "xaxis": {
         "anchor": "y",
         "domain": [
          0,
          1
         ],
         "showline": true,
         "title": {
          "text": "Spending Score"
         },
         "zeroline": false
        },
        "yaxis": {
         "anchor": "x",
         "domain": [
          0,
          1
         ],
         "showline": true,
         "ticksuffix": "k",
         "title": {
          "text": "Income, $"
         }
        }
       }
      },
      "text/html": [
       "<div>                            <div id=\"988c5de7-2f26-4d04-b9a0-ff02e702f461\" class=\"plotly-graph-div\" style=\"height:525px; width:700px;\"></div>            <script type=\"text/javascript\">                require([\"plotly\"], function(Plotly) {                    window.PLOTLYENV=window.PLOTLYENV || {};                                    if (document.getElementById(\"988c5de7-2f26-4d04-b9a0-ff02e702f461\")) {                    Plotly.newPlot(                        \"988c5de7-2f26-4d04-b9a0-ff02e702f461\",                        [{\"hovertemplate\":\"K-Means Cluster=0<br>Spending Score=%{x}<br>Annual Income=%{y}<extra></extra>\",\"legendgroup\":\"0\",\"marker\":{\"color\":\"rgb(95, 70, 144)\",\"symbol\":\"circle\",\"line\":{\"color\":\"#F7F7F7\",\"width\":1},\"opacity\":0.75,\"size\":11},\"mode\":\"markers\",\"name\":\"0\",\"orientation\":\"v\",\"showlegend\":true,\"x\":[49,41,55,46,60,55,58,46,57,44,41,55,51,42,52,48,53,54,47,56,49,55,47,59,48,50,59,51,49,59,40,52,35,58,40,56,57,43,59,43,50,48,46,42,54,52,48,43,46,50,42,56,55,59,48,41,42,50,47,42,52,42,56,61,55,47,42,42,52,60,55,60,45,41,50,46,51,54,46],\"xaxis\":\"x\",\"y\":[61,59,59,58,58,57,57,54,54,54,54,54,54,54,54,54,54,54,54,50,50,49,48,48,48,48,48,48,60,47,60,60,71,69,67,67,67,67,65,65,65,65,64,64,63,63,63,63,63,63,62,62,62,62,62,62,61,60,60,60,47,49,46,39,40,40,40,40,42,42,46,43,43,43,44,44,46,43,46],\"yaxis\":\"y\",\"type\":\"scatter\"},{\"hovertemplate\":\"K-Means Cluster=1<br>Spending Score=%{x}<br>Annual Income=%{y}<extra></extra>\",\"legendgroup\":\"1\",\"marker\":{\"color\":\"rgb(29, 105, 150)\",\"symbol\":\"circle\",\"line\":{\"color\":\"#F7F7F7\",\"width\":1},\"opacity\":0.75,\"size\":11},\"mode\":\"markers\",\"name\":\"1\",\"orientation\":\"v\",\"showlegend\":true,\"x\":[5,8,23,17,15,39,16,32,24,28,9,20,11,17,34,22,5,14,36,10,29,7,15,13,12,16,1,1,35,5,26,20,27,40,18,10,13],\"xaxis\":\"x\",\"y\":[75,113,103,103,98,99,120,97,101,126,71,78,71,78,72,78,73,93,77,74,70,73,88,88,77,78,78,78,79,81,85,86,87,76,137,87,87],\"yaxis\":\"y\",\"type\":\"scatter\"},{\"hovertemplate\":\"K-Means Cluster=2<br>Spending Score=%{x}<br>Annual Income=%{y}<extra></extra>\",\"legendgroup\":\"2\",\"marker\":{\"color\":\"rgb(56, 166, 165)\",\"symbol\":\"circle\",\"line\":{\"color\":\"#F7F7F7\",\"width\":1},\"opacity\":0.75,\"size\":11},\"mode\":\"markers\",\"name\":\"2\",\"orientation\":\"v\",\"showlegend\":true,\"x\":[68,69,97,89,90,74,78,92,73,90,86,83,88,93,88,76,86,79,75,91,95,69,97,85,63,74,75,83,93,87,91,95,75,77,71,88,73,72,75],\"xaxis\":\"x\",\"y\":[101,88,77,78,93,77,78,87,78,78,97,79,78,81,98,78,88,120,87,113,86,103,99,103,87,126,85,137,75,76,69,71,71,70,72,73,73,74,71],\"yaxis\":\"y\",\"type\":\"scatter\"},{\"hovertemplate\":\"K-Means Cluster=3<br>Spending Score=%{x}<br>Annual Income=%{y}<extra></extra>\",\"legendgroup\":\"3\",\"marker\":{\"color\":\"rgb(15, 133, 84)\",\"symbol\":\"circle\",\"line\":{\"color\":\"#F7F7F7\",\"width\":1},\"opacity\":0.75,\"size\":11},\"mode\":\"markers\",\"name\":\"3\",\"orientation\":\"v\",\"showlegend\":true,\"x\":[29,32,14,5,35,35,6,15,14,3,40,6,13,31,39,4,28,36,35,17,14,26,4],\"xaxis\":\"x\",\"y\":[23,28,28,25,24,21,18,20,19,19,17,16,20,29,15,30,39,39,38,34,33,37,33],\"yaxis\":\"y\",\"type\":\"scatter\"},{\"hovertemplate\":\"K-Means Cluster=4<br>Spending Score=%{x}<br>Annual Income=%{y}<extra></extra>\",\"legendgroup\":\"4\",\"marker\":{\"color\":\"rgb(115, 175, 72)\",\"symbol\":\"circle\",\"line\":{\"color\":\"#F7F7F7\",\"width\":1},\"opacity\":0.75,\"size\":11},\"mode\":\"markers\",\"name\":\"4\",\"orientation\":\"v\",\"showlegend\":true,\"x\":[73,81,65,77,73,76,94,92,72,73,82,75,77,87,79,73,66,92,98,81,99,61],\"xaxis\":\"x\",\"y\":[24,15,39,16,30,17,18,38,19,25,28,37,20,29,20,34,21,33,23,33,19,28],\"yaxis\":\"y\",\"type\":\"scatter\"}],                        {\"template\":{\"data\":{\"histogram2dcontour\":[{\"type\":\"histogram2dcontour\",\"colorbar\":{\"outlinewidth\":0,\"ticks\":\"\"},\"colorscale\":[[0.0,\"#0d0887\"],[0.1111111111111111,\"#46039f\"],[0.2222222222222222,\"#7201a8\"],[0.3333333333333333,\"#9c179e\"],[0.4444444444444444,\"#bd3786\"],[0.5555555555555556,\"#d8576b\"],[0.6666666666666666,\"#ed7953\"],[0.7777777777777778,\"#fb9f3a\"],[0.8888888888888888,\"#fdca26\"],[1.0,\"#f0f921\"]]}],\"choropleth\":[{\"type\":\"choropleth\",\"colorbar\":{\"outlinewidth\":0,\"ticks\":\"\"}}],\"histogram2d\":[{\"type\":\"histogram2d\",\"colorbar\":{\"outlinewidth\":0,\"ticks\":\"\"},\"colorscale\":[[0.0,\"#0d0887\"],[0.1111111111111111,\"#46039f\"],[0.2222222222222222,\"#7201a8\"],[0.3333333333333333,\"#9c179e\"],[0.4444444444444444,\"#bd3786\"],[0.5555555555555556,\"#d8576b\"],[0.6666666666666666,\"#ed7953\"],[0.7777777777777778,\"#fb9f3a\"],[0.8888888888888888,\"#fdca26\"],[1.0,\"#f0f921\"]]}],\"heatmap\":[{\"type\":\"heatmap\",\"colorbar\":{\"outlinewidth\":0,\"ticks\":\"\"},\"colorscale\":[[0.0,\"#0d0887\"],[0.1111111111111111,\"#46039f\"],[0.2222222222222222,\"#7201a8\"],[0.3333333333333333,\"#9c179e\"],[0.4444444444444444,\"#bd3786\"],[0.5555555555555556,\"#d8576b\"],[0.6666666666666666,\"#ed7953\"],[0.7777777777777778,\"#fb9f3a\"],[0.8888888888888888,\"#fdca26\"],[1.0,\"#f0f921\"]]}],\"heatmapgl\":[{\"type\":\"heatmapgl\",\"colorbar\":{\"outlinewidth\":0,\"ticks\":\"\"},\"colorscale\":[[0.0,\"#0d0887\"],[0.1111111111111111,\"#46039f\"],[0.2222222222222222,\"#7201a8\"],[0.3333333333333333,\"#9c179e\"],[0.4444444444444444,\"#bd3786\"],[0.5555555555555556,\"#d8576b\"],[0.6666666666666666,\"#ed7953\"],[0.7777777777777778,\"#fb9f3a\"],[0.8888888888888888,\"#fdca26\"],[1.0,\"#f0f921\"]]}],\"contourcarpet\":[{\"type\":\"contourcarpet\",\"colorbar\":{\"outlinewidth\":0,\"ticks\":\"\"}}],\"contour\":[{\"type\":\"contour\",\"colorbar\":{\"outlinewidth\":0,\"ticks\":\"\"},\"colorscale\":[[0.0,\"#0d0887\"],[0.1111111111111111,\"#46039f\"],[0.2222222222222222,\"#7201a8\"],[0.3333333333333333,\"#9c179e\"],[0.4444444444444444,\"#bd3786\"],[0.5555555555555556,\"#d8576b\"],[0.6666666666666666,\"#ed7953\"],[0.7777777777777778,\"#fb9f3a\"],[0.8888888888888888,\"#fdca26\"],[1.0,\"#f0f921\"]]}],\"surface\":[{\"type\":\"surface\",\"colorbar\":{\"outlinewidth\":0,\"ticks\":\"\"},\"colorscale\":[[0.0,\"#0d0887\"],[0.1111111111111111,\"#46039f\"],[0.2222222222222222,\"#7201a8\"],[0.3333333333333333,\"#9c179e\"],[0.4444444444444444,\"#bd3786\"],[0.5555555555555556,\"#d8576b\"],[0.6666666666666666,\"#ed7953\"],[0.7777777777777778,\"#fb9f3a\"],[0.8888888888888888,\"#fdca26\"],[1.0,\"#f0f921\"]]}],\"mesh3d\":[{\"type\":\"mesh3d\",\"colorbar\":{\"outlinewidth\":0,\"ticks\":\"\"}}],\"scatter\":[{\"fillpattern\":{\"fillmode\":\"overlay\",\"size\":10,\"solidity\":0.2},\"type\":\"scatter\"}],\"parcoords\":[{\"type\":\"parcoords\",\"line\":{\"colorbar\":{\"outlinewidth\":0,\"ticks\":\"\"}}}],\"scatterpolargl\":[{\"type\":\"scatterpolargl\",\"marker\":{\"colorbar\":{\"outlinewidth\":0,\"ticks\":\"\"}}}],\"bar\":[{\"error_x\":{\"color\":\"#2a3f5f\"},\"error_y\":{\"color\":\"#2a3f5f\"},\"marker\":{\"line\":{\"color\":\"#E5ECF6\",\"width\":0.5},\"pattern\":{\"fillmode\":\"overlay\",\"size\":10,\"solidity\":0.2}},\"type\":\"bar\"}],\"scattergeo\":[{\"type\":\"scattergeo\",\"marker\":{\"colorbar\":{\"outlinewidth\":0,\"ticks\":\"\"}}}],\"scatterpolar\":[{\"type\":\"scatterpolar\",\"marker\":{\"colorbar\":{\"outlinewidth\":0,\"ticks\":\"\"}}}],\"histogram\":[{\"marker\":{\"pattern\":{\"fillmode\":\"overlay\",\"size\":10,\"solidity\":0.2}},\"type\":\"histogram\"}],\"scattergl\":[{\"type\":\"scattergl\",\"marker\":{\"colorbar\":{\"outlinewidth\":0,\"ticks\":\"\"}}}],\"scatter3d\":[{\"type\":\"scatter3d\",\"line\":{\"colorbar\":{\"outlinewidth\":0,\"ticks\":\"\"}},\"marker\":{\"colorbar\":{\"outlinewidth\":0,\"ticks\":\"\"}}}],\"scattermapbox\":[{\"type\":\"scattermapbox\",\"marker\":{\"colorbar\":{\"outlinewidth\":0,\"ticks\":\"\"}}}],\"scatterternary\":[{\"type\":\"scatterternary\",\"marker\":{\"colorbar\":{\"outlinewidth\":0,\"ticks\":\"\"}}}],\"scattercarpet\":[{\"type\":\"scattercarpet\",\"marker\":{\"colorbar\":{\"outlinewidth\":0,\"ticks\":\"\"}}}],\"carpet\":[{\"aaxis\":{\"endlinecolor\":\"#2a3f5f\",\"gridcolor\":\"white\",\"linecolor\":\"white\",\"minorgridcolor\":\"white\",\"startlinecolor\":\"#2a3f5f\"},\"baxis\":{\"endlinecolor\":\"#2a3f5f\",\"gridcolor\":\"white\",\"linecolor\":\"white\",\"minorgridcolor\":\"white\",\"startlinecolor\":\"#2a3f5f\"},\"type\":\"carpet\"}],\"table\":[{\"cells\":{\"fill\":{\"color\":\"#EBF0F8\"},\"line\":{\"color\":\"white\"}},\"header\":{\"fill\":{\"color\":\"#C8D4E3\"},\"line\":{\"color\":\"white\"}},\"type\":\"table\"}],\"barpolar\":[{\"marker\":{\"line\":{\"color\":\"#E5ECF6\",\"width\":0.5},\"pattern\":{\"fillmode\":\"overlay\",\"size\":10,\"solidity\":0.2}},\"type\":\"barpolar\"}],\"pie\":[{\"automargin\":true,\"type\":\"pie\"}]},\"layout\":{\"font\":{\"family\":\"Franklin Gothic\",\"size\":12}}},\"xaxis\":{\"anchor\":\"y\",\"domain\":[0.0,1.0],\"title\":{\"text\":\"Spending Score\"},\"showline\":true,\"zeroline\":false},\"yaxis\":{\"anchor\":\"x\",\"domain\":[0.0,1.0],\"title\":{\"text\":\"Income, $\"},\"ticksuffix\":\"k\",\"showline\":true},\"legend\":{\"title\":{\"text\":\"Cluster\"},\"tracegroupgap\":0},\"margin\":{\"t\":60},\"title\":{\"text\":\"K-Means K\\u00fcme Profilleri,<br>M\\u00fc\\u015fteri Harcamalar\\u0131 ve Gelir\"},\"width\":700},                        {\"responsive\": true}                    ).then(function(){\n",
       "                            \n",
       "var gd = document.getElementById('988c5de7-2f26-4d04-b9a0-ff02e702f461');\n",
       "var x = new MutationObserver(function (mutations, observer) {{\n",
       "        var display = window.getComputedStyle(gd).display;\n",
       "        if (!display || display === 'none') {{\n",
       "            console.log([gd, 'removed!']);\n",
       "            Plotly.purge(gd);\n",
       "            observer.disconnect();\n",
       "        }}\n",
       "}});\n",
       "\n",
       "// Listen for the removal of the full notebook cells\n",
       "var notebookContainer = gd.closest('#notebook-container');\n",
       "if (notebookContainer) {{\n",
       "    x.observe(notebookContainer, {childList: true});\n",
       "}}\n",
       "\n",
       "// Listen for the clearing of the current output cell\n",
       "var outputEl = gd.closest('.output');\n",
       "if (outputEl) {{\n",
       "    x.observe(outputEl, {childList: true});\n",
       "}}\n",
       "\n",
       "                        })                };                });            </script>        </div>"
      ]
     },
     "metadata": {},
     "output_type": "display_data"
    }
   ],
   "source": [
    "\n",
    "km = KMeans(n_clusters=5, random_state=21)\n",
    "km_pred = km.fit_predict(clust_df)\n",
    "plot_km=clust_df.copy()\n",
    "plot_km['K-Means Cluster'] = km_pred\n",
    "plot_km=plot_km.sort_values(by='K-Means Cluster')\n",
    "plot_km['K-Means Cluster'] = plot_km['K-Means Cluster'].astype(str)\n",
    "\n",
    "# Plot of clusters\n",
    "fig = px.scatter(plot_km, x=\"Spending Score\", y=\"Annual Income\", color=\"K-Means Cluster\", \n",
    "                 color_discrete_sequence=px.colors.qualitative.Prism)\n",
    "fig.update_traces(marker=dict(size=11, opacity=0.75, line=dict(width=1, color='#F7F7F7')))\n",
    "fig.update_layout(template=temp, title=\"K-Means Küme Profilleri,<br>Müşteri Harcamaları ve Gelir\", \n",
    "                  width=700, legend_title='Cluster',\n",
    "                  xaxis=dict(title='Spending Score', showline=True, zeroline=False), \n",
    "                  yaxis=dict(title='Income, $', ticksuffix='k', showline=True))\n",
    "fig.show()"
   ]
  },
  {
   "cell_type": "markdown",
   "id": "0bcb0641",
   "metadata": {},
   "source": [
    "# Hierarchical Clustering"
   ]
  },
  {
   "cell_type": "code",
   "execution_count": 7,
   "id": "dff50de5",
   "metadata": {},
   "outputs": [
    {
     "data": {
      "image/png": "[encoded data removed]",
      "text/plain": [
       "<Figure size 5600x2400 with 1 Axes>"
      ]
     },
     "metadata": {},
     "output_type": "display_data"
    }
   ],
   "source": [
    "sns.set(rc={'figure.dpi':400})\n",
    "sns.set_context('notebook')\n",
    "sns.set_style('ticks')\n",
    "\n",
    "Z = hierarchy.linkage(clust_df, method='complete', metric='euclidean')\n",
    "fig, ax = plt.subplots(figsize=(14,6))\n",
    "hierarchy.set_link_color_palette(['#5d69b1', '#52bca3', '#99c945'])\n",
    "den = hierarchy.dendrogram(Z, orientation='top', color_threshold=102,\n",
    "                           p=40, truncate_mode='lastp',\n",
    "                           show_leaf_counts=True, ax=ax,\n",
    "                           above_threshold_color='grey')\n",
    "#ax.axhline(101, color='grey', linestyle='--')\n",
    "ax.spines['right'].set_visible(False)\n",
    "ax.spines['top'].set_visible(False)\n",
    "ax.spines['bottom'].set_visible(False)\n",
    "ax.tick_params(axis=u'both', which=u'both',length=0)\n",
    "ax.set_xlabel('\\nKüme Yaprak Düğümlerindeki Müşteri Sayısı')\n",
    "ax.set_ylabel('Küme Mesafesi')\n",
    "ax.set_title('\\nTam Bağlantılı Hiyerarşik Kümelemenin Dendrogramı')\n",
    "fig.show()"
   ]
  },
  {
   "cell_type": "code",
   "execution_count": 8,
   "id": "2d083e80",
   "metadata": {},
   "outputs": [
    {
     "data": {
      "application/vnd.plotly.v1+json": {
       "config": {
        "plotlyServerURL": "https://plot.ly"
       },
       "data": [
        {
         "hovertemplate": "Hierarchical Cluster=0<br>Spending Score=%{x}<br>Annual Income=%{y}<extra></extra>",
         "legendgroup": "0",
         "marker": {
          "color": "rgb(93, 105, 177)",
          "line": {
           "color": "#F7F7F7",
           "width": 1
          },
          "opacity": 0.75,
          "size": 11,
          "symbol": "circle"
         },
         "mode": "markers",
         "name": "0",
         "orientation": "v",
         "showlegend": true,
         "type": "scatter",
         "x": [
          39,
          49,
          41,
          55,
          46,
          60,
          55,
          58,
          46,
          57,
          44,
          41,
          55,
          51,
          40,
          42,
          48,
          53,
          54,
          47,
          56,
          49,
          42,
          55,
          47,
          59,
          48,
          50,
          59,
          52,
          51,
          42,
          47,
          40,
          34,
          29,
          58,
          40,
          56,
          57,
          43,
          59,
          43,
          50,
          48,
          46,
          52,
          42,
          52,
          48,
          43,
          46,
          50,
          42,
          56,
          55,
          59,
          48,
          41,
          42,
          50,
          54,
          59,
          49,
          55,
          31,
          61,
          32,
          82,
          14,
          73,
          5,
          73,
          35,
          98,
          29,
          66,
          35,
          87,
          79,
          77,
          15,
          99,
          14,
          72,
          94,
          6,
          76,
          40,
          77,
          52,
          6,
          81,
          13,
          4,
          3,
          4,
          56,
          73,
          46,
          51,
          46,
          50,
          41,
          60,
          54,
          60,
          52,
          42,
          42,
          47,
          45,
          65,
          55,
          17,
          81,
          26,
          75,
          73,
          35,
          92,
          36,
          61,
          28,
          92,
          14
         ],
         "xaxis": "x",
         "y": [
          15,
          60,
          59,
          59,
          58,
          58,
          57,
          57,
          54,
          54,
          54,
          54,
          54,
          54,
          60,
          54,
          54,
          54,
          54,
          54,
          50,
          50,
          49,
          49,
          48,
          48,
          48,
          48,
          48,
          54,
          48,
          60,
          60,
          76,
          72,
          70,
          69,
          67,
          67,
          67,
          67,
          65,
          65,
          65,
          65,
          64,
          60,
          64,
          63,
          63,
          63,
          63,
          63,
          62,
          62,
          62,
          62,
          62,
          62,
          61,
          60,
          63,
          47,
          61,
          46,
          29,
          28,
          28,
          28,
          28,
          25,
          25,
          24,
          24,
          23,
          23,
          21,
          21,
          29,
          20,
          20,
          20,
          19,
          19,
          19,
          18,
          18,
          17,
          17,
          16,
          47,
          16,
          15,
          20,
          30,
          19,
          33,
          46,
          30,
          46,
          46,
          44,
          44,
          43,
          43,
          43,
          42,
          42,
          40,
          40,
          40,
          43,
          39,
          40,
          34,
          33,
          37,
          37,
          34,
          38,
          38,
          39,
          39,
          39,
          33,
          33
         ],
         "yaxis": "y"
        },
        {
         "hovertemplate": "Hierarchical Cluster=1<br>Spending Score=%{x}<br>Annual Income=%{y}<extra></extra>",
         "legendgroup": "1",
         "marker": {
          "color": "rgb(82, 188, 163)",
          "line": {
           "color": "#F7F7F7",
           "width": 1
          },
          "opacity": 0.75,
          "size": 11,
          "symbol": "circle"
         },
         "mode": "markers",
         "name": "1",
         "orientation": "v",
         "showlegend": true,
         "type": "scatter",
         "x": [
          22,
          17,
          39,
          20,
          16,
          15,
          1,
          5,
          13,
          32,
          35,
          14,
          26,
          20,
          15,
          24,
          27,
          1,
          36,
          5,
          12,
          18,
          13,
          28,
          35,
          11,
          16,
          8,
          7,
          9,
          5,
          17,
          23,
          10,
          10
         ],
         "xaxis": "x",
         "y": [
          78,
          78,
          99,
          78,
          78,
          98,
          78,
          81,
          87,
          97,
          79,
          93,
          85,
          86,
          88,
          101,
          87,
          78,
          77,
          73,
          77,
          137,
          88,
          126,
          71,
          71,
          120,
          113,
          73,
          71,
          75,
          103,
          103,
          74,
          87
         ],
         "yaxis": "y"
        },
        {
         "hovertemplate": "Hierarchical Cluster=2<br>Spending Score=%{x}<br>Annual Income=%{y}<extra></extra>",
         "legendgroup": "2",
         "marker": {
          "color": "rgb(153, 201, 69)",
          "line": {
           "color": "#F7F7F7",
           "width": 1
          },
          "opacity": 0.75,
          "size": 11,
          "symbol": "circle"
         },
         "mode": "markers",
         "name": "2",
         "orientation": "v",
         "showlegend": true,
         "type": "scatter",
         "x": [
          90,
          91,
          79,
          69,
          69,
          97,
          74,
          85,
          86,
          86,
          68,
          88,
          75,
          75,
          91,
          77,
          95,
          75,
          71,
          88,
          73,
          72,
          93,
          87,
          97,
          74,
          90,
          88,
          76,
          89,
          78,
          73,
          83,
          93,
          75,
          95,
          63,
          92,
          83
         ],
         "xaxis": "x",
         "y": [
          93,
          113,
          120,
          103,
          88,
          99,
          126,
          103,
          88,
          97,
          101,
          98,
          71,
          87,
          69,
          70,
          71,
          71,
          72,
          73,
          73,
          74,
          75,
          76,
          77,
          77,
          78,
          78,
          78,
          78,
          78,
          78,
          79,
          81,
          85,
          86,
          87,
          87,
          137
         ],
         "yaxis": "y"
        }
       ],
       "layout": {
        "legend": {
         "title": {
          "text": "Cluster"
         },
         "tracegroupgap": 0
        },
        "margin": {
         "t": 60
        },
        "template": {
         "data": {
          "bar": [
           {
            "error_x": {
             "color": "#2a3f5f"
            },
            "error_y": {
             "color": "#2a3f5f"
            },
            "marker": {
             "line": {
              "color": "#E5ECF6",
              "width": 0.5
             },
             "pattern": {
              "fillmode": "overlay",
              "size": 10,
              "solidity": 0.2
             }
            },
            "type": "bar"
           }
          ],
          "barpolar": [
           {
            "marker": {
             "line": {
              "color": "#E5ECF6",
              "width": 0.5
             },
             "pattern": {
              "fillmode": "overlay",
              "size": 10,
              "solidity": 0.2
             }
            },
            "type": "barpolar"
           }
          ],
          "carpet": [
           {
            "aaxis": {
             "endlinecolor": "#2a3f5f",
             "gridcolor": "white",
             "linecolor": "white",
             "minorgridcolor": "white",
             "startlinecolor": "#2a3f5f"
            },
            "baxis": {
             "endlinecolor": "#2a3f5f",
             "gridcolor": "white",
             "linecolor": "white",
             "minorgridcolor": "white",
             "startlinecolor": "#2a3f5f"
            },
            "type": "carpet"
           }
          ],
          "choropleth": [
           {
            "colorbar": {
             "outlinewidth": 0,
             "ticks": ""
            },
            "type": "choropleth"
           }
          ],
          "contour": [
           {
            "colorbar": {
             "outlinewidth": 0,
             "ticks": ""
            },
            "colorscale": [
             [
              0,
              "#0d0887"
             ],
             [
              0.1111111111111111,
              "#46039f"
             ],
             [
              0.2222222222222222,
              "#7201a8"
             ],
             [
              0.3333333333333333,
              "#9c179e"
             ],
             [
              0.4444444444444444,
              "#bd3786"
             ],
             [
              0.5555555555555556,
              "#d8576b"
             ],
             [
              0.6666666666666666,
              "#ed7953"
             ],
             [
              0.7777777777777778,
              "#fb9f3a"
             ],
             [
              0.8888888888888888,
              "#fdca26"
             ],
             [
              1,
              "#f0f921"
             ]
            ],
            "type": "contour"
           }
          ],
          "contourcarpet": [
           {
            "colorbar": {
             "outlinewidth": 0,
             "ticks": ""
            },
            "type": "contourcarpet"
           }
          ],
          "heatmap": [
           {
            "colorbar": {
             "outlinewidth": 0,
             "ticks": ""
            },
            "colorscale": [
             [
              0,
              "#0d0887"
             ],
             [
              0.1111111111111111,
              "#46039f"
             ],
             [
              0.2222222222222222,
              "#7201a8"
             ],
             [
              0.3333333333333333,
              "#9c179e"
             ],
             [
              0.4444444444444444,
              "#bd3786"
             ],
             [
              0.5555555555555556,
              "#d8576b"
             ],
             [
              0.6666666666666666,
              "#ed7953"
             ],
             [
              0.7777777777777778,
              "#fb9f3a"
             ],
             [
              0.8888888888888888,
              "#fdca26"
             ],
             [
              1,
              "#f0f921"
             ]
            ],
            "type": "heatmap"
           }
          ],
          "heatmapgl": [
           {
            "colorbar": {
             "outlinewidth": 0,
             "ticks": ""
            },
            "colorscale": [
             [
              0,
              "#0d0887"
             ],
             [
              0.1111111111111111,
              "#46039f"
             ],
             [
              0.2222222222222222,
              "#7201a8"
             ],
             [
              0.3333333333333333,
              "#9c179e"
             ],
             [
              0.4444444444444444,
              "#bd3786"
             ],
             [
              0.5555555555555556,
              "#d8576b"
             ],
             [
              0.6666666666666666,
              "#ed7953"
             ],
             [
              0.7777777777777778,
              "#fb9f3a"
             ],
             [
              0.8888888888888888,
              "#fdca26"
             ],
             [
              1,
              "#f0f921"
             ]
            ],
            "type": "heatmapgl"
           }
          ],
          "histogram": [
           {
            "marker": {
             "pattern": {
              "fillmode": "overlay",
              "size": 10,
              "solidity": 0.2
             }
            },
            "type": "histogram"
           }
          ],
          "histogram2d": [
           {
            "colorbar": {
             "outlinewidth": 0,
             "ticks": ""
            },
            "colorscale": [
             [
              0,
              "#0d0887"
             ],
             [
              0.1111111111111111,
              "#46039f"
             ],
             [
              0.2222222222222222,
              "#7201a8"
             ],
             [
              0.3333333333333333,
              "#9c179e"
             ],
             [
              0.4444444444444444,
              "#bd3786"
             ],
             [
              0.5555555555555556,
              "#d8576b"
             ],
             [
              0.6666666666666666,
              "#ed7953"
             ],
             [
              0.7777777777777778,
              "#fb9f3a"
             ],
             [
              0.8888888888888888,
              "#fdca26"
             ],
             [
              1,
              "#f0f921"
             ]
            ],
            "type": "histogram2d"
           }
          ],
          "histogram2dcontour": [
           {
            "colorbar": {
             "outlinewidth": 0,
             "ticks": ""
            },
            "colorscale": [
             [
              0,
              "#0d0887"
             ],
             [
              0.1111111111111111,
              "#46039f"
             ],
             [
              0.2222222222222222,
              "#7201a8"
             ],
             [
              0.3333333333333333,
              "#9c179e"
             ],
             [
              0.4444444444444444,
              "#bd3786"
             ],
             [
              0.5555555555555556,
              "#d8576b"
             ],
             [
              0.6666666666666666,
              "#ed7953"
             ],
             [
              0.7777777777777778,
              "#fb9f3a"
             ],
             [
              0.8888888888888888,
              "#fdca26"
             ],
             [
              1,
              "#f0f921"
             ]
            ],
            "type": "histogram2dcontour"
           }
          ],
          "mesh3d": [
           {
            "colorbar": {
             "outlinewidth": 0,
             "ticks": ""
            },
            "type": "mesh3d"
           }
          ],
          "parcoords": [
           {
            "line": {
             "colorbar": {
              "outlinewidth": 0,
              "ticks": ""
             }
            },
            "type": "parcoords"
           }
          ],
          "pie": [
           {
            "automargin": true,
            "type": "pie"
           }
          ],
          "scatter": [
           {
            "fillpattern": {
             "fillmode": "overlay",
             "size": 10,
             "solidity": 0.2
            },
            "type": "scatter"
           }
          ],
          "scatter3d": [
           {
            "line": {
             "colorbar": {
              "outlinewidth": 0,
              "ticks": ""
             }
            },
            "marker": {
             "colorbar": {
              "outlinewidth": 0,
              "ticks": ""
             }
            },
            "type": "scatter3d"
           }
          ],
          "scattercarpet": [
           {
            "marker": {
             "colorbar": {
              "outlinewidth": 0,
              "ticks": ""
             }
            },
            "type": "scattercarpet"
           }
          ],
          "scattergeo": [
           {
            "marker": {
             "colorbar": {
              "outlinewidth": 0,
              "ticks": ""
             }
            },
            "type": "scattergeo"
           }
          ],
          "scattergl": [
           {
            "marker": {
             "colorbar": {
              "outlinewidth": 0,
              "ticks": ""
             }
            },
            "type": "scattergl"
           }
          ],
          "scattermapbox": [
           {
            "marker": {
             "colorbar": {
              "outlinewidth": 0,
              "ticks": ""
             }
            },
            "type": "scattermapbox"
           }
          ],
          "scatterpolar": [
           {
            "marker": {
             "colorbar": {
              "outlinewidth": 0,
              "ticks": ""
             }
            },
            "type": "scatterpolar"
           }
          ],
          "scatterpolargl": [
           {
            "marker": {
             "colorbar": {
              "outlinewidth": 0,
              "ticks": ""
             }
            },
            "type": "scatterpolargl"
           }
          ],
          "scatterternary": [
           {
            "marker": {
             "colorbar": {
              "outlinewidth": 0,
              "ticks": ""
             }
            },
            "type": "scatterternary"
           }
          ],
          "surface": [
           {
            "colorbar": {
             "outlinewidth": 0,
             "ticks": ""
            },
            "colorscale": [
             [
              0,
              "#0d0887"
             ],
             [
              0.1111111111111111,
              "#46039f"
             ],
             [
              0.2222222222222222,
              "#7201a8"
             ],
             [
              0.3333333333333333,
              "#9c179e"
             ],
             [
              0.4444444444444444,
              "#bd3786"
             ],
             [
              0.5555555555555556,
              "#d8576b"
             ],
             [
              0.6666666666666666,
              "#ed7953"
             ],
             [
              0.7777777777777778,
              "#fb9f3a"
             ],
             [
              0.8888888888888888,
              "#fdca26"
             ],
             [
              1,
              "#f0f921"
             ]
            ],
            "type": "surface"
           }
          ],
          "table": [
           {
            "cells": {
             "fill": {
              "color": "#EBF0F8"
             },
             "line": {
              "color": "white"
             }
            },
            "header": {
             "fill": {
              "color": "#C8D4E3"
             },
             "line": {
              "color": "white"
             }
            },
            "type": "table"
           }
          ]
         },
         "layout": {
          "font": {
           "family": "Franklin Gothic",
           "size": 12
          }
         }
        },
        "title": {
         "text": "Hiyerarşik Küme Profilleri,<br>Müşteri Harcamaları ve Gelir"
        },
        "width": 700,
        "xaxis": {
         "anchor": "y",
         "domain": [
          0,
          1
         ],
         "showline": true,
         "title": {
          "text": "Spending Score"
         },
         "zeroline": false
        },
        "yaxis": {
         "anchor": "x",
         "domain": [
          0,
          1
         ],
         "showline": true,
         "ticksuffix": "k",
         "title": {
          "text": "Income, $"
         }
        }
       }
      },
      "text/html": [
       "<div>                            <div id=\"9fb1499b-535e-45e6-88a6-3993d1dcd481\" class=\"plotly-graph-div\" style=\"height:525px; width:700px;\"></div>            <script type=\"text/javascript\">                require([\"plotly\"], function(Plotly) {                    window.PLOTLYENV=window.PLOTLYENV || {};                                    if (document.getElementById(\"9fb1499b-535e-45e6-88a6-3993d1dcd481\")) {                    Plotly.newPlot(                        \"9fb1499b-535e-45e6-88a6-3993d1dcd481\",                        [{\"hovertemplate\":\"Hierarchical Cluster=0<br>Spending Score=%{x}<br>Annual Income=%{y}<extra></extra>\",\"legendgroup\":\"0\",\"marker\":{\"color\":\"rgb(93, 105, 177)\",\"symbol\":\"circle\",\"line\":{\"color\":\"#F7F7F7\",\"width\":1},\"opacity\":0.75,\"size\":11},\"mode\":\"markers\",\"name\":\"0\",\"orientation\":\"v\",\"showlegend\":true,\"x\":[39,49,41,55,46,60,55,58,46,57,44,41,55,51,40,42,48,53,54,47,56,49,42,55,47,59,48,50,59,52,51,42,47,40,34,29,58,40,56,57,43,59,43,50,48,46,52,42,52,48,43,46,50,42,56,55,59,48,41,42,50,54,59,49,55,31,61,32,82,14,73,5,73,35,98,29,66,35,87,79,77,15,99,14,72,94,6,76,40,77,52,6,81,13,4,3,4,56,73,46,51,46,50,41,60,54,60,52,42,42,47,45,65,55,17,81,26,75,73,35,92,36,61,28,92,14],\"xaxis\":\"x\",\"y\":[15,60,59,59,58,58,57,57,54,54,54,54,54,54,60,54,54,54,54,54,50,50,49,49,48,48,48,48,48,54,48,60,60,76,72,70,69,67,67,67,67,65,65,65,65,64,60,64,63,63,63,63,63,62,62,62,62,62,62,61,60,63,47,61,46,29,28,28,28,28,25,25,24,24,23,23,21,21,29,20,20,20,19,19,19,18,18,17,17,16,47,16,15,20,30,19,33,46,30,46,46,44,44,43,43,43,42,42,40,40,40,43,39,40,34,33,37,37,34,38,38,39,39,39,33,33],\"yaxis\":\"y\",\"type\":\"scatter\"},{\"hovertemplate\":\"Hierarchical Cluster=1<br>Spending Score=%{x}<br>Annual Income=%{y}<extra></extra>\",\"legendgroup\":\"1\",\"marker\":{\"color\":\"rgb(82, 188, 163)\",\"symbol\":\"circle\",\"line\":{\"color\":\"#F7F7F7\",\"width\":1},\"opacity\":0.75,\"size\":11},\"mode\":\"markers\",\"name\":\"1\",\"orientation\":\"v\",\"showlegend\":true,\"x\":[22,17,39,20,16,15,1,5,13,32,35,14,26,20,15,24,27,1,36,5,12,18,13,28,35,11,16,8,7,9,5,17,23,10,10],\"xaxis\":\"x\",\"y\":[78,78,99,78,78,98,78,81,87,97,79,93,85,86,88,101,87,78,77,73,77,137,88,126,71,71,120,113,73,71,75,103,103,74,87],\"yaxis\":\"y\",\"type\":\"scatter\"},{\"hovertemplate\":\"Hierarchical Cluster=2<br>Spending Score=%{x}<br>Annual Income=%{y}<extra></extra>\",\"legendgroup\":\"2\",\"marker\":{\"color\":\"rgb(153, 201, 69)\",\"symbol\":\"circle\",\"line\":{\"color\":\"#F7F7F7\",\"width\":1},\"opacity\":0.75,\"size\":11},\"mode\":\"markers\",\"name\":\"2\",\"orientation\":\"v\",\"showlegend\":true,\"x\":[90,91,79,69,69,97,74,85,86,86,68,88,75,75,91,77,95,75,71,88,73,72,93,87,97,74,90,88,76,89,78,73,83,93,75,95,63,92,83],\"xaxis\":\"x\",\"y\":[93,113,120,103,88,99,126,103,88,97,101,98,71,87,69,70,71,71,72,73,73,74,75,76,77,77,78,78,78,78,78,78,79,81,85,86,87,87,137],\"yaxis\":\"y\",\"type\":\"scatter\"}],                        {\"template\":{\"data\":{\"histogram2dcontour\":[{\"type\":\"histogram2dcontour\",\"colorbar\":{\"outlinewidth\":0,\"ticks\":\"\"},\"colorscale\":[[0.0,\"#0d0887\"],[0.1111111111111111,\"#46039f\"],[0.2222222222222222,\"#7201a8\"],[0.3333333333333333,\"#9c179e\"],[0.4444444444444444,\"#bd3786\"],[0.5555555555555556,\"#d8576b\"],[0.6666666666666666,\"#ed7953\"],[0.7777777777777778,\"#fb9f3a\"],[0.8888888888888888,\"#fdca26\"],[1.0,\"#f0f921\"]]}],\"choropleth\":[{\"type\":\"choropleth\",\"colorbar\":{\"outlinewidth\":0,\"ticks\":\"\"}}],\"histogram2d\":[{\"type\":\"histogram2d\",\"colorbar\":{\"outlinewidth\":0,\"ticks\":\"\"},\"colorscale\":[[0.0,\"#0d0887\"],[0.1111111111111111,\"#46039f\"],[0.2222222222222222,\"#7201a8\"],[0.3333333333333333,\"#9c179e\"],[0.4444444444444444,\"#bd3786\"],[0.5555555555555556,\"#d8576b\"],[0.6666666666666666,\"#ed7953\"],[0.7777777777777778,\"#fb9f3a\"],[0.8888888888888888,\"#fdca26\"],[1.0,\"#f0f921\"]]}],\"heatmap\":[{\"type\":\"heatmap\",\"colorbar\":{\"outlinewidth\":0,\"ticks\":\"\"},\"colorscale\":[[0.0,\"#0d0887\"],[0.1111111111111111,\"#46039f\"],[0.2222222222222222,\"#7201a8\"],[0.3333333333333333,\"#9c179e\"],[0.4444444444444444,\"#bd3786\"],[0.5555555555555556,\"#d8576b\"],[0.6666666666666666,\"#ed7953\"],[0.7777777777777778,\"#fb9f3a\"],[0.8888888888888888,\"#fdca26\"],[1.0,\"#f0f921\"]]}],\"heatmapgl\":[{\"type\":\"heatmapgl\",\"colorbar\":{\"outlinewidth\":0,\"ticks\":\"\"},\"colorscale\":[[0.0,\"#0d0887\"],[0.1111111111111111,\"#46039f\"],[0.2222222222222222,\"#7201a8\"],[0.3333333333333333,\"#9c179e\"],[0.4444444444444444,\"#bd3786\"],[0.5555555555555556,\"#d8576b\"],[0.6666666666666666,\"#ed7953\"],[0.7777777777777778,\"#fb9f3a\"],[0.8888888888888888,\"#fdca26\"],[1.0,\"#f0f921\"]]}],\"contourcarpet\":[{\"type\":\"contourcarpet\",\"colorbar\":{\"outlinewidth\":0,\"ticks\":\"\"}}],\"contour\":[{\"type\":\"contour\",\"colorbar\":{\"outlinewidth\":0,\"ticks\":\"\"},\"colorscale\":[[0.0,\"#0d0887\"],[0.1111111111111111,\"#46039f\"],[0.2222222222222222,\"#7201a8\"],[0.3333333333333333,\"#9c179e\"],[0.4444444444444444,\"#bd3786\"],[0.5555555555555556,\"#d8576b\"],[0.6666666666666666,\"#ed7953\"],[0.7777777777777778,\"#fb9f3a\"],[0.8888888888888888,\"#fdca26\"],[1.0,\"#f0f921\"]]}],\"surface\":[{\"type\":\"surface\",\"colorbar\":{\"outlinewidth\":0,\"ticks\":\"\"},\"colorscale\":[[0.0,\"#0d0887\"],[0.1111111111111111,\"#46039f\"],[0.2222222222222222,\"#7201a8\"],[0.3333333333333333,\"#9c179e\"],[0.4444444444444444,\"#bd3786\"],[0.5555555555555556,\"#d8576b\"],[0.6666666666666666,\"#ed7953\"],[0.7777777777777778,\"#fb9f3a\"],[0.8888888888888888,\"#fdca26\"],[1.0,\"#f0f921\"]]}],\"mesh3d\":[{\"type\":\"mesh3d\",\"colorbar\":{\"outlinewidth\":0,\"ticks\":\"\"}}],\"scatter\":[{\"fillpattern\":{\"fillmode\":\"overlay\",\"size\":10,\"solidity\":0.2},\"type\":\"scatter\"}],\"parcoords\":[{\"type\":\"parcoords\",\"line\":{\"colorbar\":{\"outlinewidth\":0,\"ticks\":\"\"}}}],\"scatterpolargl\":[{\"type\":\"scatterpolargl\",\"marker\":{\"colorbar\":{\"outlinewidth\":0,\"ticks\":\"\"}}}],\"bar\":[{\"error_x\":{\"color\":\"#2a3f5f\"},\"error_y\":{\"color\":\"#2a3f5f\"},\"marker\":{\"line\":{\"color\":\"#E5ECF6\",\"width\":0.5},\"pattern\":{\"fillmode\":\"overlay\",\"size\":10,\"solidity\":0.2}},\"type\":\"bar\"}],\"scattergeo\":[{\"type\":\"scattergeo\",\"marker\":{\"colorbar\":{\"outlinewidth\":0,\"ticks\":\"\"}}}],\"scatterpolar\":[{\"type\":\"scatterpolar\",\"marker\":{\"colorbar\":{\"outlinewidth\":0,\"ticks\":\"\"}}}],\"histogram\":[{\"marker\":{\"pattern\":{\"fillmode\":\"overlay\",\"size\":10,\"solidity\":0.2}},\"type\":\"histogram\"}],\"scattergl\":[{\"type\":\"scattergl\",\"marker\":{\"colorbar\":{\"outlinewidth\":0,\"ticks\":\"\"}}}],\"scatter3d\":[{\"type\":\"scatter3d\",\"line\":{\"colorbar\":{\"outlinewidth\":0,\"ticks\":\"\"}},\"marker\":{\"colorbar\":{\"outlinewidth\":0,\"ticks\":\"\"}}}],\"scattermapbox\":[{\"type\":\"scattermapbox\",\"marker\":{\"colorbar\":{\"outlinewidth\":0,\"ticks\":\"\"}}}],\"scatterternary\":[{\"type\":\"scatterternary\",\"marker\":{\"colorbar\":{\"outlinewidth\":0,\"ticks\":\"\"}}}],\"scattercarpet\":[{\"type\":\"scattercarpet\",\"marker\":{\"colorbar\":{\"outlinewidth\":0,\"ticks\":\"\"}}}],\"carpet\":[{\"aaxis\":{\"endlinecolor\":\"#2a3f5f\",\"gridcolor\":\"white\",\"linecolor\":\"white\",\"minorgridcolor\":\"white\",\"startlinecolor\":\"#2a3f5f\"},\"baxis\":{\"endlinecolor\":\"#2a3f5f\",\"gridcolor\":\"white\",\"linecolor\":\"white\",\"minorgridcolor\":\"white\",\"startlinecolor\":\"#2a3f5f\"},\"type\":\"carpet\"}],\"table\":[{\"cells\":{\"fill\":{\"color\":\"#EBF0F8\"},\"line\":{\"color\":\"white\"}},\"header\":{\"fill\":{\"color\":\"#C8D4E3\"},\"line\":{\"color\":\"white\"}},\"type\":\"table\"}],\"barpolar\":[{\"marker\":{\"line\":{\"color\":\"#E5ECF6\",\"width\":0.5},\"pattern\":{\"fillmode\":\"overlay\",\"size\":10,\"solidity\":0.2}},\"type\":\"barpolar\"}],\"pie\":[{\"automargin\":true,\"type\":\"pie\"}]},\"layout\":{\"font\":{\"family\":\"Franklin Gothic\",\"size\":12}}},\"xaxis\":{\"anchor\":\"y\",\"domain\":[0.0,1.0],\"title\":{\"text\":\"Spending Score\"},\"showline\":true,\"zeroline\":false},\"yaxis\":{\"anchor\":\"x\",\"domain\":[0.0,1.0],\"title\":{\"text\":\"Income, $\"},\"ticksuffix\":\"k\",\"showline\":true},\"legend\":{\"title\":{\"text\":\"Cluster\"},\"tracegroupgap\":0},\"margin\":{\"t\":60},\"title\":{\"text\":\"Hiyerar\\u015fik K\\u00fcme Profilleri,<br>M\\u00fc\\u015fteri Harcamalar\\u0131 ve Gelir\"},\"width\":700},                        {\"responsive\": true}                    ).then(function(){\n",
       "                            \n",
       "var gd = document.getElementById('9fb1499b-535e-45e6-88a6-3993d1dcd481');\n",
       "var x = new MutationObserver(function (mutations, observer) {{\n",
       "        var display = window.getComputedStyle(gd).display;\n",
       "        if (!display || display === 'none') {{\n",
       "            console.log([gd, 'removed!']);\n",
       "            Plotly.purge(gd);\n",
       "            observer.disconnect();\n",
       "        }}\n",
       "}});\n",
       "\n",
       "// Listen for the removal of the full notebook cells\n",
       "var notebookContainer = gd.closest('#notebook-container');\n",
       "if (notebookContainer) {{\n",
       "    x.observe(notebookContainer, {childList: true});\n",
       "}}\n",
       "\n",
       "// Listen for the clearing of the current output cell\n",
       "var outputEl = gd.closest('.output');\n",
       "if (outputEl) {{\n",
       "    x.observe(outputEl, {childList: true});\n",
       "}}\n",
       "\n",
       "                        })                };                });            </script>        </div>"
      ]
     },
     "metadata": {},
     "output_type": "display_data"
    }
   ],
   "source": [
    "# Hierarchical clustering\n",
    "hc = AgglomerativeClustering(3, affinity='euclidean', linkage='complete', compute_full_tree=False)\n",
    "hc_pred = hc.fit_predict(clust_df)\n",
    "plot_hc=clust_df.copy()\n",
    "plot_hc[\"Hierarchical Cluster\"]=hc_pred\n",
    "plot_hc=plot_hc.sort_values(by='Hierarchical Cluster')\n",
    "plot_hc['Hierarchical Cluster'] = plot_hc['Hierarchical Cluster'].astype(str)\n",
    "\n",
    "# Plot of clusters                                               \n",
    "fig = px.scatter(plot_hc, x=\"Spending Score\", y=\"Annual Income\", color=\"Hierarchical Cluster\",\n",
    "                 color_discrete_sequence=px.colors.qualitative.Vivid[1:])\n",
    "fig.update_traces(marker=dict(size=11, opacity=0.75, line=dict(width=1, color='#F7F7F7')))\n",
    "fig.update_layout(template=temp, title=\"Hiyerarşik Küme Profilleri,<br>Müşteri Harcamaları ve Gelir\", \n",
    "                  width=700, legend_title = 'Cluster',\n",
    "                  xaxis=dict(title='Spending Score',showline=True, zeroline=False), \n",
    "                  yaxis=dict(title='Income, $',ticksuffix='k',showline=True))\n",
    "fig.show()"
   ]
  },
  {
   "cell_type": "markdown",
   "id": "c6a79915",
   "metadata": {},
   "source": [
    "# DBSCAN"
   ]
  },
  {
   "cell_type": "code",
   "execution_count": 9,
   "id": "9433ab2d",
   "metadata": {},
   "outputs": [
    {
     "data": {
      "application/vnd.plotly.v1+json": {
       "config": {
        "plotlyServerURL": "https://plot.ly"
       },
       "data": [
        {
         "hovertemplate": "DB Cluster=Outliers<br>Spending Score=%{x}<br>Annual Income=%{y}<extra></extra>",
         "legendgroup": "Outliers",
         "marker": {
          "color": "#E45756",
          "line": {
           "color": "#F7F7F7",
           "width": 1
          },
          "opacity": 0.85,
          "size": 11,
          "symbol": "circle"
         },
         "mode": "markers",
         "name": "Outliers",
         "orientation": "v",
         "showlegend": true,
         "type": "scatter",
         "x": [
          39,
          14,
          17,
          26,
          18,
          5,
          10,
          5,
          12,
          1,
          1,
          35,
          5,
          14,
          32,
          39,
          24,
          68,
          17,
          85,
          23,
          69,
          8,
          91,
          16,
          79,
          28,
          74,
          4,
          4,
          83,
          13,
          14,
          3,
          94,
          6,
          35,
          40,
          99,
          29,
          6,
          14,
          35,
          32,
          5,
          31,
          98,
          15
         ],
         "xaxis": "x",
         "y": [
          15,
          33,
          34,
          37,
          137,
          73,
          74,
          75,
          77,
          78,
          78,
          79,
          81,
          93,
          97,
          99,
          101,
          101,
          103,
          103,
          103,
          103,
          113,
          113,
          120,
          120,
          126,
          126,
          33,
          30,
          137,
          20,
          19,
          19,
          18,
          18,
          21,
          17,
          19,
          23,
          16,
          28,
          24,
          28,
          25,
          29,
          23,
          20
         ],
         "yaxis": "y"
        },
        {
         "hovertemplate": "DB Cluster=0<br>Spending Score=%{x}<br>Annual Income=%{y}<extra></extra>",
         "legendgroup": "0",
         "marker": {
          "color": "#72B7B2",
          "line": {
           "color": "#F7F7F7",
           "width": 1
          },
          "opacity": 0.85,
          "size": 11,
          "symbol": "circle"
         },
         "mode": "markers",
         "name": "0",
         "orientation": "v",
         "showlegend": true,
         "type": "scatter",
         "x": [
          66,
          73,
          79,
          73,
          87,
          77,
          73,
          92,
          76,
          65,
          77,
          92,
          81,
          75,
          82,
          73,
          81,
          61,
          72
         ],
         "xaxis": "x",
         "y": [
          21,
          24,
          20,
          25,
          29,
          20,
          30,
          33,
          17,
          39,
          16,
          38,
          15,
          37,
          28,
          34,
          33,
          28,
          19
         ],
         "yaxis": "y"
        },
        {
         "hovertemplate": "DB Cluster=1<br>Spending Score=%{x}<br>Annual Income=%{y}<extra></extra>",
         "legendgroup": "1",
         "marker": {
          "color": "#54A24B",
          "line": {
           "color": "#F7F7F7",
           "width": 1
          },
          "opacity": 0.85,
          "size": 11,
          "symbol": "circle"
         },
         "mode": "markers",
         "name": "1",
         "orientation": "v",
         "showlegend": true,
         "type": "scatter",
         "x": [
          48,
          54,
          43,
          52,
          46,
          48,
          42,
          56,
          55,
          59,
          41,
          50,
          42,
          40,
          48,
          43,
          59,
          43,
          57,
          56,
          40,
          58,
          29,
          35,
          34,
          42,
          36,
          46,
          50,
          50,
          52,
          50,
          59,
          51,
          59,
          52,
          55,
          47,
          56,
          46,
          51,
          46,
          50,
          48,
          41,
          60,
          54,
          60,
          52,
          42,
          42,
          47,
          55,
          28,
          61,
          36,
          35,
          45,
          59,
          49,
          57,
          48,
          51,
          55,
          52,
          54,
          41,
          47,
          42,
          56,
          44,
          49,
          42,
          53,
          55,
          58,
          55,
          60,
          46,
          55,
          47,
          41,
          49,
          40,
          42,
          46
         ],
         "xaxis": "x",
         "y": [
          63,
          63,
          63,
          63,
          63,
          62,
          62,
          62,
          62,
          62,
          62,
          63,
          64,
          76,
          65,
          65,
          65,
          67,
          67,
          67,
          67,
          69,
          70,
          71,
          72,
          61,
          77,
          64,
          60,
          65,
          60,
          48,
          48,
          48,
          47,
          47,
          46,
          60,
          46,
          46,
          46,
          44,
          44,
          48,
          43,
          43,
          43,
          42,
          42,
          40,
          40,
          40,
          40,
          39,
          39,
          39,
          38,
          43,
          48,
          61,
          54,
          54,
          54,
          54,
          54,
          54,
          54,
          54,
          54,
          50,
          54,
          50,
          49,
          54,
          49,
          57,
          57,
          58,
          58,
          59,
          48,
          59,
          60,
          60,
          60,
          54
         ],
         "yaxis": "y"
        },
        {
         "hovertemplate": "DB Cluster=2<br>Spending Score=%{x}<br>Annual Income=%{y}<extra></extra>",
         "legendgroup": "2",
         "marker": {
          "color": "#EECA3B",
          "line": {
           "color": "#F7F7F7",
           "width": 1
          },
          "opacity": 0.85,
          "size": 11,
          "symbol": "circle"
         },
         "mode": "markers",
         "name": "2",
         "orientation": "v",
         "showlegend": true,
         "type": "scatter",
         "x": [
          92,
          63,
          75,
          95,
          97,
          69,
          90,
          86,
          88,
          95,
          86,
          75,
          93,
          91,
          87,
          97,
          74,
          90,
          73,
          88,
          88,
          76,
          93,
          72,
          89,
          75,
          78,
          73,
          75,
          83,
          77,
          71
         ],
         "xaxis": "x",
         "y": [
          87,
          87,
          87,
          71,
          99,
          88,
          93,
          97,
          98,
          86,
          88,
          85,
          81,
          69,
          76,
          77,
          77,
          78,
          73,
          78,
          73,
          78,
          75,
          74,
          78,
          71,
          78,
          78,
          71,
          79,
          70,
          72
         ],
         "yaxis": "y"
        },
        {
         "hovertemplate": "DB Cluster=3<br>Spending Score=%{x}<br>Annual Income=%{y}<extra></extra>",
         "legendgroup": "3",
         "marker": {
          "color": "#B279A2",
          "line": {
           "color": "#F7F7F7",
           "width": 1
          },
          "opacity": 0.85,
          "size": 11,
          "symbol": "circle"
         },
         "mode": "markers",
         "name": "3",
         "orientation": "v",
         "showlegend": true,
         "type": "scatter",
         "x": [
          9,
          7,
          11,
          20,
          15,
          17,
          20,
          16,
          15,
          13,
          10,
          13,
          27,
          26,
          22
         ],
         "xaxis": "x",
         "y": [
          71,
          73,
          71,
          86,
          98,
          78,
          78,
          78,
          88,
          88,
          87,
          87,
          87,
          85,
          78
         ],
         "yaxis": "y"
        }
       ],
       "layout": {
        "legend": {
         "title": {
          "text": "Cluster"
         },
         "tracegroupgap": 0
        },
        "margin": {
         "t": 60
        },
        "template": {
         "data": {
          "bar": [
           {
            "error_x": {
             "color": "#2a3f5f"
            },
            "error_y": {
             "color": "#2a3f5f"
            },
            "marker": {
             "line": {
              "color": "#E5ECF6",
              "width": 0.5
             },
             "pattern": {
              "fillmode": "overlay",
              "size": 10,
              "solidity": 0.2
             }
            },
            "type": "bar"
           }
          ],
          "barpolar": [
           {
            "marker": {
             "line": {
              "color": "#E5ECF6",
              "width": 0.5
             },
             "pattern": {
              "fillmode": "overlay",
              "size": 10,
              "solidity": 0.2
             }
            },
            "type": "barpolar"
           }
          ],
          "carpet": [
           {
            "aaxis": {
             "endlinecolor": "#2a3f5f",
             "gridcolor": "white",
             "linecolor": "white",
             "minorgridcolor": "white",
             "startlinecolor": "#2a3f5f"
            },
            "baxis": {
             "endlinecolor": "#2a3f5f",
             "gridcolor": "white",
             "linecolor": "white",
             "minorgridcolor": "white",
             "startlinecolor": "#2a3f5f"
            },
            "type": "carpet"
           }
          ],
          "choropleth": [
           {
            "colorbar": {
             "outlinewidth": 0,
             "ticks": ""
            },
            "type": "choropleth"
           }
          ],
          "contour": [
           {
            "colorbar": {
             "outlinewidth": 0,
             "ticks": ""
            },
            "colorscale": [
             [
              0,
              "#0d0887"
             ],
             [
              0.1111111111111111,
              "#46039f"
             ],
             [
              0.2222222222222222,
              "#7201a8"
             ],
             [
              0.3333333333333333,
              "#9c179e"
             ],
             [
              0.4444444444444444,
              "#bd3786"
             ],
             [
              0.5555555555555556,
              "#d8576b"
             ],
             [
              0.6666666666666666,
              "#ed7953"
             ],
             [
              0.7777777777777778,
              "#fb9f3a"
             ],
             [
              0.8888888888888888,
              "#fdca26"
             ],
             [
              1,
              "#f0f921"
             ]
            ],
            "type": "contour"
           }
          ],
          "contourcarpet": [
           {
            "colorbar": {
             "outlinewidth": 0,
             "ticks": ""
            },
            "type": "contourcarpet"
           }
          ],
          "heatmap": [
           {
            "colorbar": {
             "outlinewidth": 0,
             "ticks": ""
            },
            "colorscale": [
             [
              0,
              "#0d0887"
             ],
             [
              0.1111111111111111,
              "#46039f"
             ],
             [
              0.2222222222222222,
              "#7201a8"
             ],
             [
              0.3333333333333333,
              "#9c179e"
             ],
             [
              0.4444444444444444,
              "#bd3786"
             ],
             [
              0.5555555555555556,
              "#d8576b"
             ],
             [
              0.6666666666666666,
              "#ed7953"
             ],
             [
              0.7777777777777778,
              "#fb9f3a"
             ],
             [
              0.8888888888888888,
              "#fdca26"
             ],
             [
              1,
              "#f0f921"
             ]
            ],
            "type": "heatmap"
           }
          ],
          "heatmapgl": [
           {
            "colorbar": {
             "outlinewidth": 0,
             "ticks": ""
            },
            "colorscale": [
             [
              0,
              "#0d0887"
             ],
             [
              0.1111111111111111,
              "#46039f"
             ],
             [
              0.2222222222222222,
              "#7201a8"
             ],
             [
              0.3333333333333333,
              "#9c179e"
             ],
             [
              0.4444444444444444,
              "#bd3786"
             ],
             [
              0.5555555555555556,
              "#d8576b"
             ],
             [
              0.6666666666666666,
              "#ed7953"
             ],
             [
              0.7777777777777778,
              "#fb9f3a"
             ],
             [
              0.8888888888888888,
              "#fdca26"
             ],
             [
              1,
              "#f0f921"
             ]
            ],
            "type": "heatmapgl"
           }
          ],
          "histogram": [
           {
            "marker": {
             "pattern": {
              "fillmode": "overlay",
              "size": 10,
              "solidity": 0.2
             }
            },
            "type": "histogram"
           }
          ],
          "histogram2d": [
           {
            "colorbar": {
             "outlinewidth": 0,
             "ticks": ""
            },
            "colorscale": [
             [
              0,
              "#0d0887"
             ],
             [
              0.1111111111111111,
              "#46039f"
             ],
             [
              0.2222222222222222,
              "#7201a8"
             ],
             [
              0.3333333333333333,
              "#9c179e"
             ],
             [
              0.4444444444444444,
              "#bd3786"
             ],
             [
              0.5555555555555556,
              "#d8576b"
             ],
             [
              0.6666666666666666,
              "#ed7953"
             ],
             [
              0.7777777777777778,
              "#fb9f3a"
             ],
             [
              0.8888888888888888,
              "#fdca26"
             ],
             [
              1,
              "#f0f921"
             ]
            ],
            "type": "histogram2d"
           }
          ],
          "histogram2dcontour": [
           {
            "colorbar": {
             "outlinewidth": 0,
             "ticks": ""
            },
            "colorscale": [
             [
              0,
              "#0d0887"
             ],
             [
              0.1111111111111111,
              "#46039f"
             ],
             [
              0.2222222222222222,
              "#7201a8"
             ],
             [
              0.3333333333333333,
              "#9c179e"
             ],
             [
              0.4444444444444444,
              "#bd3786"
             ],
             [
              0.5555555555555556,
              "#d8576b"
             ],
             [
              0.6666666666666666,
              "#ed7953"
             ],
             [
              0.7777777777777778,
              "#fb9f3a"
             ],
             [
              0.8888888888888888,
              "#fdca26"
             ],
             [
              1,
              "#f0f921"
             ]
            ],
            "type": "histogram2dcontour"
           }
          ],
          "mesh3d": [
           {
            "colorbar": {
             "outlinewidth": 0,
             "ticks": ""
            },
            "type": "mesh3d"
           }
          ],
          "parcoords": [
           {
            "line": {
             "colorbar": {
              "outlinewidth": 0,
              "ticks": ""
             }
            },
            "type": "parcoords"
           }
          ],
          "pie": [
           {
            "automargin": true,
            "type": "pie"
           }
          ],
          "scatter": [
           {
            "fillpattern": {
             "fillmode": "overlay",
             "size": 10,
             "solidity": 0.2
            },
            "type": "scatter"
           }
          ],
          "scatter3d": [
           {
            "line": {
             "colorbar": {
              "outlinewidth": 0,
              "ticks": ""
             }
            },
            "marker": {
             "colorbar": {
              "outlinewidth": 0,
              "ticks": ""
             }
            },
            "type": "scatter3d"
           }
          ],
          "scattercarpet": [
           {
            "marker": {
             "colorbar": {
              "outlinewidth": 0,
              "ticks": ""
             }
            },
            "type": "scattercarpet"
           }
          ],
          "scattergeo": [
           {
            "marker": {
             "colorbar": {
              "outlinewidth": 0,
              "ticks": ""
             }
            },
            "type": "scattergeo"
           }
          ],
          "scattergl": [
           {
            "marker": {
             "colorbar": {
              "outlinewidth": 0,
              "ticks": ""
             }
            },
            "type": "scattergl"
           }
          ],
          "scattermapbox": [
           {
            "marker": {
             "colorbar": {
              "outlinewidth": 0,
              "ticks": ""
             }
            },
            "type": "scattermapbox"
           }
          ],
          "scatterpolar": [
           {
            "marker": {
             "colorbar": {
              "outlinewidth": 0,
              "ticks": ""
             }
            },
            "type": "scatterpolar"
           }
          ],
          "scatterpolargl": [
           {
            "marker": {
             "colorbar": {
              "outlinewidth": 0,
              "ticks": ""
             }
            },
            "type": "scatterpolargl"
           }
          ],
          "scatterternary": [
           {
            "marker": {
             "colorbar": {
              "outlinewidth": 0,
              "ticks": ""
             }
            },
            "type": "scatterternary"
           }
          ],
          "surface": [
           {
            "colorbar": {
             "outlinewidth": 0,
             "ticks": ""
            },
            "colorscale": [
             [
              0,
              "#0d0887"
             ],
             [
              0.1111111111111111,
              "#46039f"
             ],
             [
              0.2222222222222222,
              "#7201a8"
             ],
             [
              0.3333333333333333,
              "#9c179e"
             ],
             [
              0.4444444444444444,
              "#bd3786"
             ],
             [
              0.5555555555555556,
              "#d8576b"
             ],
             [
              0.6666666666666666,
              "#ed7953"
             ],
             [
              0.7777777777777778,
              "#fb9f3a"
             ],
             [
              0.8888888888888888,
              "#fdca26"
             ],
             [
              1,
              "#f0f921"
             ]
            ],
            "type": "surface"
           }
          ],
          "table": [
           {
            "cells": {
             "fill": {
              "color": "#EBF0F8"
             },
             "line": {
              "color": "white"
             }
            },
            "header": {
             "fill": {
              "color": "#C8D4E3"
             },
             "line": {
              "color": "white"
             }
            },
            "type": "table"
           }
          ]
         },
         "layout": {
          "font": {
           "family": "Franklin Gothic",
           "size": 12
          }
         }
        },
        "title": {
         "text": "DBSCAN Cluster Profiles,<br>Customer Spending vs. Income"
        },
        "width": 700,
        "xaxis": {
         "anchor": "y",
         "domain": [
          0,
          1
         ],
         "showline": true,
         "title": {
          "text": "Spending Score"
         },
         "zeroline": false
        },
        "yaxis": {
         "anchor": "x",
         "domain": [
          0,
          1
         ],
         "showline": true,
         "ticksuffix": "k",
         "title": {
          "text": "Income, $"
         }
        }
       }
      },
      "text/html": [
       "<div>                            <div id=\"8579a737-53c3-44d6-9670-f7ad0ceab452\" class=\"plotly-graph-div\" style=\"height:525px; width:700px;\"></div>            <script type=\"text/javascript\">                require([\"plotly\"], function(Plotly) {                    window.PLOTLYENV=window.PLOTLYENV || {};                                    if (document.getElementById(\"8579a737-53c3-44d6-9670-f7ad0ceab452\")) {                    Plotly.newPlot(                        \"8579a737-53c3-44d6-9670-f7ad0ceab452\",                        [{\"hovertemplate\":\"DB Cluster=Outliers<br>Spending Score=%{x}<br>Annual Income=%{y}<extra></extra>\",\"legendgroup\":\"Outliers\",\"marker\":{\"color\":\"#E45756\",\"symbol\":\"circle\",\"line\":{\"color\":\"#F7F7F7\",\"width\":1},\"opacity\":0.85,\"size\":11},\"mode\":\"markers\",\"name\":\"Outliers\",\"orientation\":\"v\",\"showlegend\":true,\"x\":[39,14,17,26,18,5,10,5,12,1,1,35,5,14,32,39,24,68,17,85,23,69,8,91,16,79,28,74,4,4,83,13,14,3,94,6,35,40,99,29,6,14,35,32,5,31,98,15],\"xaxis\":\"x\",\"y\":[15,33,34,37,137,73,74,75,77,78,78,79,81,93,97,99,101,101,103,103,103,103,113,113,120,120,126,126,33,30,137,20,19,19,18,18,21,17,19,23,16,28,24,28,25,29,23,20],\"yaxis\":\"y\",\"type\":\"scatter\"},{\"hovertemplate\":\"DB Cluster=0<br>Spending Score=%{x}<br>Annual Income=%{y}<extra></extra>\",\"legendgroup\":\"0\",\"marker\":{\"color\":\"#72B7B2\",\"symbol\":\"circle\",\"line\":{\"color\":\"#F7F7F7\",\"width\":1},\"opacity\":0.85,\"size\":11},\"mode\":\"markers\",\"name\":\"0\",\"orientation\":\"v\",\"showlegend\":true,\"x\":[66,73,79,73,87,77,73,92,76,65,77,92,81,75,82,73,81,61,72],\"xaxis\":\"x\",\"y\":[21,24,20,25,29,20,30,33,17,39,16,38,15,37,28,34,33,28,19],\"yaxis\":\"y\",\"type\":\"scatter\"},{\"hovertemplate\":\"DB Cluster=1<br>Spending Score=%{x}<br>Annual Income=%{y}<extra></extra>\",\"legendgroup\":\"1\",\"marker\":{\"color\":\"#54A24B\",\"symbol\":\"circle\",\"line\":{\"color\":\"#F7F7F7\",\"width\":1},\"opacity\":0.85,\"size\":11},\"mode\":\"markers\",\"name\":\"1\",\"orientation\":\"v\",\"showlegend\":true,\"x\":[48,54,43,52,46,48,42,56,55,59,41,50,42,40,48,43,59,43,57,56,40,58,29,35,34,42,36,46,50,50,52,50,59,51,59,52,55,47,56,46,51,46,50,48,41,60,54,60,52,42,42,47,55,28,61,36,35,45,59,49,57,48,51,55,52,54,41,47,42,56,44,49,42,53,55,58,55,60,46,55,47,41,49,40,42,46],\"xaxis\":\"x\",\"y\":[63,63,63,63,63,62,62,62,62,62,62,63,64,76,65,65,65,67,67,67,67,69,70,71,72,61,77,64,60,65,60,48,48,48,47,47,46,60,46,46,46,44,44,48,43,43,43,42,42,40,40,40,40,39,39,39,38,43,48,61,54,54,54,54,54,54,54,54,54,50,54,50,49,54,49,57,57,58,58,59,48,59,60,60,60,54],\"yaxis\":\"y\",\"type\":\"scatter\"},{\"hovertemplate\":\"DB Cluster=2<br>Spending Score=%{x}<br>Annual Income=%{y}<extra></extra>\",\"legendgroup\":\"2\",\"marker\":{\"color\":\"#EECA3B\",\"symbol\":\"circle\",\"line\":{\"color\":\"#F7F7F7\",\"width\":1},\"opacity\":0.85,\"size\":11},\"mode\":\"markers\",\"name\":\"2\",\"orientation\":\"v\",\"showlegend\":true,\"x\":[92,63,75,95,97,69,90,86,88,95,86,75,93,91,87,97,74,90,73,88,88,76,93,72,89,75,78,73,75,83,77,71],\"xaxis\":\"x\",\"y\":[87,87,87,71,99,88,93,97,98,86,88,85,81,69,76,77,77,78,73,78,73,78,75,74,78,71,78,78,71,79,70,72],\"yaxis\":\"y\",\"type\":\"scatter\"},{\"hovertemplate\":\"DB Cluster=3<br>Spending Score=%{x}<br>Annual Income=%{y}<extra></extra>\",\"legendgroup\":\"3\",\"marker\":{\"color\":\"#B279A2\",\"symbol\":\"circle\",\"line\":{\"color\":\"#F7F7F7\",\"width\":1},\"opacity\":0.85,\"size\":11},\"mode\":\"markers\",\"name\":\"3\",\"orientation\":\"v\",\"showlegend\":true,\"x\":[9,7,11,20,15,17,20,16,15,13,10,13,27,26,22],\"xaxis\":\"x\",\"y\":[71,73,71,86,98,78,78,78,88,88,87,87,87,85,78],\"yaxis\":\"y\",\"type\":\"scatter\"}],                        {\"template\":{\"data\":{\"histogram2dcontour\":[{\"type\":\"histogram2dcontour\",\"colorbar\":{\"outlinewidth\":0,\"ticks\":\"\"},\"colorscale\":[[0.0,\"#0d0887\"],[0.1111111111111111,\"#46039f\"],[0.2222222222222222,\"#7201a8\"],[0.3333333333333333,\"#9c179e\"],[0.4444444444444444,\"#bd3786\"],[0.5555555555555556,\"#d8576b\"],[0.6666666666666666,\"#ed7953\"],[0.7777777777777778,\"#fb9f3a\"],[0.8888888888888888,\"#fdca26\"],[1.0,\"#f0f921\"]]}],\"choropleth\":[{\"type\":\"choropleth\",\"colorbar\":{\"outlinewidth\":0,\"ticks\":\"\"}}],\"histogram2d\":[{\"type\":\"histogram2d\",\"colorbar\":{\"outlinewidth\":0,\"ticks\":\"\"},\"colorscale\":[[0.0,\"#0d0887\"],[0.1111111111111111,\"#46039f\"],[0.2222222222222222,\"#7201a8\"],[0.3333333333333333,\"#9c179e\"],[0.4444444444444444,\"#bd3786\"],[0.5555555555555556,\"#d8576b\"],[0.6666666666666666,\"#ed7953\"],[0.7777777777777778,\"#fb9f3a\"],[0.8888888888888888,\"#fdca26\"],[1.0,\"#f0f921\"]]}],\"heatmap\":[{\"type\":\"heatmap\",\"colorbar\":{\"outlinewidth\":0,\"ticks\":\"\"},\"colorscale\":[[0.0,\"#0d0887\"],[0.1111111111111111,\"#46039f\"],[0.2222222222222222,\"#7201a8\"],[0.3333333333333333,\"#9c179e\"],[0.4444444444444444,\"#bd3786\"],[0.5555555555555556,\"#d8576b\"],[0.6666666666666666,\"#ed7953\"],[0.7777777777777778,\"#fb9f3a\"],[0.8888888888888888,\"#fdca26\"],[1.0,\"#f0f921\"]]}],\"heatmapgl\":[{\"type\":\"heatmapgl\",\"colorbar\":{\"outlinewidth\":0,\"ticks\":\"\"},\"colorscale\":[[0.0,\"#0d0887\"],[0.1111111111111111,\"#46039f\"],[0.2222222222222222,\"#7201a8\"],[0.3333333333333333,\"#9c179e\"],[0.4444444444444444,\"#bd3786\"],[0.5555555555555556,\"#d8576b\"],[0.6666666666666666,\"#ed7953\"],[0.7777777777777778,\"#fb9f3a\"],[0.8888888888888888,\"#fdca26\"],[1.0,\"#f0f921\"]]}],\"contourcarpet\":[{\"type\":\"contourcarpet\",\"colorbar\":{\"outlinewidth\":0,\"ticks\":\"\"}}],\"contour\":[{\"type\":\"contour\",\"colorbar\":{\"outlinewidth\":0,\"ticks\":\"\"},\"colorscale\":[[0.0,\"#0d0887\"],[0.1111111111111111,\"#46039f\"],[0.2222222222222222,\"#7201a8\"],[0.3333333333333333,\"#9c179e\"],[0.4444444444444444,\"#bd3786\"],[0.5555555555555556,\"#d8576b\"],[0.6666666666666666,\"#ed7953\"],[0.7777777777777778,\"#fb9f3a\"],[0.8888888888888888,\"#fdca26\"],[1.0,\"#f0f921\"]]}],\"surface\":[{\"type\":\"surface\",\"colorbar\":{\"outlinewidth\":0,\"ticks\":\"\"},\"colorscale\":[[0.0,\"#0d0887\"],[0.1111111111111111,\"#46039f\"],[0.2222222222222222,\"#7201a8\"],[0.3333333333333333,\"#9c179e\"],[0.4444444444444444,\"#bd3786\"],[0.5555555555555556,\"#d8576b\"],[0.6666666666666666,\"#ed7953\"],[0.7777777777777778,\"#fb9f3a\"],[0.8888888888888888,\"#fdca26\"],[1.0,\"#f0f921\"]]}],\"mesh3d\":[{\"type\":\"mesh3d\",\"colorbar\":{\"outlinewidth\":0,\"ticks\":\"\"}}],\"scatter\":[{\"fillpattern\":{\"fillmode\":\"overlay\",\"size\":10,\"solidity\":0.2},\"type\":\"scatter\"}],\"parcoords\":[{\"type\":\"parcoords\",\"line\":{\"colorbar\":{\"outlinewidth\":0,\"ticks\":\"\"}}}],\"scatterpolargl\":[{\"type\":\"scatterpolargl\",\"marker\":{\"colorbar\":{\"outlinewidth\":0,\"ticks\":\"\"}}}],\"bar\":[{\"error_x\":{\"color\":\"#2a3f5f\"},\"error_y\":{\"color\":\"#2a3f5f\"},\"marker\":{\"line\":{\"color\":\"#E5ECF6\",\"width\":0.5},\"pattern\":{\"fillmode\":\"overlay\",\"size\":10,\"solidity\":0.2}},\"type\":\"bar\"}],\"scattergeo\":[{\"type\":\"scattergeo\",\"marker\":{\"colorbar\":{\"outlinewidth\":0,\"ticks\":\"\"}}}],\"scatterpolar\":[{\"type\":\"scatterpolar\",\"marker\":{\"colorbar\":{\"outlinewidth\":0,\"ticks\":\"\"}}}],\"histogram\":[{\"marker\":{\"pattern\":{\"fillmode\":\"overlay\",\"size\":10,\"solidity\":0.2}},\"type\":\"histogram\"}],\"scattergl\":[{\"type\":\"scattergl\",\"marker\":{\"colorbar\":{\"outlinewidth\":0,\"ticks\":\"\"}}}],\"scatter3d\":[{\"type\":\"scatter3d\",\"line\":{\"colorbar\":{\"outlinewidth\":0,\"ticks\":\"\"}},\"marker\":{\"colorbar\":{\"outlinewidth\":0,\"ticks\":\"\"}}}],\"scattermapbox\":[{\"type\":\"scattermapbox\",\"marker\":{\"colorbar\":{\"outlinewidth\":0,\"ticks\":\"\"}}}],\"scatterternary\":[{\"type\":\"scatterternary\",\"marker\":{\"colorbar\":{\"outlinewidth\":0,\"ticks\":\"\"}}}],\"scattercarpet\":[{\"type\":\"scattercarpet\",\"marker\":{\"colorbar\":{\"outlinewidth\":0,\"ticks\":\"\"}}}],\"carpet\":[{\"aaxis\":{\"endlinecolor\":\"#2a3f5f\",\"gridcolor\":\"white\",\"linecolor\":\"white\",\"minorgridcolor\":\"white\",\"startlinecolor\":\"#2a3f5f\"},\"baxis\":{\"endlinecolor\":\"#2a3f5f\",\"gridcolor\":\"white\",\"linecolor\":\"white\",\"minorgridcolor\":\"white\",\"startlinecolor\":\"#2a3f5f\"},\"type\":\"carpet\"}],\"table\":[{\"cells\":{\"fill\":{\"color\":\"#EBF0F8\"},\"line\":{\"color\":\"white\"}},\"header\":{\"fill\":{\"color\":\"#C8D4E3\"},\"line\":{\"color\":\"white\"}},\"type\":\"table\"}],\"barpolar\":[{\"marker\":{\"line\":{\"color\":\"#E5ECF6\",\"width\":0.5},\"pattern\":{\"fillmode\":\"overlay\",\"size\":10,\"solidity\":0.2}},\"type\":\"barpolar\"}],\"pie\":[{\"automargin\":true,\"type\":\"pie\"}]},\"layout\":{\"font\":{\"family\":\"Franklin Gothic\",\"size\":12}}},\"xaxis\":{\"anchor\":\"y\",\"domain\":[0.0,1.0],\"title\":{\"text\":\"Spending Score\"},\"showline\":true,\"zeroline\":false},\"yaxis\":{\"anchor\":\"x\",\"domain\":[0.0,1.0],\"title\":{\"text\":\"Income, $\"},\"ticksuffix\":\"k\",\"showline\":true},\"legend\":{\"title\":{\"text\":\"Cluster\"},\"tracegroupgap\":0},\"margin\":{\"t\":60},\"title\":{\"text\":\"DBSCAN Cluster Profiles,<br>Customer Spending vs. Income\"},\"width\":700},                        {\"responsive\": true}                    ).then(function(){\n",
       "                            \n",
       "var gd = document.getElementById('8579a737-53c3-44d6-9670-f7ad0ceab452');\n",
       "var x = new MutationObserver(function (mutations, observer) {{\n",
       "        var display = window.getComputedStyle(gd).display;\n",
       "        if (!display || display === 'none') {{\n",
       "            console.log([gd, 'removed!']);\n",
       "            Plotly.purge(gd);\n",
       "            observer.disconnect();\n",
       "        }}\n",
       "}});\n",
       "\n",
       "// Listen for the removal of the full notebook cells\n",
       "var notebookContainer = gd.closest('#notebook-container');\n",
       "if (notebookContainer) {{\n",
       "    x.observe(notebookContainer, {childList: true});\n",
       "}}\n",
       "\n",
       "// Listen for the clearing of the current output cell\n",
       "var outputEl = gd.closest('.output');\n",
       "if (outputEl) {{\n",
       "    x.observe(outputEl, {childList: true});\n",
       "}}\n",
       "\n",
       "                        })                };                });            </script>        </div>"
      ]
     },
     "metadata": {},
     "output_type": "display_data"
    }
   ],
   "source": [
    "db=DBSCAN(eps=15, min_samples=11, metric='euclidean')  #17,15 14,7 12 7 115\n",
    "db_preds=db.fit_predict(clust_df)\n",
    "plot_db=clust_df.copy()\n",
    "plot_db['DB Cluster'] = db_preds\n",
    "plot_db=plot_db.sort_values(by='DB Cluster')\n",
    "plot_db['DB Cluster'] = plot_db['DB Cluster'].astype(str).apply(lambda x: 'Outliers' if x == '-1' else x)\n",
    "\n",
    "\n",
    "# Plot of clusters   \n",
    "fig = px.scatter(plot_db, x=\"Spending Score\", y=\"Annual Income\", color=\"DB Cluster\",\n",
    "                 color_discrete_sequence=px.colors.qualitative.T10[2:])\n",
    "fig.update_traces(marker=dict(size=11, opacity=0.85, line=dict(width=1, color='#F7F7F7')))\n",
    "fig.update_layout(template=temp, title=\"DBSCAN Cluster Profiles,<br>Customer Spending vs. Income\", \n",
    "                  width=700, legend_title = 'Cluster',\n",
    "                  xaxis=dict(title='Spending Score',showline=True, zeroline=False), \n",
    "                  yaxis=dict(title='Income, $',ticksuffix='k',showline=True))\n",
    "fig.show()"
   ]
  },
  {
   "cell_type": "markdown",
   "id": "50c92451",
   "metadata": {},
   "source": [
    "# Cluster Karşılaştırması\n"
   ]
  },
  {
   "cell_type": "code",
   "execution_count": 10,
   "id": "62243659",
   "metadata": {},
   "outputs": [
    {
     "data": {
      "application/vnd.plotly.v1+json": {
       "config": {
        "plotlyServerURL": "https://plot.ly"
       },
       "data": [
        {
         "hovertemplate": "Customer Spending Score: %{x}<br>Income: $%{z}<br>Age: %{y}",
         "legendgroup": "1",
         "marker": {
          "color": "rgb(95, 70, 144)",
          "line": {
           "color": "#F7F7F7",
           "width": 1
          },
          "opacity": 0.7,
          "size": 7
         },
         "mode": "markers",
         "name": "Cluster 0",
         "scene": "scene",
         "type": "scatter3d",
         "x": [
          49,
          47,
          50,
          42,
          41,
          48,
          59,
          55,
          42,
          56,
          50,
          43,
          48,
          52,
          54,
          42,
          46,
          42,
          48,
          52,
          56,
          46,
          54,
          51,
          46,
          50,
          41,
          45,
          42,
          60,
          60,
          52,
          42,
          42,
          47,
          55,
          61,
          55,
          50,
          46,
          59,
          54,
          53,
          48,
          52,
          42,
          51,
          43,
          41,
          44,
          57,
          46,
          58,
          55,
          60,
          46,
          55,
          41,
          47,
          56,
          55,
          55,
          49,
          57,
          56,
          40,
          58,
          35,
          52,
          40,
          43,
          49,
          51,
          59,
          50,
          48,
          59,
          47,
          59
         ],
         "y": [
          20,
          47,
          27,
          48,
          23,
          49,
          67,
          26,
          32,
          49,
          66,
          68,
          66,
          65,
          19,
          38,
          19,
          21,
          18,
          67,
          70,
          53,
          31,
          27,
          69,
          51,
          47,
          50,
          47,
          59,
          33,
          49,
          31,
          29,
          27,
          50,
          31,
          19,
          19,
          54,
          49,
          26,
          45,
          40,
          23,
          49,
          57,
          63,
          67,
          46,
          21,
          48,
          55,
          22,
          34,
          50,
          68,
          18,
          59,
          60,
          38,
          70,
          60,
          50,
          27,
          38,
          40,
          43,
          24,
          40,
          51,
          48,
          63,
          18,
          43,
          68,
          19,
          32,
          54
         ],
         "z": [
          61,
          60,
          60,
          61,
          62,
          62,
          62,
          62,
          60,
          62,
          63,
          63,
          63,
          63,
          63,
          64,
          64,
          62,
          65,
          47,
          46,
          46,
          43,
          46,
          44,
          44,
          43,
          43,
          49,
          43,
          42,
          42,
          40,
          40,
          40,
          40,
          39,
          46,
          65,
          63,
          65,
          54,
          54,
          54,
          54,
          54,
          54,
          65,
          54,
          54,
          54,
          54,
          57,
          57,
          58,
          58,
          59,
          59,
          54,
          50,
          54,
          49,
          50,
          67,
          67,
          67,
          69,
          71,
          60,
          60,
          67,
          60,
          48,
          48,
          48,
          48,
          48,
          48,
          47
         ]
        },
        {
         "hovertemplate": "Customer Spending Score: %{x}<br>Income: $%{z}<br>Age: %{y}",
         "legendgroup": "1",
         "marker": {
          "color": "rgb(29, 105, 150)",
          "line": {
           "color": "#F7F7F7",
           "width": 1
          },
          "opacity": 0.7,
          "size": 7
         },
         "mode": "markers",
         "name": "Cluster 1",
         "scene": "scene",
         "type": "scatter3d",
         "x": [
          10,
          7,
          15,
          13,
          12,
          16,
          1,
          1,
          27,
          5,
          26,
          20,
          40,
          18,
          10,
          13,
          35,
          36,
          29,
          5,
          14,
          5,
          8,
          23,
          17,
          15,
          16,
          32,
          39,
          28,
          9,
          20,
          11,
          17,
          34,
          22,
          24
         ],
         "y": [
          19,
          44,
          58,
          52,
          25,
          47,
          37,
          34,
          36,
          19,
          50,
          42,
          28,
          32,
          36,
          40,
          56,
          48,
          23,
          20,
          59,
          57,
          33,
          34,
          41,
          46,
          47,
          37,
          41,
          45,
          47,
          44,
          59,
          43,
          25,
          34,
          54
         ],
         "z": [
          74,
          73,
          88,
          88,
          77,
          78,
          78,
          78,
          87,
          81,
          85,
          86,
          76,
          137,
          87,
          87,
          79,
          77,
          70,
          73,
          93,
          75,
          113,
          103,
          103,
          98,
          120,
          97,
          99,
          126,
          71,
          78,
          71,
          78,
          72,
          78,
          101
         ]
        },
        {
         "hovertemplate": "Customer Spending Score: %{x}<br>Income: $%{z}<br>Age: %{y}",
         "legendgroup": "1",
         "marker": {
          "color": "rgb(56, 166, 165)",
          "line": {
           "color": "#F7F7F7",
           "width": 1
          },
          "opacity": 0.7,
          "size": 7
         },
         "mode": "markers",
         "name": "Cluster 2",
         "scene": "scene",
         "type": "scatter3d",
         "x": [
          83,
          97,
          85,
          63,
          74,
          75,
          69,
          93,
          72,
          91,
          95,
          77,
          71,
          88,
          73,
          95,
          75,
          87,
          91,
          75,
          79,
          68,
          69,
          97,
          75,
          90,
          74,
          78,
          92,
          89,
          90,
          86,
          83,
          88,
          93,
          88,
          76,
          86,
          73
         ],
         "y": [
          30,
          30,
          36,
          32,
          32,
          36,
          32,
          32,
          35,
          39,
          40,
          31,
          31,
          29,
          32,
          33,
          39,
          32,
          38,
          38,
          35,
          28,
          27,
          28,
          28,
          35,
          32,
          30,
          36,
          27,
          34,
          32,
          29,
          39,
          31,
          29,
          38,
          30,
          30
         ],
         "z": [
          137,
          99,
          103,
          87,
          126,
          85,
          103,
          75,
          74,
          69,
          71,
          70,
          72,
          73,
          73,
          86,
          71,
          76,
          113,
          71,
          120,
          101,
          88,
          77,
          87,
          93,
          77,
          78,
          87,
          78,
          78,
          97,
          79,
          78,
          81,
          98,
          78,
          88,
          78
         ]
        },
        {
         "hovertemplate": "Customer Spending Score: %{x}<br>Income: $%{z}<br>Age: %{y}",
         "legendgroup": "1",
         "marker": {
          "color": "rgb(15, 133, 84)",
          "line": {
           "color": "#F7F7F7",
           "width": 1
          },
          "opacity": 0.7,
          "size": 7
         },
         "mode": "markers",
         "name": "Cluster 3",
         "scene": "scene",
         "type": "scatter3d",
         "x": [
          31,
          39,
          4,
          28,
          26,
          35,
          17,
          14,
          4,
          36,
          6,
          13,
          3,
          14,
          15,
          6,
          35,
          35,
          5,
          14,
          32,
          29,
          40
         ],
         "y": [
          40,
          19,
          60,
          49,
          36,
          65,
          42,
          49,
          53,
          48,
          20,
          37,
          64,
          67,
          58,
          35,
          35,
          35,
          46,
          54,
          45,
          52,
          31
         ],
         "z": [
          29,
          15,
          30,
          39,
          37,
          38,
          34,
          33,
          33,
          39,
          16,
          20,
          19,
          19,
          20,
          18,
          21,
          24,
          25,
          28,
          28,
          23,
          17
         ]
        },
        {
         "hovertemplate": "Customer Spending Score: %{x}<br>Income: $%{z}<br>Age: %{y}",
         "legendgroup": "1",
         "marker": {
          "color": "rgb(115, 175, 72)",
          "line": {
           "color": "#F7F7F7",
           "width": 1
          },
          "opacity": 0.7,
          "size": 7
         },
         "mode": "markers",
         "name": "Cluster 4",
         "scene": "scene",
         "type": "scatter3d",
         "x": [
          77,
          87,
          79,
          81,
          66,
          92,
          98,
          75,
          73,
          82,
          76,
          72,
          92,
          94,
          73,
          77,
          65,
          81,
          73,
          99,
          73,
          61
         ],
         "y": [
          24,
          23,
          22,
          21,
          20,
          18,
          35,
          20,
          30,
          29,
          22,
          30,
          24,
          23,
          21,
          23,
          24,
          21,
          25,
          35,
          31,
          35
         ],
         "z": [
          20,
          29,
          20,
          33,
          21,
          33,
          23,
          37,
          34,
          28,
          17,
          19,
          38,
          18,
          30,
          16,
          39,
          15,
          24,
          19,
          25,
          28
         ]
        },
        {
         "hovertemplate": "Customer Spending Score: %{x}<br>Income: $%{z}<br>Age: %{y}",
         "legendgroup": "2",
         "marker": {
          "color": "rgb(93, 105, 177)",
          "line": {
           "color": "#F7F7F7",
           "width": 1
          },
          "opacity": 0.7,
          "size": 7
         },
         "mode": "markers",
         "name": "Hierarchical Cluster 0",
         "scene": "scene2",
         "type": "scatter3d",
         "x": [
          39,
          81,
          6,
          52,
          77,
          40,
          76,
          6,
          94,
          72,
          14,
          99,
          15,
          77,
          13,
          79,
          35,
          66,
          29,
          98,
          35,
          73,
          5,
          73,
          14,
          82,
          32,
          61,
          31,
          87,
          55,
          4,
          4,
          14,
          92,
          28,
          61,
          36,
          92,
          35,
          73,
          75,
          26,
          81,
          17,
          55,
          3,
          65,
          47,
          42,
          42,
          52,
          60,
          54,
          60,
          41,
          50,
          46,
          51,
          73,
          56,
          45,
          49,
          46,
          54,
          59,
          50,
          48,
          59,
          47,
          42,
          49,
          56,
          47,
          54,
          53,
          48,
          42,
          52,
          40,
          55,
          41,
          44,
          57,
          46,
          58,
          55,
          60,
          46,
          55,
          41,
          49,
          59,
          51,
          51,
          55,
          47,
          50,
          42,
          41,
          48,
          59,
          55,
          56,
          42,
          50,
          46,
          43,
          48,
          52,
          42,
          52,
          42,
          48,
          46,
          34,
          29,
          40,
          40,
          58,
          57,
          43,
          59,
          43,
          50,
          56
         ],
         "y": [
          19,
          21,
          20,
          67,
          23,
          31,
          22,
          35,
          23,
          30,
          67,
          35,
          58,
          24,
          37,
          22,
          35,
          20,
          52,
          35,
          35,
          25,
          46,
          31,
          54,
          29,
          45,
          35,
          40,
          23,
          19,
          60,
          53,
          49,
          18,
          49,
          31,
          48,
          24,
          65,
          30,
          20,
          36,
          21,
          42,
          50,
          64,
          24,
          27,
          29,
          31,
          49,
          33,
          31,
          59,
          47,
          51,
          69,
          27,
          21,
          70,
          50,
          20,
          53,
          19,
          18,
          43,
          68,
          19,
          32,
          47,
          60,
          60,
          59,
          26,
          45,
          40,
          49,
          23,
          40,
          38,
          67,
          46,
          21,
          48,
          55,
          22,
          34,
          50,
          68,
          18,
          48,
          54,
          57,
          63,
          70,
          47,
          27,
          48,
          23,
          49,
          67,
          26,
          49,
          32,
          66,
          54,
          68,
          66,
          65,
          38,
          24,
          21,
          18,
          19,
          25,
          23,
          28,
          38,
          40,
          50,
          51,
          49,
          63,
          19,
          27
         ],
         "z": [
          15,
          15,
          16,
          47,
          16,
          17,
          17,
          18,
          18,
          19,
          19,
          19,
          20,
          20,
          20,
          20,
          21,
          21,
          23,
          23,
          24,
          24,
          25,
          25,
          28,
          28,
          28,
          28,
          29,
          29,
          46,
          30,
          33,
          33,
          33,
          39,
          39,
          39,
          38,
          38,
          34,
          37,
          37,
          33,
          34,
          40,
          19,
          39,
          40,
          40,
          40,
          42,
          42,
          43,
          43,
          43,
          44,
          44,
          46,
          30,
          46,
          43,
          61,
          46,
          63,
          48,
          48,
          48,
          48,
          48,
          49,
          50,
          50,
          54,
          54,
          54,
          54,
          54,
          54,
          60,
          54,
          54,
          54,
          54,
          54,
          57,
          57,
          58,
          58,
          59,
          59,
          60,
          47,
          54,
          48,
          49,
          60,
          60,
          61,
          62,
          62,
          62,
          62,
          62,
          60,
          63,
          63,
          63,
          63,
          63,
          64,
          60,
          62,
          65,
          64,
          72,
          70,
          76,
          67,
          69,
          67,
          67,
          65,
          65,
          65,
          67
         ]
        },
        {
         "hovertemplate": "Customer Spending Score: %{x}<br>Income: $%{z}<br>Age: %{y}",
         "legendgroup": "2",
         "marker": {
          "color": "rgb(82, 188, 163)",
          "line": {
           "color": "#F7F7F7",
           "width": 1
          },
          "opacity": 0.7,
          "size": 7
         },
         "mode": "markers",
         "name": "Hierarchical Cluster 1",
         "scene": "scene2",
         "type": "scatter3d",
         "x": [
          12,
          18,
          13,
          28,
          35,
          11,
          16,
          23,
          7,
          9,
          5,
          17,
          10,
          10,
          5,
          8,
          36,
          15,
          27,
          1,
          22,
          17,
          39,
          20,
          1,
          5,
          16,
          32,
          35,
          14,
          26,
          20,
          15,
          24,
          13
         ],
         "y": [
          25,
          32,
          52,
          45,
          43,
          59,
          47,
          34,
          44,
          47,
          57,
          41,
          19,
          36,
          20,
          33,
          48,
          46,
          36,
          34,
          34,
          43,
          41,
          44,
          37,
          19,
          47,
          37,
          56,
          59,
          50,
          42,
          58,
          54,
          40
         ],
         "z": [
          77,
          137,
          88,
          126,
          71,
          71,
          120,
          103,
          73,
          71,
          75,
          103,
          74,
          87,
          73,
          113,
          77,
          98,
          87,
          78,
          78,
          78,
          99,
          78,
          78,
          81,
          78,
          97,
          79,
          93,
          85,
          86,
          88,
          101,
          87
         ]
        },
        {
         "hovertemplate": "Customer Spending Score: %{x}<br>Income: $%{z}<br>Age: %{y}",
         "legendgroup": "2",
         "marker": {
          "color": "rgb(153, 201, 69)",
          "line": {
           "color": "#F7F7F7",
           "width": 1
          },
          "opacity": 0.7,
          "size": 7
         },
         "mode": "markers",
         "name": "Hierarchical Cluster 2",
         "scene": "scene2",
         "type": "scatter3d",
         "x": [
          90,
          72,
          93,
          87,
          97,
          74,
          88,
          95,
          89,
          78,
          73,
          83,
          93,
          75,
          73,
          63,
          76,
          88,
          68,
          75,
          92,
          90,
          91,
          79,
          69,
          69,
          97,
          74,
          85,
          86,
          86,
          88,
          75,
          75,
          91,
          77,
          95,
          71,
          83
         ],
         "y": [
          34,
          35,
          32,
          32,
          28,
          32,
          39,
          33,
          27,
          30,
          30,
          29,
          31,
          36,
          32,
          32,
          38,
          29,
          28,
          38,
          36,
          35,
          38,
          35,
          32,
          27,
          30,
          32,
          36,
          30,
          32,
          29,
          39,
          28,
          39,
          31,
          40,
          31,
          30
         ],
         "z": [
          78,
          74,
          75,
          76,
          77,
          77,
          78,
          86,
          78,
          78,
          78,
          79,
          81,
          85,
          73,
          87,
          78,
          73,
          101,
          71,
          87,
          93,
          113,
          120,
          103,
          88,
          99,
          126,
          103,
          88,
          97,
          98,
          71,
          87,
          69,
          70,
          71,
          72,
          137
         ]
        },
        {
         "hovertemplate": "Customer Spending Score: %{x}<br>Income: $%{z}<br>Age: %{y}",
         "legendgroup": "3",
         "marker": {
          "color": "#E45756",
          "line": {
           "color": "#F7F7F7",
           "width": 1
          },
          "opacity": 0.8,
          "size": 7
         },
         "mode": "markers",
         "name": "DB Cluster Outliers",
         "scene": "scene3",
         "type": "scatter3d",
         "x": [
          39,
          14,
          17,
          26,
          18,
          5,
          10,
          5,
          12,
          1,
          1,
          35,
          5,
          14,
          32,
          39,
          24,
          68,
          17,
          85,
          23,
          69,
          8,
          91,
          16,
          79,
          28,
          74,
          4,
          4,
          83,
          13,
          14,
          3,
          94,
          6,
          35,
          40,
          99,
          29,
          6,
          14,
          35,
          32,
          5,
          31,
          98,
          15
         ],
         "y": [
          19,
          49,
          42,
          36,
          32,
          20,
          19,
          57,
          25,
          37,
          34,
          56,
          19,
          59,
          37,
          41,
          54,
          28,
          41,
          36,
          34,
          32,
          33,
          38,
          47,
          35,
          45,
          32,
          53,
          60,
          30,
          37,
          67,
          64,
          23,
          35,
          35,
          31,
          35,
          52,
          20,
          54,
          35,
          45,
          46,
          40,
          35,
          58
         ],
         "z": [
          15,
          33,
          34,
          37,
          137,
          73,
          74,
          75,
          77,
          78,
          78,
          79,
          81,
          93,
          97,
          99,
          101,
          101,
          103,
          103,
          103,
          103,
          113,
          113,
          120,
          120,
          126,
          126,
          33,
          30,
          137,
          20,
          19,
          19,
          18,
          18,
          21,
          17,
          19,
          23,
          16,
          28,
          24,
          28,
          25,
          29,
          23,
          20
         ]
        },
        {
         "hovertemplate": "Customer Spending Score: %{x}<br>Income: $%{z}<br>Age: %{y}",
         "legendgroup": "3",
         "marker": {
          "color": "#72B7B2",
          "line": {
           "color": "#F7F7F7",
           "width": 1
          },
          "opacity": 0.8,
          "size": 7
         },
         "mode": "markers",
         "name": "DB Cluster 0",
         "scene": "scene3",
         "type": "scatter3d",
         "x": [
          66,
          73,
          79,
          73,
          87,
          77,
          73,
          92,
          76,
          65,
          77,
          92,
          81,
          75,
          82,
          73,
          81,
          61,
          72
         ],
         "y": [
          20,
          25,
          22,
          31,
          23,
          24,
          21,
          18,
          22,
          24,
          23,
          24,
          21,
          20,
          29,
          30,
          21,
          35,
          30
         ],
         "z": [
          21,
          24,
          20,
          25,
          29,
          20,
          30,
          33,
          17,
          39,
          16,
          38,
          15,
          37,
          28,
          34,
          33,
          28,
          19
         ]
        },
        {
         "hovertemplate": "Customer Spending Score: %{x}<br>Income: $%{z}<br>Age: %{y}",
         "legendgroup": "3",
         "marker": {
          "color": "#54A24B",
          "line": {
           "color": "#F7F7F7",
           "width": 1
          },
          "opacity": 0.8,
          "size": 7
         },
         "mode": "markers",
         "name": "DB Cluster 1",
         "scene": "scene3",
         "type": "scatter3d",
         "x": [
          48,
          54,
          43,
          52,
          46,
          48,
          42,
          56,
          55,
          59,
          41,
          50,
          42,
          40,
          48,
          43,
          59,
          43,
          57,
          56,
          40,
          58,
          29,
          35,
          34,
          42,
          36,
          46,
          50,
          50,
          52,
          50,
          59,
          51,
          59,
          52,
          55,
          47,
          56,
          46,
          51,
          46,
          50,
          48,
          41,
          60,
          54,
          60,
          52,
          42,
          42,
          47,
          55,
          28,
          61,
          36,
          35,
          45,
          59,
          49,
          57,
          48,
          51,
          55,
          52,
          54,
          41,
          47,
          42,
          56,
          44,
          49,
          42,
          53,
          55,
          58,
          55,
          60,
          46,
          55,
          47,
          41,
          49,
          40,
          42,
          46
         ],
         "y": [
          66,
          19,
          68,
          65,
          54,
          49,
          21,
          49,
          26,
          67,
          23,
          66,
          38,
          28,
          18,
          63,
          49,
          51,
          50,
          27,
          38,
          40,
          23,
          43,
          25,
          48,
          48,
          19,
          27,
          19,
          24,
          43,
          18,
          63,
          54,
          67,
          19,
          47,
          70,
          53,
          27,
          69,
          51,
          68,
          47,
          59,
          31,
          33,
          49,
          31,
          29,
          27,
          50,
          49,
          31,
          48,
          65,
          50,
          19,
          20,
          21,
          40,
          57,
          38,
          23,
          26,
          67,
          59,
          49,
          60,
          46,
          60,
          47,
          45,
          70,
          55,
          22,
          34,
          50,
          68,
          32,
          18,
          48,
          40,
          32,
          48
         ],
         "z": [
          63,
          63,
          63,
          63,
          63,
          62,
          62,
          62,
          62,
          62,
          62,
          63,
          64,
          76,
          65,
          65,
          65,
          67,
          67,
          67,
          67,
          69,
          70,
          71,
          72,
          61,
          77,
          64,
          60,
          65,
          60,
          48,
          48,
          48,
          47,
          47,
          46,
          60,
          46,
          46,
          46,
          44,
          44,
          48,
          43,
          43,
          43,
          42,
          42,
          40,
          40,
          40,
          40,
          39,
          39,
          39,
          38,
          43,
          48,
          61,
          54,
          54,
          54,
          54,
          54,
          54,
          54,
          54,
          54,
          50,
          54,
          50,
          49,
          54,
          49,
          57,
          57,
          58,
          58,
          59,
          48,
          59,
          60,
          60,
          60,
          54
         ]
        },
        {
         "hovertemplate": "Customer Spending Score: %{x}<br>Income: $%{z}<br>Age: %{y}",
         "legendgroup": "3",
         "marker": {
          "color": "#EECA3B",
          "line": {
           "color": "#F7F7F7",
           "width": 1
          },
          "opacity": 0.8,
          "size": 7
         },
         "mode": "markers",
         "name": "DB Cluster 2",
         "scene": "scene3",
         "type": "scatter3d",
         "x": [
          92,
          63,
          75,
          95,
          97,
          69,
          90,
          86,
          88,
          95,
          86,
          75,
          93,
          91,
          87,
          97,
          74,
          90,
          73,
          88,
          88,
          76,
          93,
          72,
          89,
          75,
          78,
          73,
          75,
          83,
          77,
          71
         ],
         "y": [
          36,
          32,
          28,
          40,
          30,
          27,
          35,
          32,
          29,
          33,
          30,
          36,
          31,
          39,
          32,
          28,
          32,
          34,
          32,
          39,
          29,
          38,
          32,
          35,
          27,
          39,
          30,
          30,
          38,
          29,
          31,
          31
         ],
         "z": [
          87,
          87,
          87,
          71,
          99,
          88,
          93,
          97,
          98,
          86,
          88,
          85,
          81,
          69,
          76,
          77,
          77,
          78,
          73,
          78,
          73,
          78,
          75,
          74,
          78,
          71,
          78,
          78,
          71,
          79,
          70,
          72
         ]
        },
        {
         "hovertemplate": "Customer Spending Score: %{x}<br>Income: $%{z}<br>Age: %{y}",
         "legendgroup": "3",
         "marker": {
          "color": "#B279A2",
          "line": {
           "color": "#F7F7F7",
           "width": 1
          },
          "opacity": 0.8,
          "size": 7
         },
         "mode": "markers",
         "name": "DB Cluster 3",
         "scene": "scene3",
         "type": "scatter3d",
         "x": [
          9,
          7,
          11,
          20,
          15,
          17,
          20,
          16,
          15,
          13,
          10,
          13,
          27,
          26,
          22
         ],
         "y": [
          47,
          44,
          59,
          42,
          46,
          43,
          44,
          47,
          58,
          52,
          36,
          40,
          36,
          50,
          34
         ],
         "z": [
          71,
          73,
          71,
          86,
          98,
          78,
          78,
          78,
          88,
          88,
          87,
          87,
          87,
          85,
          78
         ]
        }
       ],
       "layout": {
        "annotations": [
         {
          "font": {
           "size": 16
          },
          "showarrow": false,
          "text": "K-Means Clustering with 5 clusters",
          "x": 0.5,
          "xanchor": "center",
          "xref": "paper",
          "y": 1,
          "yanchor": "bottom",
          "yref": "paper"
         },
         {
          "font": {
           "size": 16
          },
          "showarrow": false,
          "text": "Hierarchical Clustering<br>with 3 clusters",
          "x": 0.5,
          "xanchor": "center",
          "xref": "paper",
          "y": 0.6333333333333333,
          "yanchor": "bottom",
          "yref": "paper"
         },
         {
          "font": {
           "size": 16
          },
          "showarrow": false,
          "text": "DBSCAN<br>with 4 clusters",
          "x": 0.5,
          "xanchor": "center",
          "xref": "paper",
          "y": 0.26666666666666666,
          "yanchor": "bottom",
          "yref": "paper"
         }
        ],
        "height": 1800,
        "legend": {
         "tracegroupgap": 500
        },
        "scene": {
         "aspectmode": "cube",
         "domain": {
          "x": [
           0,
           1
          ],
          "y": [
           0.7333333333333334,
           1
          ]
         },
         "xaxis": {
          "backgroundcolor": "#F3F3F3",
          "gridcolor": "white",
          "showbackground": true,
          "title": {
           "text": "Spending Score"
          },
          "zerolinecolor": "white"
         },
         "yaxis": {
          "backgroundcolor": "#E4E4E4",
          "gridcolor": "white",
          "showbackground": true,
          "title": {
           "text": "Age, in years"
          },
          "zerolinecolor": "white"
         },
         "zaxis": {
          "backgroundcolor": "#F6F6F6",
          "gridcolor": "white",
          "showbackground": true,
          "ticksuffix": "k",
          "title": {
           "text": "Income, $"
          },
          "zerolinecolor": "white"
         }
        },
        "scene2": {
         "aspectmode": "cube",
         "domain": {
          "x": [
           0,
           1
          ],
          "y": [
           0.3666666666666667,
           0.6333333333333333
          ]
         },
         "xaxis": {
          "backgroundcolor": "#F3F3F3",
          "gridcolor": "white",
          "showbackground": true,
          "title": {
           "text": "Spending Score"
          },
          "zerolinecolor": "white"
         },
         "yaxis": {
          "backgroundcolor": "#E4E4E4",
          "gridcolor": "white",
          "showbackground": true,
          "title": {
           "text": "Age, in years"
          },
          "zerolinecolor": "white"
         },
         "zaxis": {
          "backgroundcolor": "#F6F6F6",
          "gridcolor": "white",
          "showbackground": true,
          "ticksuffix": "k",
          "title": {
           "text": "Income, $"
          },
          "zerolinecolor": "white"
         }
        },
        "scene3": {
         "aspectmode": "cube",
         "domain": {
          "x": [
           0,
           1
          ],
          "y": [
           0,
           0.26666666666666666
          ]
         },
         "xaxis": {
          "backgroundcolor": "#F3F3F3",
          "gridcolor": "white",
          "showbackground": true,
          "title": {
           "text": "Spending Score"
          },
          "zerolinecolor": "white"
         },
         "yaxis": {
          "backgroundcolor": "#E4E4E4",
          "gridcolor": "white",
          "showbackground": true,
          "title": {
           "text": "Age, in years"
          },
          "zerolinecolor": "white"
         },
         "zaxis": {
          "backgroundcolor": "#F6F6F6",
          "gridcolor": "white",
          "showbackground": true,
          "ticksuffix": "k",
          "title": {
           "text": "Income, $"
          },
          "zerolinecolor": "white"
         }
        },
        "template": {
         "data": {
          "bar": [
           {
            "error_x": {
             "color": "#2a3f5f"
            },
            "error_y": {
             "color": "#2a3f5f"
            },
            "marker": {
             "line": {
              "color": "#E5ECF6",
              "width": 0.5
             },
             "pattern": {
              "fillmode": "overlay",
              "size": 10,
              "solidity": 0.2
             }
            },
            "type": "bar"
           }
          ],
          "barpolar": [
           {
            "marker": {
             "line": {
              "color": "#E5ECF6",
              "width": 0.5
             },
             "pattern": {
              "fillmode": "overlay",
              "size": 10,
              "solidity": 0.2
             }
            },
            "type": "barpolar"
           }
          ],
          "carpet": [
           {
            "aaxis": {
             "endlinecolor": "#2a3f5f",
             "gridcolor": "white",
             "linecolor": "white",
             "minorgridcolor": "white",
             "startlinecolor": "#2a3f5f"
            },
            "baxis": {
             "endlinecolor": "#2a3f5f",
             "gridcolor": "white",
             "linecolor": "white",
             "minorgridcolor": "white",
             "startlinecolor": "#2a3f5f"
            },
            "type": "carpet"
           }
          ],
          "choropleth": [
           {
            "colorbar": {
             "outlinewidth": 0,
             "ticks": ""
            },
            "type": "choropleth"
           }
          ],
          "contour": [
           {
            "colorbar": {
             "outlinewidth": 0,
             "ticks": ""
            },
            "colorscale": [
             [
              0,
              "#0d0887"
             ],
             [
              0.1111111111111111,
              "#46039f"
             ],
             [
              0.2222222222222222,
              "#7201a8"
             ],
             [
              0.3333333333333333,
              "#9c179e"
             ],
             [
              0.4444444444444444,
              "#bd3786"
             ],
             [
              0.5555555555555556,
              "#d8576b"
             ],
             [
              0.6666666666666666,
              "#ed7953"
             ],
             [
              0.7777777777777778,
              "#fb9f3a"
             ],
             [
              0.8888888888888888,
              "#fdca26"
             ],
             [
              1,
              "#f0f921"
             ]
            ],
            "type": "contour"
           }
          ],
          "contourcarpet": [
           {
            "colorbar": {
             "outlinewidth": 0,
             "ticks": ""
            },
            "type": "contourcarpet"
           }
          ],
          "heatmap": [
           {
            "colorbar": {
             "outlinewidth": 0,
             "ticks": ""
            },
            "colorscale": [
             [
              0,
              "#0d0887"
             ],
             [
              0.1111111111111111,
              "#46039f"
             ],
             [
              0.2222222222222222,
              "#7201a8"
             ],
             [
              0.3333333333333333,
              "#9c179e"
             ],
             [
              0.4444444444444444,
              "#bd3786"
             ],
             [
              0.5555555555555556,
              "#d8576b"
             ],
             [
              0.6666666666666666,
              "#ed7953"
             ],
             [
              0.7777777777777778,
              "#fb9f3a"
             ],
             [
              0.8888888888888888,
              "#fdca26"
             ],
             [
              1,
              "#f0f921"
             ]
            ],
            "type": "heatmap"
           }
          ],
          "heatmapgl": [
           {
            "colorbar": {
             "outlinewidth": 0,
             "ticks": ""
            },
            "colorscale": [
             [
              0,
              "#0d0887"
             ],
             [
              0.1111111111111111,
              "#46039f"
             ],
             [
              0.2222222222222222,
              "#7201a8"
             ],
             [
              0.3333333333333333,
              "#9c179e"
             ],
             [
              0.4444444444444444,
              "#bd3786"
             ],
             [
              0.5555555555555556,
              "#d8576b"
             ],
             [
              0.6666666666666666,
              "#ed7953"
             ],
             [
              0.7777777777777778,
              "#fb9f3a"
             ],
             [
              0.8888888888888888,
              "#fdca26"
             ],
             [
              1,
              "#f0f921"
             ]
            ],
            "type": "heatmapgl"
           }
          ],
          "histogram": [
           {
            "marker": {
             "pattern": {
              "fillmode": "overlay",
              "size": 10,
              "solidity": 0.2
             }
            },
            "type": "histogram"
           }
          ],
          "histogram2d": [
           {
            "colorbar": {
             "outlinewidth": 0,
             "ticks": ""
            },
            "colorscale": [
             [
              0,
              "#0d0887"
             ],
             [
              0.1111111111111111,
              "#46039f"
             ],
             [
              0.2222222222222222,
              "#7201a8"
             ],
             [
              0.3333333333333333,
              "#9c179e"
             ],
             [
              0.4444444444444444,
              "#bd3786"
             ],
             [
              0.5555555555555556,
              "#d8576b"
             ],
             [
              0.6666666666666666,
              "#ed7953"
             ],
             [
              0.7777777777777778,
              "#fb9f3a"
             ],
             [
              0.8888888888888888,
              "#fdca26"
             ],
             [
              1,
              "#f0f921"
             ]
            ],
            "type": "histogram2d"
           }
          ],
          "histogram2dcontour": [
           {
            "colorbar": {
             "outlinewidth": 0,
             "ticks": ""
            },
            "colorscale": [
             [
              0,
              "#0d0887"
             ],
             [
              0.1111111111111111,
              "#46039f"
             ],
             [
              0.2222222222222222,
              "#7201a8"
             ],
             [
              0.3333333333333333,
              "#9c179e"
             ],
             [
              0.4444444444444444,
              "#bd3786"
             ],
             [
              0.5555555555555556,
              "#d8576b"
             ],
             [
              0.6666666666666666,
              "#ed7953"
             ],
             [
              0.7777777777777778,
              "#fb9f3a"
             ],
             [
              0.8888888888888888,
              "#fdca26"
             ],
             [
              1,
              "#f0f921"
             ]
            ],
            "type": "histogram2dcontour"
           }
          ],
          "mesh3d": [
           {
            "colorbar": {
             "outlinewidth": 0,
             "ticks": ""
            },
            "type": "mesh3d"
           }
          ],
          "parcoords": [
           {
            "line": {
             "colorbar": {
              "outlinewidth": 0,
              "ticks": ""
             }
            },
            "type": "parcoords"
           }
          ],
          "pie": [
           {
            "automargin": true,
            "type": "pie"
           }
          ],
          "scatter": [
           {
            "fillpattern": {
             "fillmode": "overlay",
             "size": 10,
             "solidity": 0.2
            },
            "type": "scatter"
           }
          ],
          "scatter3d": [
           {
            "line": {
             "colorbar": {
              "outlinewidth": 0,
              "ticks": ""
             }
            },
            "marker": {
             "colorbar": {
              "outlinewidth": 0,
              "ticks": ""
             }
            },
            "type": "scatter3d"
           }
          ],
          "scattercarpet": [
           {
            "marker": {
             "colorbar": {
              "outlinewidth": 0,
              "ticks": ""
             }
            },
            "type": "scattercarpet"
           }
          ],
          "scattergeo": [
           {
            "marker": {
             "colorbar": {
              "outlinewidth": 0,
              "ticks": ""
             }
            },
            "type": "scattergeo"
           }
          ],
          "scattergl": [
           {
            "marker": {
             "colorbar": {
              "outlinewidth": 0,
              "ticks": ""
             }
            },
            "type": "scattergl"
           }
          ],
          "scattermapbox": [
           {
            "marker": {
             "colorbar": {
              "outlinewidth": 0,
              "ticks": ""
             }
            },
            "type": "scattermapbox"
           }
          ],
          "scatterpolar": [
           {
            "marker": {
             "colorbar": {
              "outlinewidth": 0,
              "ticks": ""
             }
            },
            "type": "scatterpolar"
           }
          ],
          "scatterpolargl": [
           {
            "marker": {
             "colorbar": {
              "outlinewidth": 0,
              "ticks": ""
             }
            },
            "type": "scatterpolargl"
           }
          ],
          "scatterternary": [
           {
            "marker": {
             "colorbar": {
              "outlinewidth": 0,
              "ticks": ""
             }
            },
            "type": "scatterternary"
           }
          ],
          "surface": [
           {
            "colorbar": {
             "outlinewidth": 0,
             "ticks": ""
            },
            "colorscale": [
             [
              0,
              "#0d0887"
             ],
             [
              0.1111111111111111,
              "#46039f"
             ],
             [
              0.2222222222222222,
              "#7201a8"
             ],
             [
              0.3333333333333333,
              "#9c179e"
             ],
             [
              0.4444444444444444,
              "#bd3786"
             ],
             [
              0.5555555555555556,
              "#d8576b"
             ],
             [
              0.6666666666666666,
              "#ed7953"
             ],
             [
              0.7777777777777778,
              "#fb9f3a"
             ],
             [
              0.8888888888888888,
              "#fdca26"
             ],
             [
              1,
              "#f0f921"
             ]
            ],
            "type": "surface"
           }
          ],
          "table": [
           {
            "cells": {
             "fill": {
              "color": "#EBF0F8"
             },
             "line": {
              "color": "white"
             }
            },
            "header": {
             "fill": {
              "color": "#C8D4E3"
             },
             "line": {
              "color": "white"
             }
            },
            "type": "table"
           }
          ]
         },
         "layout": {
          "font": {
           "family": "Franklin Gothic",
           "size": 12
          }
         }
        },
        "title": {
         "text": "Customer Segments based on Income, Spending, and Age"
        }
       }
      },
      "text/html": [
       "<div>                            <div id=\"45d05653-d8c7-46fc-8afc-a5ddfe7a7537\" class=\"plotly-graph-div\" style=\"height:1800px; width:100%;\"></div>            <script type=\"text/javascript\">                require([\"plotly\"], function(Plotly) {                    window.PLOTLYENV=window.PLOTLYENV || {};                                    if (document.getElementById(\"45d05653-d8c7-46fc-8afc-a5ddfe7a7537\")) {                    Plotly.newPlot(                        \"45d05653-d8c7-46fc-8afc-a5ddfe7a7537\",                        [{\"legendgroup\":\"1\",\"marker\":{\"color\":\"rgb(95, 70, 144)\",\"line\":{\"color\":\"#F7F7F7\",\"width\":1},\"opacity\":0.7,\"size\":7},\"mode\":\"markers\",\"name\":\"Cluster 0\",\"x\":[49,47,50,42,41,48,59,55,42,56,50,43,48,52,54,42,46,42,48,52,56,46,54,51,46,50,41,45,42,60,60,52,42,42,47,55,61,55,50,46,59,54,53,48,52,42,51,43,41,44,57,46,58,55,60,46,55,41,47,56,55,55,49,57,56,40,58,35,52,40,43,49,51,59,50,48,59,47,59],\"y\":[20,47,27,48,23,49,67,26,32,49,66,68,66,65,19,38,19,21,18,67,70,53,31,27,69,51,47,50,47,59,33,49,31,29,27,50,31,19,19,54,49,26,45,40,23,49,57,63,67,46,21,48,55,22,34,50,68,18,59,60,38,70,60,50,27,38,40,43,24,40,51,48,63,18,43,68,19,32,54],\"z\":[61,60,60,61,62,62,62,62,60,62,63,63,63,63,63,64,64,62,65,47,46,46,43,46,44,44,43,43,49,43,42,42,40,40,40,40,39,46,65,63,65,54,54,54,54,54,54,65,54,54,54,54,57,57,58,58,59,59,54,50,54,49,50,67,67,67,69,71,60,60,67,60,48,48,48,48,48,48,47],\"type\":\"scatter3d\",\"scene\":\"scene\",\"hovertemplate\":\"Customer Spending Score: %{x}<br>Income: $%{z}<br>Age: %{y}\"},{\"legendgroup\":\"1\",\"marker\":{\"color\":\"rgb(29, 105, 150)\",\"line\":{\"color\":\"#F7F7F7\",\"width\":1},\"opacity\":0.7,\"size\":7},\"mode\":\"markers\",\"name\":\"Cluster 1\",\"x\":[10,7,15,13,12,16,1,1,27,5,26,20,40,18,10,13,35,36,29,5,14,5,8,23,17,15,16,32,39,28,9,20,11,17,34,22,24],\"y\":[19,44,58,52,25,47,37,34,36,19,50,42,28,32,36,40,56,48,23,20,59,57,33,34,41,46,47,37,41,45,47,44,59,43,25,34,54],\"z\":[74,73,88,88,77,78,78,78,87,81,85,86,76,137,87,87,79,77,70,73,93,75,113,103,103,98,120,97,99,126,71,78,71,78,72,78,101],\"type\":\"scatter3d\",\"scene\":\"scene\",\"hovertemplate\":\"Customer Spending Score: %{x}<br>Income: $%{z}<br>Age: %{y}\"},{\"legendgroup\":\"1\",\"marker\":{\"color\":\"rgb(56, 166, 165)\",\"line\":{\"color\":\"#F7F7F7\",\"width\":1},\"opacity\":0.7,\"size\":7},\"mode\":\"markers\",\"name\":\"Cluster 2\",\"x\":[83,97,85,63,74,75,69,93,72,91,95,77,71,88,73,95,75,87,91,75,79,68,69,97,75,90,74,78,92,89,90,86,83,88,93,88,76,86,73],\"y\":[30,30,36,32,32,36,32,32,35,39,40,31,31,29,32,33,39,32,38,38,35,28,27,28,28,35,32,30,36,27,34,32,29,39,31,29,38,30,30],\"z\":[137,99,103,87,126,85,103,75,74,69,71,70,72,73,73,86,71,76,113,71,120,101,88,77,87,93,77,78,87,78,78,97,79,78,81,98,78,88,78],\"type\":\"scatter3d\",\"scene\":\"scene\",\"hovertemplate\":\"Customer Spending Score: %{x}<br>Income: $%{z}<br>Age: %{y}\"},{\"legendgroup\":\"1\",\"marker\":{\"color\":\"rgb(15, 133, 84)\",\"line\":{\"color\":\"#F7F7F7\",\"width\":1},\"opacity\":0.7,\"size\":7},\"mode\":\"markers\",\"name\":\"Cluster 3\",\"x\":[31,39,4,28,26,35,17,14,4,36,6,13,3,14,15,6,35,35,5,14,32,29,40],\"y\":[40,19,60,49,36,65,42,49,53,48,20,37,64,67,58,35,35,35,46,54,45,52,31],\"z\":[29,15,30,39,37,38,34,33,33,39,16,20,19,19,20,18,21,24,25,28,28,23,17],\"type\":\"scatter3d\",\"scene\":\"scene\",\"hovertemplate\":\"Customer Spending Score: %{x}<br>Income: $%{z}<br>Age: %{y}\"},{\"legendgroup\":\"1\",\"marker\":{\"color\":\"rgb(115, 175, 72)\",\"line\":{\"color\":\"#F7F7F7\",\"width\":1},\"opacity\":0.7,\"size\":7},\"mode\":\"markers\",\"name\":\"Cluster 4\",\"x\":[77,87,79,81,66,92,98,75,73,82,76,72,92,94,73,77,65,81,73,99,73,61],\"y\":[24,23,22,21,20,18,35,20,30,29,22,30,24,23,21,23,24,21,25,35,31,35],\"z\":[20,29,20,33,21,33,23,37,34,28,17,19,38,18,30,16,39,15,24,19,25,28],\"type\":\"scatter3d\",\"scene\":\"scene\",\"hovertemplate\":\"Customer Spending Score: %{x}<br>Income: $%{z}<br>Age: %{y}\"},{\"legendgroup\":\"2\",\"marker\":{\"color\":\"rgb(93, 105, 177)\",\"line\":{\"color\":\"#F7F7F7\",\"width\":1},\"opacity\":0.7,\"size\":7},\"mode\":\"markers\",\"name\":\"Hierarchical Cluster 0\",\"x\":[39,81,6,52,77,40,76,6,94,72,14,99,15,77,13,79,35,66,29,98,35,73,5,73,14,82,32,61,31,87,55,4,4,14,92,28,61,36,92,35,73,75,26,81,17,55,3,65,47,42,42,52,60,54,60,41,50,46,51,73,56,45,49,46,54,59,50,48,59,47,42,49,56,47,54,53,48,42,52,40,55,41,44,57,46,58,55,60,46,55,41,49,59,51,51,55,47,50,42,41,48,59,55,56,42,50,46,43,48,52,42,52,42,48,46,34,29,40,40,58,57,43,59,43,50,56],\"y\":[19,21,20,67,23,31,22,35,23,30,67,35,58,24,37,22,35,20,52,35,35,25,46,31,54,29,45,35,40,23,19,60,53,49,18,49,31,48,24,65,30,20,36,21,42,50,64,24,27,29,31,49,33,31,59,47,51,69,27,21,70,50,20,53,19,18,43,68,19,32,47,60,60,59,26,45,40,49,23,40,38,67,46,21,48,55,22,34,50,68,18,48,54,57,63,70,47,27,48,23,49,67,26,49,32,66,54,68,66,65,38,24,21,18,19,25,23,28,38,40,50,51,49,63,19,27],\"z\":[15,15,16,47,16,17,17,18,18,19,19,19,20,20,20,20,21,21,23,23,24,24,25,25,28,28,28,28,29,29,46,30,33,33,33,39,39,39,38,38,34,37,37,33,34,40,19,39,40,40,40,42,42,43,43,43,44,44,46,30,46,43,61,46,63,48,48,48,48,48,49,50,50,54,54,54,54,54,54,60,54,54,54,54,54,57,57,58,58,59,59,60,47,54,48,49,60,60,61,62,62,62,62,62,60,63,63,63,63,63,64,60,62,65,64,72,70,76,67,69,67,67,65,65,65,67],\"type\":\"scatter3d\",\"scene\":\"scene2\",\"hovertemplate\":\"Customer Spending Score: %{x}<br>Income: $%{z}<br>Age: %{y}\"},{\"legendgroup\":\"2\",\"marker\":{\"color\":\"rgb(82, 188, 163)\",\"line\":{\"color\":\"#F7F7F7\",\"width\":1},\"opacity\":0.7,\"size\":7},\"mode\":\"markers\",\"name\":\"Hierarchical Cluster 1\",\"x\":[12,18,13,28,35,11,16,23,7,9,5,17,10,10,5,8,36,15,27,1,22,17,39,20,1,5,16,32,35,14,26,20,15,24,13],\"y\":[25,32,52,45,43,59,47,34,44,47,57,41,19,36,20,33,48,46,36,34,34,43,41,44,37,19,47,37,56,59,50,42,58,54,40],\"z\":[77,137,88,126,71,71,120,103,73,71,75,103,74,87,73,113,77,98,87,78,78,78,99,78,78,81,78,97,79,93,85,86,88,101,87],\"type\":\"scatter3d\",\"scene\":\"scene2\",\"hovertemplate\":\"Customer Spending Score: %{x}<br>Income: $%{z}<br>Age: %{y}\"},{\"legendgroup\":\"2\",\"marker\":{\"color\":\"rgb(153, 201, 69)\",\"line\":{\"color\":\"#F7F7F7\",\"width\":1},\"opacity\":0.7,\"size\":7},\"mode\":\"markers\",\"name\":\"Hierarchical Cluster 2\",\"x\":[90,72,93,87,97,74,88,95,89,78,73,83,93,75,73,63,76,88,68,75,92,90,91,79,69,69,97,74,85,86,86,88,75,75,91,77,95,71,83],\"y\":[34,35,32,32,28,32,39,33,27,30,30,29,31,36,32,32,38,29,28,38,36,35,38,35,32,27,30,32,36,30,32,29,39,28,39,31,40,31,30],\"z\":[78,74,75,76,77,77,78,86,78,78,78,79,81,85,73,87,78,73,101,71,87,93,113,120,103,88,99,126,103,88,97,98,71,87,69,70,71,72,137],\"type\":\"scatter3d\",\"scene\":\"scene2\",\"hovertemplate\":\"Customer Spending Score: %{x}<br>Income: $%{z}<br>Age: %{y}\"},{\"legendgroup\":\"3\",\"marker\":{\"color\":\"#E45756\",\"line\":{\"color\":\"#F7F7F7\",\"width\":1},\"opacity\":0.8,\"size\":7},\"mode\":\"markers\",\"name\":\"DB Cluster Outliers\",\"x\":[39,14,17,26,18,5,10,5,12,1,1,35,5,14,32,39,24,68,17,85,23,69,8,91,16,79,28,74,4,4,83,13,14,3,94,6,35,40,99,29,6,14,35,32,5,31,98,15],\"y\":[19,49,42,36,32,20,19,57,25,37,34,56,19,59,37,41,54,28,41,36,34,32,33,38,47,35,45,32,53,60,30,37,67,64,23,35,35,31,35,52,20,54,35,45,46,40,35,58],\"z\":[15,33,34,37,137,73,74,75,77,78,78,79,81,93,97,99,101,101,103,103,103,103,113,113,120,120,126,126,33,30,137,20,19,19,18,18,21,17,19,23,16,28,24,28,25,29,23,20],\"type\":\"scatter3d\",\"scene\":\"scene3\",\"hovertemplate\":\"Customer Spending Score: %{x}<br>Income: $%{z}<br>Age: %{y}\"},{\"legendgroup\":\"3\",\"marker\":{\"color\":\"#72B7B2\",\"line\":{\"color\":\"#F7F7F7\",\"width\":1},\"opacity\":0.8,\"size\":7},\"mode\":\"markers\",\"name\":\"DB Cluster 0\",\"x\":[66,73,79,73,87,77,73,92,76,65,77,92,81,75,82,73,81,61,72],\"y\":[20,25,22,31,23,24,21,18,22,24,23,24,21,20,29,30,21,35,30],\"z\":[21,24,20,25,29,20,30,33,17,39,16,38,15,37,28,34,33,28,19],\"type\":\"scatter3d\",\"scene\":\"scene3\",\"hovertemplate\":\"Customer Spending Score: %{x}<br>Income: $%{z}<br>Age: %{y}\"},{\"legendgroup\":\"3\",\"marker\":{\"color\":\"#54A24B\",\"line\":{\"color\":\"#F7F7F7\",\"width\":1},\"opacity\":0.8,\"size\":7},\"mode\":\"markers\",\"name\":\"DB Cluster 1\",\"x\":[48,54,43,52,46,48,42,56,55,59,41,50,42,40,48,43,59,43,57,56,40,58,29,35,34,42,36,46,50,50,52,50,59,51,59,52,55,47,56,46,51,46,50,48,41,60,54,60,52,42,42,47,55,28,61,36,35,45,59,49,57,48,51,55,52,54,41,47,42,56,44,49,42,53,55,58,55,60,46,55,47,41,49,40,42,46],\"y\":[66,19,68,65,54,49,21,49,26,67,23,66,38,28,18,63,49,51,50,27,38,40,23,43,25,48,48,19,27,19,24,43,18,63,54,67,19,47,70,53,27,69,51,68,47,59,31,33,49,31,29,27,50,49,31,48,65,50,19,20,21,40,57,38,23,26,67,59,49,60,46,60,47,45,70,55,22,34,50,68,32,18,48,40,32,48],\"z\":[63,63,63,63,63,62,62,62,62,62,62,63,64,76,65,65,65,67,67,67,67,69,70,71,72,61,77,64,60,65,60,48,48,48,47,47,46,60,46,46,46,44,44,48,43,43,43,42,42,40,40,40,40,39,39,39,38,43,48,61,54,54,54,54,54,54,54,54,54,50,54,50,49,54,49,57,57,58,58,59,48,59,60,60,60,54],\"type\":\"scatter3d\",\"scene\":\"scene3\",\"hovertemplate\":\"Customer Spending Score: %{x}<br>Income: $%{z}<br>Age: %{y}\"},{\"legendgroup\":\"3\",\"marker\":{\"color\":\"#EECA3B\",\"line\":{\"color\":\"#F7F7F7\",\"width\":1},\"opacity\":0.8,\"size\":7},\"mode\":\"markers\",\"name\":\"DB Cluster 2\",\"x\":[92,63,75,95,97,69,90,86,88,95,86,75,93,91,87,97,74,90,73,88,88,76,93,72,89,75,78,73,75,83,77,71],\"y\":[36,32,28,40,30,27,35,32,29,33,30,36,31,39,32,28,32,34,32,39,29,38,32,35,27,39,30,30,38,29,31,31],\"z\":[87,87,87,71,99,88,93,97,98,86,88,85,81,69,76,77,77,78,73,78,73,78,75,74,78,71,78,78,71,79,70,72],\"type\":\"scatter3d\",\"scene\":\"scene3\",\"hovertemplate\":\"Customer Spending Score: %{x}<br>Income: $%{z}<br>Age: %{y}\"},{\"legendgroup\":\"3\",\"marker\":{\"color\":\"#B279A2\",\"line\":{\"color\":\"#F7F7F7\",\"width\":1},\"opacity\":0.8,\"size\":7},\"mode\":\"markers\",\"name\":\"DB Cluster 3\",\"x\":[9,7,11,20,15,17,20,16,15,13,10,13,27,26,22],\"y\":[47,44,59,42,46,43,44,47,58,52,36,40,36,50,34],\"z\":[71,73,71,86,98,78,78,78,88,88,87,87,87,85,78],\"type\":\"scatter3d\",\"scene\":\"scene3\",\"hovertemplate\":\"Customer Spending Score: %{x}<br>Income: $%{z}<br>Age: %{y}\"}],                        {\"template\":{\"data\":{\"histogram2dcontour\":[{\"type\":\"histogram2dcontour\",\"colorbar\":{\"outlinewidth\":0,\"ticks\":\"\"},\"colorscale\":[[0.0,\"#0d0887\"],[0.1111111111111111,\"#46039f\"],[0.2222222222222222,\"#7201a8\"],[0.3333333333333333,\"#9c179e\"],[0.4444444444444444,\"#bd3786\"],[0.5555555555555556,\"#d8576b\"],[0.6666666666666666,\"#ed7953\"],[0.7777777777777778,\"#fb9f3a\"],[0.8888888888888888,\"#fdca26\"],[1.0,\"#f0f921\"]]}],\"choropleth\":[{\"type\":\"choropleth\",\"colorbar\":{\"outlinewidth\":0,\"ticks\":\"\"}}],\"histogram2d\":[{\"type\":\"histogram2d\",\"colorbar\":{\"outlinewidth\":0,\"ticks\":\"\"},\"colorscale\":[[0.0,\"#0d0887\"],[0.1111111111111111,\"#46039f\"],[0.2222222222222222,\"#7201a8\"],[0.3333333333333333,\"#9c179e\"],[0.4444444444444444,\"#bd3786\"],[0.5555555555555556,\"#d8576b\"],[0.6666666666666666,\"#ed7953\"],[0.7777777777777778,\"#fb9f3a\"],[0.8888888888888888,\"#fdca26\"],[1.0,\"#f0f921\"]]}],\"heatmap\":[{\"type\":\"heatmap\",\"colorbar\":{\"outlinewidth\":0,\"ticks\":\"\"},\"colorscale\":[[0.0,\"#0d0887\"],[0.1111111111111111,\"#46039f\"],[0.2222222222222222,\"#7201a8\"],[0.3333333333333333,\"#9c179e\"],[0.4444444444444444,\"#bd3786\"],[0.5555555555555556,\"#d8576b\"],[0.6666666666666666,\"#ed7953\"],[0.7777777777777778,\"#fb9f3a\"],[0.8888888888888888,\"#fdca26\"],[1.0,\"#f0f921\"]]}],\"heatmapgl\":[{\"type\":\"heatmapgl\",\"colorbar\":{\"outlinewidth\":0,\"ticks\":\"\"},\"colorscale\":[[0.0,\"#0d0887\"],[0.1111111111111111,\"#46039f\"],[0.2222222222222222,\"#7201a8\"],[0.3333333333333333,\"#9c179e\"],[0.4444444444444444,\"#bd3786\"],[0.5555555555555556,\"#d8576b\"],[0.6666666666666666,\"#ed7953\"],[0.7777777777777778,\"#fb9f3a\"],[0.8888888888888888,\"#fdca26\"],[1.0,\"#f0f921\"]]}],\"contourcarpet\":[{\"type\":\"contourcarpet\",\"colorbar\":{\"outlinewidth\":0,\"ticks\":\"\"}}],\"contour\":[{\"type\":\"contour\",\"colorbar\":{\"outlinewidth\":0,\"ticks\":\"\"},\"colorscale\":[[0.0,\"#0d0887\"],[0.1111111111111111,\"#46039f\"],[0.2222222222222222,\"#7201a8\"],[0.3333333333333333,\"#9c179e\"],[0.4444444444444444,\"#bd3786\"],[0.5555555555555556,\"#d8576b\"],[0.6666666666666666,\"#ed7953\"],[0.7777777777777778,\"#fb9f3a\"],[0.8888888888888888,\"#fdca26\"],[1.0,\"#f0f921\"]]}],\"surface\":[{\"type\":\"surface\",\"colorbar\":{\"outlinewidth\":0,\"ticks\":\"\"},\"colorscale\":[[0.0,\"#0d0887\"],[0.1111111111111111,\"#46039f\"],[0.2222222222222222,\"#7201a8\"],[0.3333333333333333,\"#9c179e\"],[0.4444444444444444,\"#bd3786\"],[0.5555555555555556,\"#d8576b\"],[0.6666666666666666,\"#ed7953\"],[0.7777777777777778,\"#fb9f3a\"],[0.8888888888888888,\"#fdca26\"],[1.0,\"#f0f921\"]]}],\"mesh3d\":[{\"type\":\"mesh3d\",\"colorbar\":{\"outlinewidth\":0,\"ticks\":\"\"}}],\"scatter\":[{\"fillpattern\":{\"fillmode\":\"overlay\",\"size\":10,\"solidity\":0.2},\"type\":\"scatter\"}],\"parcoords\":[{\"type\":\"parcoords\",\"line\":{\"colorbar\":{\"outlinewidth\":0,\"ticks\":\"\"}}}],\"scatterpolargl\":[{\"type\":\"scatterpolargl\",\"marker\":{\"colorbar\":{\"outlinewidth\":0,\"ticks\":\"\"}}}],\"bar\":[{\"error_x\":{\"color\":\"#2a3f5f\"},\"error_y\":{\"color\":\"#2a3f5f\"},\"marker\":{\"line\":{\"color\":\"#E5ECF6\",\"width\":0.5},\"pattern\":{\"fillmode\":\"overlay\",\"size\":10,\"solidity\":0.2}},\"type\":\"bar\"}],\"scattergeo\":[{\"type\":\"scattergeo\",\"marker\":{\"colorbar\":{\"outlinewidth\":0,\"ticks\":\"\"}}}],\"scatterpolar\":[{\"type\":\"scatterpolar\",\"marker\":{\"colorbar\":{\"outlinewidth\":0,\"ticks\":\"\"}}}],\"histogram\":[{\"marker\":{\"pattern\":{\"fillmode\":\"overlay\",\"size\":10,\"solidity\":0.2}},\"type\":\"histogram\"}],\"scattergl\":[{\"type\":\"scattergl\",\"marker\":{\"colorbar\":{\"outlinewidth\":0,\"ticks\":\"\"}}}],\"scatter3d\":[{\"type\":\"scatter3d\",\"line\":{\"colorbar\":{\"outlinewidth\":0,\"ticks\":\"\"}},\"marker\":{\"colorbar\":{\"outlinewidth\":0,\"ticks\":\"\"}}}],\"scattermapbox\":[{\"type\":\"scattermapbox\",\"marker\":{\"colorbar\":{\"outlinewidth\":0,\"ticks\":\"\"}}}],\"scatterternary\":[{\"type\":\"scatterternary\",\"marker\":{\"colorbar\":{\"outlinewidth\":0,\"ticks\":\"\"}}}],\"scattercarpet\":[{\"type\":\"scattercarpet\",\"marker\":{\"colorbar\":{\"outlinewidth\":0,\"ticks\":\"\"}}}],\"carpet\":[{\"aaxis\":{\"endlinecolor\":\"#2a3f5f\",\"gridcolor\":\"white\",\"linecolor\":\"white\",\"minorgridcolor\":\"white\",\"startlinecolor\":\"#2a3f5f\"},\"baxis\":{\"endlinecolor\":\"#2a3f5f\",\"gridcolor\":\"white\",\"linecolor\":\"white\",\"minorgridcolor\":\"white\",\"startlinecolor\":\"#2a3f5f\"},\"type\":\"carpet\"}],\"table\":[{\"cells\":{\"fill\":{\"color\":\"#EBF0F8\"},\"line\":{\"color\":\"white\"}},\"header\":{\"fill\":{\"color\":\"#C8D4E3\"},\"line\":{\"color\":\"white\"}},\"type\":\"table\"}],\"barpolar\":[{\"marker\":{\"line\":{\"color\":\"#E5ECF6\",\"width\":0.5},\"pattern\":{\"fillmode\":\"overlay\",\"size\":10,\"solidity\":0.2}},\"type\":\"barpolar\"}],\"pie\":[{\"automargin\":true,\"type\":\"pie\"}]},\"layout\":{\"font\":{\"family\":\"Franklin Gothic\",\"size\":12}}},\"scene\":{\"domain\":{\"x\":[0.0,1.0],\"y\":[0.7333333333333334,1.0]},\"xaxis\":{\"title\":{\"text\":\"Spending Score\"},\"backgroundcolor\":\"#F3F3F3\",\"gridcolor\":\"white\",\"showbackground\":true,\"zerolinecolor\":\"white\"},\"yaxis\":{\"title\":{\"text\":\"Age, in years\"},\"backgroundcolor\":\"#E4E4E4\",\"gridcolor\":\"white\",\"showbackground\":true,\"zerolinecolor\":\"white\"},\"zaxis\":{\"title\":{\"text\":\"Income, $\"},\"ticksuffix\":\"k\",\"backgroundcolor\":\"#F6F6F6\",\"gridcolor\":\"white\",\"showbackground\":true,\"zerolinecolor\":\"white\"},\"aspectmode\":\"cube\"},\"scene2\":{\"domain\":{\"x\":[0.0,1.0],\"y\":[0.3666666666666667,0.6333333333333333]},\"xaxis\":{\"title\":{\"text\":\"Spending Score\"},\"backgroundcolor\":\"#F3F3F3\",\"gridcolor\":\"white\",\"showbackground\":true,\"zerolinecolor\":\"white\"},\"yaxis\":{\"title\":{\"text\":\"Age, in years\"},\"backgroundcolor\":\"#E4E4E4\",\"gridcolor\":\"white\",\"showbackground\":true,\"zerolinecolor\":\"white\"},\"zaxis\":{\"title\":{\"text\":\"Income, $\"},\"ticksuffix\":\"k\",\"backgroundcolor\":\"#F6F6F6\",\"gridcolor\":\"white\",\"showbackground\":true,\"zerolinecolor\":\"white\"},\"aspectmode\":\"cube\"},\"scene3\":{\"domain\":{\"x\":[0.0,1.0],\"y\":[0.0,0.26666666666666666]},\"xaxis\":{\"title\":{\"text\":\"Spending Score\"},\"backgroundcolor\":\"#F3F3F3\",\"gridcolor\":\"white\",\"showbackground\":true,\"zerolinecolor\":\"white\"},\"yaxis\":{\"title\":{\"text\":\"Age, in years\"},\"backgroundcolor\":\"#E4E4E4\",\"gridcolor\":\"white\",\"showbackground\":true,\"zerolinecolor\":\"white\"},\"zaxis\":{\"title\":{\"text\":\"Income, $\"},\"ticksuffix\":\"k\",\"backgroundcolor\":\"#F6F6F6\",\"gridcolor\":\"white\",\"showbackground\":true,\"zerolinecolor\":\"white\"},\"aspectmode\":\"cube\"},\"annotations\":[{\"font\":{\"size\":16},\"showarrow\":false,\"text\":\"K-Means Clustering with 5 clusters\",\"x\":0.5,\"xanchor\":\"center\",\"xref\":\"paper\",\"y\":1.0,\"yanchor\":\"bottom\",\"yref\":\"paper\"},{\"font\":{\"size\":16},\"showarrow\":false,\"text\":\"Hierarchical Clustering<br>with 3 clusters\",\"x\":0.5,\"xanchor\":\"center\",\"xref\":\"paper\",\"y\":0.6333333333333333,\"yanchor\":\"bottom\",\"yref\":\"paper\"},{\"font\":{\"size\":16},\"showarrow\":false,\"text\":\"DBSCAN<br>with 4 clusters\",\"x\":0.5,\"xanchor\":\"center\",\"xref\":\"paper\",\"y\":0.26666666666666666,\"yanchor\":\"bottom\",\"yref\":\"paper\"}],\"legend\":{\"tracegroupgap\":500},\"title\":{\"text\":\"Customer Segments based on Income, Spending, and Age\"},\"height\":1800},                        {\"responsive\": true}                    ).then(function(){\n",
       "                            \n",
       "var gd = document.getElementById('45d05653-d8c7-46fc-8afc-a5ddfe7a7537');\n",
       "var x = new MutationObserver(function (mutations, observer) {{\n",
       "        var display = window.getComputedStyle(gd).display;\n",
       "        if (!display || display === 'none') {{\n",
       "            console.log([gd, 'removed!']);\n",
       "            Plotly.purge(gd);\n",
       "            observer.disconnect();\n",
       "        }}\n",
       "}});\n",
       "\n",
       "// Listen for the removal of the full notebook cells\n",
       "var notebookContainer = gd.closest('#notebook-container');\n",
       "if (notebookContainer) {{\n",
       "    x.observe(notebookContainer, {childList: true});\n",
       "}}\n",
       "\n",
       "// Listen for the clearing of the current output cell\n",
       "var outputEl = gd.closest('.output');\n",
       "if (outputEl) {{\n",
       "    x.observe(outputEl, {childList: true});\n",
       "}}\n",
       "\n",
       "                        })                };                });            </script>        </div>"
      ]
     },
     "metadata": {},
     "output_type": "display_data"
    }
   ],
   "source": [
    "# Initializing figure with 3 3D subplots\n",
    "fig = make_subplots(rows=3, cols=1,\n",
    "                    vertical_spacing=0.1,\n",
    "                    specs=[[{'type': 'scatter3d'}],\n",
    "                           [{'type': 'scatter3d'}], \n",
    "                           [{'type': 'scatter3d'}]],\n",
    "                     subplot_titles=(\"K-Means Clustering with 5 clusters\", \n",
    "                                     \"Hierarchical Clustering<br>with 3 clusters\", \n",
    "                                     \"DBSCAN<br>with 4 clusters\")\n",
    "                   )\n",
    "\n",
    "# Adding clusters to scatterplots \n",
    "plot_km['K-Means Cluster'] = plot_km['K-Means Cluster'].astype(int)\n",
    "plot_km=plot_km.sort_values(by='K-Means Cluster')\n",
    "for i in range(0,5):\n",
    "    fig.add_trace(go.Scatter3d(x = plot_km[plot_km['K-Means Cluster'] == i]['Spending Score'],\n",
    "                               y = plot_km[plot_km['K-Means Cluster'] == i]['Age'],\n",
    "                               z = plot_km[plot_km['K-Means Cluster'] == i]['Annual Income'],                        \n",
    "                               mode = 'markers', marker=dict(\n",
    "                                   size=7,  \n",
    "                                   color = px.colors.qualitative.Prism[i],\n",
    "                                   line_width = 1,\n",
    "                                   line_color='#F7F7F7',\n",
    "                                   opacity=0.7),\n",
    "                               name = str('Cluster '+str(i)), legendgroup = 1),\n",
    "                 row=1, col=1)\n",
    "\n",
    "plot_hc['Hierarchical Cluster'] = plot_hc['Hierarchical Cluster'].astype(int)\n",
    "plot_hc=plot_hc.sort_values(by='Hierarchical Cluster')\n",
    "for i in range(0,3):    \n",
    "    fig.add_trace(go.Scatter3d(x = plot_hc[plot_hc['Hierarchical Cluster'] == i]['Spending Score'],\n",
    "                               y = plot_hc[plot_hc['Hierarchical Cluster'] == i]['Age'],\n",
    "                               z = plot_hc[plot_hc['Hierarchical Cluster'] == i]['Annual Income'],                        \n",
    "                               mode = 'markers', marker=dict(\n",
    "                                   size=7,   \n",
    "                                   color = px.colors.qualitative.Vivid[i+1],\n",
    "                                   line_width = 1, \n",
    "                                   line_color='#F7F7F7',\n",
    "                                   opacity=0.7),\n",
    "                               name = str('Hierarchical Cluster '+str(i)), legendgroup = 2), \n",
    "                  row=2, col=1)\n",
    "\n",
    "for i, j in enumerate(plot_db['DB Cluster'].unique()): \n",
    "    fig.add_trace(go.Scatter3d(x = plot_db[plot_db['DB Cluster'] == j]['Spending Score'],\n",
    "                               y = plot_db[plot_db['DB Cluster'] == j]['Age'],\n",
    "                               z = plot_db[plot_db['DB Cluster'] == j]['Annual Income'], \n",
    "                               mode = 'markers', marker=dict(\n",
    "                                   size=7,   \n",
    "                                   color = px.colors.qualitative.T10[i+2],\n",
    "                                   line_width = 1,\n",
    "                                   line_color='#F7F7F7',\n",
    "                                   opacity=0.8),\n",
    "                               name = str('DB Cluster '+str(j)), legendgroup = 3), \n",
    "                  row=3, col=1)\n",
    "\n",
    "fig.update_traces(hovertemplate='Customer Spending Score: %{x}<br>Income: $%{z}<br>Age: %{y}')\n",
    "fig.update_layout(title=\"Customer Segments based on Income, Spending, and Age\",\n",
    "                  template=temp, height=1800, legend_tracegroupgap = 500,\n",
    "                  scene=dict(aspectmode='cube',\n",
    "                             xaxis = dict(title='Spending Score', \n",
    "                                          backgroundcolor=\"#F3F3F3\",\n",
    "                                          gridcolor=\"white\",\n",
    "                                          showbackground=True,\n",
    "                                          zerolinecolor=\"white\",),\n",
    "                             yaxis = dict(title='Age, in years',\n",
    "                                          backgroundcolor=\"#E4E4E4\",\n",
    "                                          gridcolor=\"white\",\n",
    "                                          showbackground=True,\n",
    "                                          zerolinecolor=\"white\"),\n",
    "                             zaxis = dict(title='Income, $', \n",
    "                                          ticksuffix='k',\n",
    "                                          backgroundcolor=\"#F6F6F6\",\n",
    "                                          gridcolor=\"white\",\n",
    "                                          showbackground=True,\n",
    "                                          zerolinecolor=\"white\")), \n",
    "                  scene2=dict(aspectmode='cube', \n",
    "                             xaxis = dict(title='Spending Score',\n",
    "                                          backgroundcolor=\"#F3F3F3\",\n",
    "                                          gridcolor=\"white\",\n",
    "                                          showbackground=True,\n",
    "                                          zerolinecolor=\"white\",),\n",
    "                             yaxis = dict(title='Age, in years',\n",
    "                                          backgroundcolor=\"#E4E4E4\",\n",
    "                                          gridcolor=\"white\",\n",
    "                                          showbackground=True,\n",
    "                                          zerolinecolor=\"white\"),\n",
    "                             zaxis = dict(title='Income, $', \n",
    "                                          ticksuffix='k',\n",
    "                                          backgroundcolor=\"#F6F6F6\",\n",
    "                                          gridcolor=\"white\",\n",
    "                                          showbackground=True,\n",
    "                                          zerolinecolor=\"white\")), \n",
    "                  scene3=dict(aspectmode='cube', \n",
    "                             xaxis = dict(title='Spending Score',\n",
    "                                          backgroundcolor=\"#F3F3F3\",\n",
    "                                          gridcolor=\"white\",\n",
    "                                          showbackground=True,\n",
    "                                          zerolinecolor=\"white\",),\n",
    "                             yaxis = dict(title='Age, in years',\n",
    "                                          backgroundcolor=\"#E4E4E4\",\n",
    "                                          gridcolor=\"white\",\n",
    "                                          showbackground=True,\n",
    "                                          zerolinecolor=\"white\"),\n",
    "                             zaxis = dict(title='Income, $', \n",
    "                                          ticksuffix='k',\n",
    "                                          backgroundcolor=\"#F6F6F6\",\n",
    "                                          gridcolor=\"white\",\n",
    "                                          showbackground=True,\n",
    "                                          zerolinecolor=\"white\"))\n",
    "                  )\n",
    "fig.show()"
   ]
  },
  {
   "cell_type": "code",
   "execution_count": null,
   "id": "93462bdd",
   "metadata": {},
   "outputs": [],
   "source": []
  }
 ],
 "metadata": {
  "kernelspec": {
   "display_name": "Python 3 (ipykernel)",
   "language": "python",
   "name": "python3"
  },
  "language_info": {
   "codemirror_mode": {
    "name": "ipython",
    "version": 3
   },
   "file_extension": ".py",
   "mimetype": "text/x-python",
   "name": "python",
   "nbconvert_exporter": "python",
   "pygments_lexer": "ipython3",
   "version": "3.9.7"
  },
  "nbTranslate": {
   "displayLangs": [
    "tr",
    "en"
   ],
   "hotkey": "alt-t",
   "langInMainMenu": true,
   "sourceLang": "en",
   "targetLang": "tr",
   "useGoogleTranslate": true
  },
  "varInspector": {
   "cols": {
    "lenName": 16,
    "lenType": 16,
    "lenVar": 40
   },
   "kernels_config": {
    "python": {
     "delete_cmd_postfix": "",
     "delete_cmd_prefix": "del ",
     "library": "var_list.py",
     "varRefreshCmd": "print(var_dic_list())"
    },
    "r": {
     "delete_cmd_postfix": ") ",
     "delete_cmd_prefix": "rm(",
     "library": "var_list.r",
     "varRefreshCmd": "cat(var_dic_list()) "
    }
   },
   "types_to_exclude": [
    "module",
    "function",
    "builtin_function_or_method",
    "instance",
    "_Feature"
   ],
   "window_display": false
  }
 },
 "nbformat": 4,
 "nbformat_minor": 5
}
